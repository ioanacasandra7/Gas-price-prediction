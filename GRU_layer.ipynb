{
 "cells": [
  {
   "cell_type": "code",
   "execution_count": 1,
   "metadata": {},
   "outputs": [],
   "source": [
    "import requests\n",
    "from config import API_KEY\n",
    "import pandas as pd\n",
    "import numpy as np\n",
    "import matplotlib.pyplot as plt\n",
    "import datetime"
   ]
  },
  {
   "cell_type": "code",
   "execution_count": 2,
   "metadata": {},
   "outputs": [],
   "source": [
    "eastCoast = f\"http://api.eia.gov/series/?api_key={API_KEY}&series_id=PET.EMM_EPM0_PTE_R10_DPG.W\"\n",
    "midwest = f\"http://api.eia.gov/series/?api_key={API_KEY}&series_id=PET.EMM_EPM0_PTE_R20_DPG.W\"\n",
    "gulfCoast = f\"http://api.eia.gov/series/?api_key={API_KEY}&series_id=PET.EMM_EPM0_PTE_R30_DPG.W\"\n",
    "rockyMountain = f\"http://api.eia.gov/series/?api_key={API_KEY}&series_id=PET.EMM_EPM0_PTE_R40_DPG.W\"\n",
    "westCoast = f\"http://api.eia.gov/series/?api_key={API_KEY}&series_id=PET.EMM_EPM0_PTE_R50_DPG.W\""
   ]
  },
  {
   "cell_type": "code",
   "execution_count": 3,
   "metadata": {},
   "outputs": [],
   "source": [
    "eastCoast_df = pd.DataFrame(requests.get(eastCoast).json()['series'][0]['data'])\n",
    "midwest_df = pd.DataFrame(requests.get(midwest).json()['series'][0]['data'])\n",
    "gulfCoast_df = pd.DataFrame(requests.get(gulfCoast).json()['series'][0]['data'])\n",
    "rockyMountain_df = pd.DataFrame(requests.get(rockyMountain).json()['series'][0]['data'])\n",
    "westCoast_df = pd.DataFrame(requests.get(westCoast).json()['series'][0]['data'])"
   ]
  },
  {
   "cell_type": "code",
   "execution_count": 4,
   "metadata": {},
   "outputs": [],
   "source": [
    "eastCoast_df.rename(columns = {0:\"week\", 1:\"price_eastCoast\"}, inplace = True)\n",
    "midwest_df.rename(columns = {0:\"week\", 1:\"price_midwest\"}, inplace = True)\n",
    "gulfCoast_df.rename(columns = {0:\"week\", 1:\"price_gulfCoast\"}, inplace = True)\n",
    "rockyMountain_df.rename(columns = {0:\"week\", 1:\"price_rockyMountain\"}, inplace = True)\n",
    "westCoast_df.rename(columns = {0:\"week\", 1:\"price_westCoast\"}, inplace = True)"
   ]
  },
  {
   "cell_type": "code",
   "execution_count": 5,
   "metadata": {},
   "outputs": [],
   "source": [
    "eastCoast_df['week'] = pd.to_datetime(eastCoast_df['week'])\n",
    "midwest_df['week'] = pd.to_datetime(midwest_df['week'])\n",
    "gulfCoast_df['week'] = pd.to_datetime(gulfCoast_df['week'])\n",
    "rockyMountain_df['week'] = pd.to_datetime(rockyMountain_df['week'])\n",
    "westCoast_df['week'] = pd.to_datetime(westCoast_df['week'])"
   ]
  },
  {
   "cell_type": "code",
   "execution_count": 6,
   "metadata": {},
   "outputs": [],
   "source": [
    "prices_df = eastCoast_df.merge(midwest_df , on = \"week\", suffixes=('', ''))\\\n",
    "            .merge(gulfCoast_df , on = \"week\", suffixes=('', ''))\\\n",
    "            .merge(rockyMountain_df , on = \"week\", suffixes=('', ''))\\\n",
    "            .merge(westCoast_df , on = \"week\", suffixes=('', ''))"
   ]
  },
  {
   "cell_type": "code",
   "execution_count": 7,
   "metadata": {},
   "outputs": [],
   "source": [
    "regions = [\"eastCoast\", \"midwest\", \"gulfCoast\", \"rockyMountain\", \"westCoast\"]\n",
    "for region in regions:\n",
    "    prices_df['change_' + region] = prices_df['price_' + region].diff()"
   ]
  },
  {
   "cell_type": "code",
   "execution_count": 8,
   "metadata": {},
   "outputs": [
    {
     "data": {
      "text/html": [
       "<div>\n",
       "<style scoped>\n",
       "    .dataframe tbody tr th:only-of-type {\n",
       "        vertical-align: middle;\n",
       "    }\n",
       "\n",
       "    .dataframe tbody tr th {\n",
       "        vertical-align: top;\n",
       "    }\n",
       "\n",
       "    .dataframe thead th {\n",
       "        text-align: right;\n",
       "    }\n",
       "</style>\n",
       "<table border=\"1\" class=\"dataframe\">\n",
       "  <thead>\n",
       "    <tr style=\"text-align: right;\">\n",
       "      <th></th>\n",
       "      <th>week</th>\n",
       "      <th>price_eastCoast</th>\n",
       "      <th>price_midwest</th>\n",
       "      <th>price_gulfCoast</th>\n",
       "      <th>price_rockyMountain</th>\n",
       "      <th>price_westCoast</th>\n",
       "      <th>change_eastCoast</th>\n",
       "      <th>change_midwest</th>\n",
       "      <th>change_gulfCoast</th>\n",
       "      <th>change_rockyMountain</th>\n",
       "      <th>change_westCoast</th>\n",
       "    </tr>\n",
       "  </thead>\n",
       "  <tbody>\n",
       "    <tr>\n",
       "      <th>0</th>\n",
       "      <td>2020-11-16</td>\n",
       "      <td>2.152</td>\n",
       "      <td>2.021</td>\n",
       "      <td>1.858</td>\n",
       "      <td>2.300</td>\n",
       "      <td>2.864</td>\n",
       "      <td>NaN</td>\n",
       "      <td>NaN</td>\n",
       "      <td>NaN</td>\n",
       "      <td>NaN</td>\n",
       "      <td>NaN</td>\n",
       "    </tr>\n",
       "    <tr>\n",
       "      <th>1</th>\n",
       "      <td>2020-11-09</td>\n",
       "      <td>2.127</td>\n",
       "      <td>2.025</td>\n",
       "      <td>1.823</td>\n",
       "      <td>2.304</td>\n",
       "      <td>2.863</td>\n",
       "      <td>-0.025</td>\n",
       "      <td>0.004</td>\n",
       "      <td>-0.035</td>\n",
       "      <td>0.004</td>\n",
       "      <td>-0.001</td>\n",
       "    </tr>\n",
       "    <tr>\n",
       "      <th>2</th>\n",
       "      <td>2020-11-02</td>\n",
       "      <td>2.149</td>\n",
       "      <td>2.026</td>\n",
       "      <td>1.862</td>\n",
       "      <td>2.320</td>\n",
       "      <td>2.869</td>\n",
       "      <td>0.022</td>\n",
       "      <td>0.001</td>\n",
       "      <td>0.039</td>\n",
       "      <td>0.016</td>\n",
       "      <td>0.006</td>\n",
       "    </tr>\n",
       "    <tr>\n",
       "      <th>3</th>\n",
       "      <td>2020-10-26</td>\n",
       "      <td>2.173</td>\n",
       "      <td>2.069</td>\n",
       "      <td>1.908</td>\n",
       "      <td>2.340</td>\n",
       "      <td>2.882</td>\n",
       "      <td>0.024</td>\n",
       "      <td>0.043</td>\n",
       "      <td>0.046</td>\n",
       "      <td>0.020</td>\n",
       "      <td>0.013</td>\n",
       "    </tr>\n",
       "    <tr>\n",
       "      <th>4</th>\n",
       "      <td>2020-10-19</td>\n",
       "      <td>2.196</td>\n",
       "      <td>2.057</td>\n",
       "      <td>1.905</td>\n",
       "      <td>2.359</td>\n",
       "      <td>2.887</td>\n",
       "      <td>0.023</td>\n",
       "      <td>-0.012</td>\n",
       "      <td>-0.003</td>\n",
       "      <td>0.019</td>\n",
       "      <td>0.005</td>\n",
       "    </tr>\n",
       "    <tr>\n",
       "      <th>...</th>\n",
       "      <td>...</td>\n",
       "      <td>...</td>\n",
       "      <td>...</td>\n",
       "      <td>...</td>\n",
       "      <td>...</td>\n",
       "      <td>...</td>\n",
       "      <td>...</td>\n",
       "      <td>...</td>\n",
       "      <td>...</td>\n",
       "      <td>...</td>\n",
       "      <td>...</td>\n",
       "    </tr>\n",
       "    <tr>\n",
       "      <th>1437</th>\n",
       "      <td>1993-05-03</td>\n",
       "      <td>1.062</td>\n",
       "      <td>1.073</td>\n",
       "      <td>1.084</td>\n",
       "      <td>1.161</td>\n",
       "      <td>1.161</td>\n",
       "      <td>-0.007</td>\n",
       "      <td>-0.018</td>\n",
       "      <td>-0.004</td>\n",
       "      <td>0.018</td>\n",
       "      <td>-0.010</td>\n",
       "    </tr>\n",
       "    <tr>\n",
       "      <th>1438</th>\n",
       "      <td>1993-04-26</td>\n",
       "      <td>1.059</td>\n",
       "      <td>1.078</td>\n",
       "      <td>1.081</td>\n",
       "      <td>1.169</td>\n",
       "      <td>1.157</td>\n",
       "      <td>-0.003</td>\n",
       "      <td>0.005</td>\n",
       "      <td>-0.003</td>\n",
       "      <td>0.008</td>\n",
       "      <td>-0.004</td>\n",
       "    </tr>\n",
       "    <tr>\n",
       "      <th>1439</th>\n",
       "      <td>1993-04-19</td>\n",
       "      <td>1.054</td>\n",
       "      <td>1.067</td>\n",
       "      <td>1.081</td>\n",
       "      <td>1.120</td>\n",
       "      <td>1.155</td>\n",
       "      <td>-0.005</td>\n",
       "      <td>-0.011</td>\n",
       "      <td>0.000</td>\n",
       "      <td>-0.049</td>\n",
       "      <td>-0.002</td>\n",
       "    </tr>\n",
       "    <tr>\n",
       "      <th>1440</th>\n",
       "      <td>1993-04-12</td>\n",
       "      <td>1.047</td>\n",
       "      <td>1.077</td>\n",
       "      <td>1.071</td>\n",
       "      <td>1.118</td>\n",
       "      <td>1.154</td>\n",
       "      <td>-0.007</td>\n",
       "      <td>0.010</td>\n",
       "      <td>-0.010</td>\n",
       "      <td>-0.002</td>\n",
       "      <td>-0.001</td>\n",
       "    </tr>\n",
       "    <tr>\n",
       "      <th>1441</th>\n",
       "      <td>1993-04-05</td>\n",
       "      <td>1.040</td>\n",
       "      <td>1.061</td>\n",
       "      <td>1.064</td>\n",
       "      <td>1.093</td>\n",
       "      <td>1.152</td>\n",
       "      <td>-0.007</td>\n",
       "      <td>-0.016</td>\n",
       "      <td>-0.007</td>\n",
       "      <td>-0.025</td>\n",
       "      <td>-0.002</td>\n",
       "    </tr>\n",
       "  </tbody>\n",
       "</table>\n",
       "<p>1442 rows × 11 columns</p>\n",
       "</div>"
      ],
      "text/plain": [
       "           week  price_eastCoast  price_midwest  price_gulfCoast  \\\n",
       "0    2020-11-16            2.152          2.021            1.858   \n",
       "1    2020-11-09            2.127          2.025            1.823   \n",
       "2    2020-11-02            2.149          2.026            1.862   \n",
       "3    2020-10-26            2.173          2.069            1.908   \n",
       "4    2020-10-19            2.196          2.057            1.905   \n",
       "...         ...              ...            ...              ...   \n",
       "1437 1993-05-03            1.062          1.073            1.084   \n",
       "1438 1993-04-26            1.059          1.078            1.081   \n",
       "1439 1993-04-19            1.054          1.067            1.081   \n",
       "1440 1993-04-12            1.047          1.077            1.071   \n",
       "1441 1993-04-05            1.040          1.061            1.064   \n",
       "\n",
       "      price_rockyMountain  price_westCoast  change_eastCoast  change_midwest  \\\n",
       "0                   2.300            2.864               NaN             NaN   \n",
       "1                   2.304            2.863            -0.025           0.004   \n",
       "2                   2.320            2.869             0.022           0.001   \n",
       "3                   2.340            2.882             0.024           0.043   \n",
       "4                   2.359            2.887             0.023          -0.012   \n",
       "...                   ...              ...               ...             ...   \n",
       "1437                1.161            1.161            -0.007          -0.018   \n",
       "1438                1.169            1.157            -0.003           0.005   \n",
       "1439                1.120            1.155            -0.005          -0.011   \n",
       "1440                1.118            1.154            -0.007           0.010   \n",
       "1441                1.093            1.152            -0.007          -0.016   \n",
       "\n",
       "      change_gulfCoast  change_rockyMountain  change_westCoast  \n",
       "0                  NaN                   NaN               NaN  \n",
       "1               -0.035                 0.004            -0.001  \n",
       "2                0.039                 0.016             0.006  \n",
       "3                0.046                 0.020             0.013  \n",
       "4               -0.003                 0.019             0.005  \n",
       "...                ...                   ...               ...  \n",
       "1437            -0.004                 0.018            -0.010  \n",
       "1438            -0.003                 0.008            -0.004  \n",
       "1439             0.000                -0.049            -0.002  \n",
       "1440            -0.010                -0.002            -0.001  \n",
       "1441            -0.007                -0.025            -0.002  \n",
       "\n",
       "[1442 rows x 11 columns]"
      ]
     },
     "execution_count": 8,
     "metadata": {},
     "output_type": "execute_result"
    }
   ],
   "source": [
    "prices_df"
   ]
  },
  {
   "cell_type": "code",
   "execution_count": 9,
   "metadata": {},
   "outputs": [],
   "source": [
    "prices_df.dropna(inplace =True)"
   ]
  },
  {
   "cell_type": "code",
   "execution_count": 10,
   "metadata": {},
   "outputs": [
    {
     "data": {
      "text/plain": [
       "<AxesSubplot:xlabel='week'>"
      ]
     },
     "execution_count": 10,
     "metadata": {},
     "output_type": "execute_result"
    },
    {
     "data": {
      "image/png": "[encoded data removed]",
      "text/plain": [
       "<Figure size 432x288 with 1 Axes>"
      ]
     },
     "metadata": {
      "needs_background": "light"
     },
     "output_type": "display_data"
    }
   ],
   "source": [
    "prices_df.plot(x = 'week', y=[\"change_eastCoast\", \"change_midwest\", \"change_gulfCoast\", \"change_rockyMountain\", \"change_westCoast\"])"
   ]
  },
  {
   "cell_type": "code",
   "execution_count": 11,
   "metadata": {},
   "outputs": [],
   "source": [
    "WTI = f\"http://api.eia.gov/series/?api_key={API_KEY}&series_id=PET.RWTC.W\""
   ]
  },
  {
   "cell_type": "code",
   "execution_count": 12,
   "metadata": {},
   "outputs": [],
   "source": [
    "WTI_df = pd.DataFrame(requests.get(WTI).json()['series'][0]['data'])"
   ]
  },
  {
   "cell_type": "code",
   "execution_count": 13,
   "metadata": {},
   "outputs": [],
   "source": [
    "WTI_df.rename(columns = {0:\"week\", 1:\"WTI_spotPrice\"}, inplace = True)"
   ]
  },
  {
   "cell_type": "code",
   "execution_count": 14,
   "metadata": {},
   "outputs": [],
   "source": [
    "WTI_df['week'] = pd.to_datetime(WTI_df['week']) + datetime.timedelta(days = 3)"
   ]
  },
  {
   "cell_type": "code",
   "execution_count": 15,
   "metadata": {},
   "outputs": [],
   "source": [
    "WTI_df ['change_WTI'] = WTI_df['WTI_spotPrice'].diff()"
   ]
  },
  {
   "cell_type": "code",
   "execution_count": 16,
   "metadata": {},
   "outputs": [],
   "source": [
    "#normalize WTI_change so that it is about the size of gas Price changes (100 is somewhat arbitrary)\n",
    "WTI_df ['change_WTI_normalized'] = WTI_df ['change_WTI'] / 100"
   ]
  },
  {
   "cell_type": "code",
   "execution_count": 17,
   "metadata": {},
   "outputs": [],
   "source": [
    "combined_df = prices_df.merge(WTI_df, on = 'week', suffixes=(\"\",\"\"))"
   ]
  },
  {
   "cell_type": "code",
   "execution_count": 18,
   "metadata": {},
   "outputs": [],
   "source": [
    "petroleum_export = f\"http://api.eia.gov/series/?api_key={API_KEY}&series_id=PET.WTTEXUS2.W\"\n",
    "petroleum_import = f\"http://api.eia.gov/series/?api_key={API_KEY}&series_id=PET.WTTIMUS2.W\""
   ]
  },
  {
   "cell_type": "code",
   "execution_count": 19,
   "metadata": {},
   "outputs": [],
   "source": [
    "export_df = pd.DataFrame(requests.get(petroleum_export).json()['series'][0]['data'])\n",
    "import_df = pd.DataFrame(requests.get(petroleum_import).json()['series'][0]['data'])"
   ]
  },
  {
   "cell_type": "code",
   "execution_count": 20,
   "metadata": {},
   "outputs": [],
   "source": [
    "export_df.rename(columns = {0:\"week\", 1:\"export_barrels\"}, inplace = True)\n",
    "import_df.rename(columns = {0:\"week\", 1:\"import_barrels\"}, inplace = True)"
   ]
  },
  {
   "cell_type": "code",
   "execution_count": 21,
   "metadata": {},
   "outputs": [],
   "source": [
    "export_df['week'] = pd.to_datetime(eastCoast_df['week'])\n",
    "import_df['week'] = pd.to_datetime(midwest_df['week'])"
   ]
  },
  {
   "cell_type": "code",
   "execution_count": 22,
   "metadata": {},
   "outputs": [],
   "source": [
    "#normalize number of import/export barrels (1000000 is somehwat arbitrary)\n",
    "export_df['export_barrels_normalized'] = export_df['export_barrels']/100000\n",
    "import_df['import_barrels_normalized'] = import_df['import_barrels']/100000"
   ]
  },
  {
   "cell_type": "code",
   "execution_count": 23,
   "metadata": {},
   "outputs": [],
   "source": [
    "combined_df = combined_df.merge(export_df, on = 'week', suffixes=(\"\",\"\"))\\\n",
    "          .merge(import_df, on = 'week', suffixes=(\"\",\"\"))"
   ]
  },
  {
   "cell_type": "code",
   "execution_count": 24,
   "metadata": {},
   "outputs": [
    {
     "data": {
      "text/html": [
       "<div>\n",
       "<style scoped>\n",
       "    .dataframe tbody tr th:only-of-type {\n",
       "        vertical-align: middle;\n",
       "    }\n",
       "\n",
       "    .dataframe tbody tr th {\n",
       "        vertical-align: top;\n",
       "    }\n",
       "\n",
       "    .dataframe thead th {\n",
       "        text-align: right;\n",
       "    }\n",
       "</style>\n",
       "<table border=\"1\" class=\"dataframe\">\n",
       "  <thead>\n",
       "    <tr style=\"text-align: right;\">\n",
       "      <th></th>\n",
       "      <th>week</th>\n",
       "      <th>price_eastCoast</th>\n",
       "      <th>price_midwest</th>\n",
       "      <th>price_gulfCoast</th>\n",
       "      <th>price_rockyMountain</th>\n",
       "      <th>price_westCoast</th>\n",
       "      <th>change_eastCoast</th>\n",
       "      <th>change_midwest</th>\n",
       "      <th>change_gulfCoast</th>\n",
       "      <th>change_rockyMountain</th>\n",
       "      <th>change_westCoast</th>\n",
       "      <th>WTI_spotPrice</th>\n",
       "      <th>change_WTI</th>\n",
       "      <th>change_WTI_normalized</th>\n",
       "      <th>export_barrels</th>\n",
       "      <th>export_barrels_normalized</th>\n",
       "      <th>import_barrels</th>\n",
       "      <th>import_barrels_normalized</th>\n",
       "    </tr>\n",
       "  </thead>\n",
       "  <tbody>\n",
       "    <tr>\n",
       "      <th>0</th>\n",
       "      <td>2020-11-09</td>\n",
       "      <td>2.127</td>\n",
       "      <td>2.025</td>\n",
       "      <td>1.823</td>\n",
       "      <td>2.304</td>\n",
       "      <td>2.863</td>\n",
       "      <td>-0.025</td>\n",
       "      <td>0.004</td>\n",
       "      <td>-0.035</td>\n",
       "      <td>0.004</td>\n",
       "      <td>-0.001</td>\n",
       "      <td>37.71</td>\n",
       "      <td>-2.95</td>\n",
       "      <td>-0.0295</td>\n",
       "      <td>7566</td>\n",
       "      <td>0.07566</td>\n",
       "      <td>7386</td>\n",
       "      <td>0.07386</td>\n",
       "    </tr>\n",
       "    <tr>\n",
       "      <th>1</th>\n",
       "      <td>2020-11-02</td>\n",
       "      <td>2.149</td>\n",
       "      <td>2.026</td>\n",
       "      <td>1.862</td>\n",
       "      <td>2.320</td>\n",
       "      <td>2.869</td>\n",
       "      <td>0.022</td>\n",
       "      <td>0.001</td>\n",
       "      <td>0.039</td>\n",
       "      <td>0.016</td>\n",
       "      <td>0.006</td>\n",
       "      <td>37.32</td>\n",
       "      <td>-0.39</td>\n",
       "      <td>-0.0039</td>\n",
       "      <td>7568</td>\n",
       "      <td>0.07568</td>\n",
       "      <td>6767</td>\n",
       "      <td>0.06767</td>\n",
       "    </tr>\n",
       "    <tr>\n",
       "      <th>2</th>\n",
       "      <td>2020-10-26</td>\n",
       "      <td>2.173</td>\n",
       "      <td>2.069</td>\n",
       "      <td>1.908</td>\n",
       "      <td>2.340</td>\n",
       "      <td>2.882</td>\n",
       "      <td>0.024</td>\n",
       "      <td>0.043</td>\n",
       "      <td>0.046</td>\n",
       "      <td>0.020</td>\n",
       "      <td>0.013</td>\n",
       "      <td>40.43</td>\n",
       "      <td>3.11</td>\n",
       "      <td>0.0311</td>\n",
       "      <td>8082</td>\n",
       "      <td>0.08082</td>\n",
       "      <td>7966</td>\n",
       "      <td>0.07966</td>\n",
       "    </tr>\n",
       "    <tr>\n",
       "      <th>3</th>\n",
       "      <td>2020-10-19</td>\n",
       "      <td>2.196</td>\n",
       "      <td>2.057</td>\n",
       "      <td>1.905</td>\n",
       "      <td>2.359</td>\n",
       "      <td>2.887</td>\n",
       "      <td>0.023</td>\n",
       "      <td>-0.012</td>\n",
       "      <td>-0.003</td>\n",
       "      <td>0.019</td>\n",
       "      <td>0.005</td>\n",
       "      <td>40.33</td>\n",
       "      <td>-0.10</td>\n",
       "      <td>-0.0010</td>\n",
       "      <td>8028</td>\n",
       "      <td>0.08028</td>\n",
       "      <td>6968</td>\n",
       "      <td>0.06968</td>\n",
       "    </tr>\n",
       "    <tr>\n",
       "      <th>4</th>\n",
       "      <td>2020-10-12</td>\n",
       "      <td>2.209</td>\n",
       "      <td>2.089</td>\n",
       "      <td>1.914</td>\n",
       "      <td>2.367</td>\n",
       "      <td>2.895</td>\n",
       "      <td>0.013</td>\n",
       "      <td>0.032</td>\n",
       "      <td>0.009</td>\n",
       "      <td>0.008</td>\n",
       "      <td>0.008</td>\n",
       "      <td>40.19</td>\n",
       "      <td>-0.14</td>\n",
       "      <td>-0.0014</td>\n",
       "      <td>7525</td>\n",
       "      <td>0.07525</td>\n",
       "      <td>7321</td>\n",
       "      <td>0.07321</td>\n",
       "    </tr>\n",
       "    <tr>\n",
       "      <th>...</th>\n",
       "      <td>...</td>\n",
       "      <td>...</td>\n",
       "      <td>...</td>\n",
       "      <td>...</td>\n",
       "      <td>...</td>\n",
       "      <td>...</td>\n",
       "      <td>...</td>\n",
       "      <td>...</td>\n",
       "      <td>...</td>\n",
       "      <td>...</td>\n",
       "      <td>...</td>\n",
       "      <td>...</td>\n",
       "      <td>...</td>\n",
       "      <td>...</td>\n",
       "      <td>...</td>\n",
       "      <td>...</td>\n",
       "      <td>...</td>\n",
       "      <td>...</td>\n",
       "    </tr>\n",
       "    <tr>\n",
       "      <th>1436</th>\n",
       "      <td>1993-05-03</td>\n",
       "      <td>1.062</td>\n",
       "      <td>1.073</td>\n",
       "      <td>1.084</td>\n",
       "      <td>1.161</td>\n",
       "      <td>1.161</td>\n",
       "      <td>-0.007</td>\n",
       "      <td>-0.018</td>\n",
       "      <td>-0.004</td>\n",
       "      <td>0.018</td>\n",
       "      <td>-0.010</td>\n",
       "      <td>20.30</td>\n",
       "      <td>-0.17</td>\n",
       "      <td>-0.0017</td>\n",
       "      <td>981</td>\n",
       "      <td>0.00981</td>\n",
       "      <td>9418</td>\n",
       "      <td>0.09418</td>\n",
       "    </tr>\n",
       "    <tr>\n",
       "      <th>1437</th>\n",
       "      <td>1993-04-26</td>\n",
       "      <td>1.059</td>\n",
       "      <td>1.078</td>\n",
       "      <td>1.081</td>\n",
       "      <td>1.169</td>\n",
       "      <td>1.157</td>\n",
       "      <td>-0.003</td>\n",
       "      <td>0.005</td>\n",
       "      <td>-0.003</td>\n",
       "      <td>0.008</td>\n",
       "      <td>-0.004</td>\n",
       "      <td>19.95</td>\n",
       "      <td>-0.35</td>\n",
       "      <td>-0.0035</td>\n",
       "      <td>986</td>\n",
       "      <td>0.00986</td>\n",
       "      <td>8715</td>\n",
       "      <td>0.08715</td>\n",
       "    </tr>\n",
       "    <tr>\n",
       "      <th>1438</th>\n",
       "      <td>1993-04-19</td>\n",
       "      <td>1.054</td>\n",
       "      <td>1.067</td>\n",
       "      <td>1.081</td>\n",
       "      <td>1.120</td>\n",
       "      <td>1.155</td>\n",
       "      <td>-0.005</td>\n",
       "      <td>-0.011</td>\n",
       "      <td>0.000</td>\n",
       "      <td>-0.049</td>\n",
       "      <td>-0.002</td>\n",
       "      <td>20.28</td>\n",
       "      <td>0.33</td>\n",
       "      <td>0.0033</td>\n",
       "      <td>986</td>\n",
       "      <td>0.00986</td>\n",
       "      <td>7976</td>\n",
       "      <td>0.07976</td>\n",
       "    </tr>\n",
       "    <tr>\n",
       "      <th>1439</th>\n",
       "      <td>1993-04-12</td>\n",
       "      <td>1.047</td>\n",
       "      <td>1.077</td>\n",
       "      <td>1.071</td>\n",
       "      <td>1.118</td>\n",
       "      <td>1.154</td>\n",
       "      <td>-0.007</td>\n",
       "      <td>0.010</td>\n",
       "      <td>-0.010</td>\n",
       "      <td>-0.002</td>\n",
       "      <td>-0.001</td>\n",
       "      <td>20.37</td>\n",
       "      <td>0.09</td>\n",
       "      <td>0.0009</td>\n",
       "      <td>986</td>\n",
       "      <td>0.00986</td>\n",
       "      <td>8956</td>\n",
       "      <td>0.08956</td>\n",
       "    </tr>\n",
       "    <tr>\n",
       "      <th>1440</th>\n",
       "      <td>1993-04-05</td>\n",
       "      <td>1.040</td>\n",
       "      <td>1.061</td>\n",
       "      <td>1.064</td>\n",
       "      <td>1.093</td>\n",
       "      <td>1.152</td>\n",
       "      <td>-0.007</td>\n",
       "      <td>-0.016</td>\n",
       "      <td>-0.007</td>\n",
       "      <td>-0.025</td>\n",
       "      <td>-0.002</td>\n",
       "      <td>20.44</td>\n",
       "      <td>0.07</td>\n",
       "      <td>0.0007</td>\n",
       "      <td>986</td>\n",
       "      <td>0.00986</td>\n",
       "      <td>7501</td>\n",
       "      <td>0.07501</td>\n",
       "    </tr>\n",
       "  </tbody>\n",
       "</table>\n",
       "<p>1441 rows × 18 columns</p>\n",
       "</div>"
      ],
      "text/plain": [
       "           week  price_eastCoast  price_midwest  price_gulfCoast  \\\n",
       "0    2020-11-09            2.127          2.025            1.823   \n",
       "1    2020-11-02            2.149          2.026            1.862   \n",
       "2    2020-10-26            2.173          2.069            1.908   \n",
       "3    2020-10-19            2.196          2.057            1.905   \n",
       "4    2020-10-12            2.209          2.089            1.914   \n",
       "...         ...              ...            ...              ...   \n",
       "1436 1993-05-03            1.062          1.073            1.084   \n",
       "1437 1993-04-26            1.059          1.078            1.081   \n",
       "1438 1993-04-19            1.054          1.067            1.081   \n",
       "1439 1993-04-12            1.047          1.077            1.071   \n",
       "1440 1993-04-05            1.040          1.061            1.064   \n",
       "\n",
       "      price_rockyMountain  price_westCoast  change_eastCoast  change_midwest  \\\n",
       "0                   2.304            2.863            -0.025           0.004   \n",
       "1                   2.320            2.869             0.022           0.001   \n",
       "2                   2.340            2.882             0.024           0.043   \n",
       "3                   2.359            2.887             0.023          -0.012   \n",
       "4                   2.367            2.895             0.013           0.032   \n",
       "...                   ...              ...               ...             ...   \n",
       "1436                1.161            1.161            -0.007          -0.018   \n",
       "1437                1.169            1.157            -0.003           0.005   \n",
       "1438                1.120            1.155            -0.005          -0.011   \n",
       "1439                1.118            1.154            -0.007           0.010   \n",
       "1440                1.093            1.152            -0.007          -0.016   \n",
       "\n",
       "      change_gulfCoast  change_rockyMountain  change_westCoast  WTI_spotPrice  \\\n",
       "0               -0.035                 0.004            -0.001          37.71   \n",
       "1                0.039                 0.016             0.006          37.32   \n",
       "2                0.046                 0.020             0.013          40.43   \n",
       "3               -0.003                 0.019             0.005          40.33   \n",
       "4                0.009                 0.008             0.008          40.19   \n",
       "...                ...                   ...               ...            ...   \n",
       "1436            -0.004                 0.018            -0.010          20.30   \n",
       "1437            -0.003                 0.008            -0.004          19.95   \n",
       "1438             0.000                -0.049            -0.002          20.28   \n",
       "1439            -0.010                -0.002            -0.001          20.37   \n",
       "1440            -0.007                -0.025            -0.002          20.44   \n",
       "\n",
       "      change_WTI  change_WTI_normalized  export_barrels  \\\n",
       "0          -2.95                -0.0295            7566   \n",
       "1          -0.39                -0.0039            7568   \n",
       "2           3.11                 0.0311            8082   \n",
       "3          -0.10                -0.0010            8028   \n",
       "4          -0.14                -0.0014            7525   \n",
       "...          ...                    ...             ...   \n",
       "1436       -0.17                -0.0017             981   \n",
       "1437       -0.35                -0.0035             986   \n",
       "1438        0.33                 0.0033             986   \n",
       "1439        0.09                 0.0009             986   \n",
       "1440        0.07                 0.0007             986   \n",
       "\n",
       "      export_barrels_normalized  import_barrels  import_barrels_normalized  \n",
       "0                       0.07566            7386                    0.07386  \n",
       "1                       0.07568            6767                    0.06767  \n",
       "2                       0.08082            7966                    0.07966  \n",
       "3                       0.08028            6968                    0.06968  \n",
       "4                       0.07525            7321                    0.07321  \n",
       "...                         ...             ...                        ...  \n",
       "1436                    0.00981            9418                    0.09418  \n",
       "1437                    0.00986            8715                    0.08715  \n",
       "1438                    0.00986            7976                    0.07976  \n",
       "1439                    0.00986            8956                    0.08956  \n",
       "1440                    0.00986            7501                    0.07501  \n",
       "\n",
       "[1441 rows x 18 columns]"
      ]
     },
     "execution_count": 24,
     "metadata": {},
     "output_type": "execute_result"
    }
   ],
   "source": [
    "combined_df"
   ]
  },
  {
   "cell_type": "code",
   "execution_count": 25,
   "metadata": {},
   "outputs": [],
   "source": [
    "#train test split\n",
    "train_size = int(0.8 * len(prices_df))\n",
    "combined_df_train = combined_df.iloc[0:train_size]\n",
    "combined_df_test = combined_df.iloc[train_size:]"
   ]
  },
  {
   "cell_type": "code",
   "execution_count": 26,
   "metadata": {},
   "outputs": [],
   "source": [
    "#function for making windows\n",
    "def make_windows(X, y, time_steps=1):\n",
    "    Xs, ys = [], []\n",
    "    for i in range(len(X) - time_steps):\n",
    "        v = X.iloc[i:(i + time_steps)].values\n",
    "        Xs.append(v)\n",
    "        ys.append(y.iloc[i + time_steps])\n",
    "    return np.array(Xs), np.array(ys)"
   ]
  },
  {
   "cell_type": "code",
   "execution_count": 27,
   "metadata": {},
   "outputs": [
    {
     "name": "stdout",
     "output_type": "stream",
     "text": [
      "(1148, 4, 8) (1148, 8) (285, 4, 8) (285, 8)\n"
     ]
    }
   ],
   "source": [
    "time_steps = 4\n",
    "X_train, y_train = make_windows(combined_df_train[['export_barrels_normalized', 'import_barrels_normalized', 'change_WTI_normalized', \"change_eastCoast\", \"change_midwest\", \"change_gulfCoast\", \"change_rockyMountain\", \"change_westCoast\"]], combined_df_train[['export_barrels_normalized', 'import_barrels_normalized', 'change_WTI_normalized', \"change_eastCoast\", \"change_midwest\", \"change_gulfCoast\", \"change_rockyMountain\", \"change_westCoast\"]], time_steps)\n",
    "X_test, y_test = make_windows(combined_df_test[['export_barrels_normalized', 'import_barrels_normalized', 'change_WTI_normalized', \"change_eastCoast\", \"change_midwest\", \"change_gulfCoast\", \"change_rockyMountain\", \"change_westCoast\"]], combined_df_test[['export_barrels_normalized', 'import_barrels_normalized', 'change_WTI_normalized', \"change_eastCoast\", \"change_midwest\", \"change_gulfCoast\", \"change_rockyMountain\", \"change_westCoast\"]], time_steps)\n",
    "print(X_train.shape, y_train.shape, X_test.shape, y_test.shape)"
   ]
  },
  {
   "cell_type": "code",
   "execution_count": 28,
   "metadata": {},
   "outputs": [],
   "source": [
    "from tensorflow import keras\n",
    "import tensorflow as tf\n",
    "from tensorflow.keras import layers"
   ]
  },
  {
   "cell_type": "code",
   "execution_count": 29,
   "metadata": {},
   "outputs": [
    {
     "data": {
      "text/plain": [
       "'2.3.1'"
      ]
     },
     "execution_count": 29,
     "metadata": {},
     "output_type": "execute_result"
    }
   ],
   "source": [
    "tf.__version__"
   ]
  },
  {
   "cell_type": "code",
   "execution_count": 30,
   "metadata": {},
   "outputs": [],
   "source": [
    "model = keras.models.Sequential([\n",
    "    keras.Input(shape=(X_train.shape[1],X_train.shape[2])),\n",
    "])\n",
    "model.add(\n",
    "    layers.GRU(8,return_sequences=False, activation='relu')\n",
    ")\n",
    "model.add(layers.Dense(8))"
   ]
  },
  {
   "cell_type": "code",
   "execution_count": 31,
   "metadata": {},
   "outputs": [
    {
     "data": {
      "text/plain": [
       "(None, 8)"
      ]
     },
     "execution_count": 31,
     "metadata": {},
     "output_type": "execute_result"
    }
   ],
   "source": [
    "model.output_shape\n"
   ]
  },
  {
   "cell_type": "code",
   "execution_count": 32,
   "metadata": {},
   "outputs": [
    {
     "name": "stdout",
     "output_type": "stream",
     "text": [
      "Model: \"sequential\"\n",
      "_________________________________________________________________\n",
      "Layer (type)                 Output Shape              Param #   \n",
      "=================================================================\n",
      "gru (GRU)                    (None, 8)                 432       \n",
      "_________________________________________________________________\n",
      "dense (Dense)                (None, 8)                 72        \n",
      "=================================================================\n",
      "Total params: 504\n",
      "Trainable params: 504\n",
      "Non-trainable params: 0\n",
      "_________________________________________________________________\n"
     ]
    }
   ],
   "source": [
    "model.summary()"
   ]
  },
  {
   "cell_type": "code",
   "execution_count": 60,
   "metadata": {},
   "outputs": [],
   "source": [
    "model.compile(\n",
    "    loss='mean_squared_error',\n",
    "    optimizer=keras.optimizers.Adam(0.001),\n",
    "    metrics=[\"mean_absolute_error\"]\n",
    ")"
   ]
  },
  {
   "cell_type": "code",
   "execution_count": 100,
   "metadata": {},
   "outputs": [
    {
     "name": "stdout",
     "output_type": "stream",
     "text": [
      "Epoch 1/40\n",
      "36/36 - 0s - loss: 7.9491e-04 - mean_absolute_error: 0.0178\n",
      "Epoch 2/40\n",
      "36/36 - 0s - loss: 8.0088e-04 - mean_absolute_error: 0.0179\n",
      "Epoch 3/40\n",
      "36/36 - 0s - loss: 7.9451e-04 - mean_absolute_error: 0.0179\n",
      "Epoch 4/40\n",
      "36/36 - 0s - loss: 8.0422e-04 - mean_absolute_error: 0.0179\n",
      "Epoch 5/40\n",
      "36/36 - 0s - loss: 7.9267e-04 - mean_absolute_error: 0.0177\n",
      "Epoch 6/40\n",
      "36/36 - 0s - loss: 7.9994e-04 - mean_absolute_error: 0.0178\n",
      "Epoch 7/40\n",
      "36/36 - 0s - loss: 7.9315e-04 - mean_absolute_error: 0.0178\n",
      "Epoch 8/40\n",
      "36/36 - 0s - loss: 8.0113e-04 - mean_absolute_error: 0.0179\n",
      "Epoch 9/40\n",
      "36/36 - 0s - loss: 8.0276e-04 - mean_absolute_error: 0.0180\n",
      "Epoch 10/40\n",
      "36/36 - 0s - loss: 7.8986e-04 - mean_absolute_error: 0.0177\n",
      "Epoch 11/40\n",
      "36/36 - 0s - loss: 7.9489e-04 - mean_absolute_error: 0.0178\n",
      "Epoch 12/40\n",
      "36/36 - 0s - loss: 7.9139e-04 - mean_absolute_error: 0.0177\n",
      "Epoch 13/40\n",
      "36/36 - 0s - loss: 7.9323e-04 - mean_absolute_error: 0.0177\n",
      "Epoch 14/40\n",
      "36/36 - 0s - loss: 7.9263e-04 - mean_absolute_error: 0.0177\n",
      "Epoch 15/40\n",
      "36/36 - 0s - loss: 7.9526e-04 - mean_absolute_error: 0.0179\n",
      "Epoch 16/40\n",
      "36/36 - 0s - loss: 8.0283e-04 - mean_absolute_error: 0.0178\n",
      "Epoch 17/40\n",
      "36/36 - 0s - loss: 7.8889e-04 - mean_absolute_error: 0.0177\n",
      "Epoch 18/40\n",
      "36/36 - 0s - loss: 7.9300e-04 - mean_absolute_error: 0.0178\n",
      "Epoch 19/40\n",
      "36/36 - 0s - loss: 7.9419e-04 - mean_absolute_error: 0.0177\n",
      "Epoch 20/40\n",
      "36/36 - 0s - loss: 7.8751e-04 - mean_absolute_error: 0.0177\n",
      "Epoch 21/40\n",
      "36/36 - 0s - loss: 7.8852e-04 - mean_absolute_error: 0.0177\n",
      "Epoch 22/40\n",
      "36/36 - 0s - loss: 7.9638e-04 - mean_absolute_error: 0.0178\n",
      "Epoch 23/40\n",
      "36/36 - 0s - loss: 7.9764e-04 - mean_absolute_error: 0.0178\n",
      "Epoch 24/40\n",
      "36/36 - 0s - loss: 7.9347e-04 - mean_absolute_error: 0.0177\n",
      "Epoch 25/40\n",
      "36/36 - 0s - loss: 7.8616e-04 - mean_absolute_error: 0.0177\n",
      "Epoch 26/40\n",
      "36/36 - 0s - loss: 7.9213e-04 - mean_absolute_error: 0.0177\n",
      "Epoch 27/40\n",
      "36/36 - 0s - loss: 7.8577e-04 - mean_absolute_error: 0.0177\n",
      "Epoch 28/40\n",
      "36/36 - 0s - loss: 8.0263e-04 - mean_absolute_error: 0.0179\n",
      "Epoch 29/40\n",
      "36/36 - 0s - loss: 7.9620e-04 - mean_absolute_error: 0.0177\n",
      "Epoch 30/40\n",
      "36/36 - 0s - loss: 7.9657e-04 - mean_absolute_error: 0.0178\n",
      "Epoch 31/40\n",
      "36/36 - 0s - loss: 7.8680e-04 - mean_absolute_error: 0.0177\n",
      "Epoch 32/40\n",
      "36/36 - 0s - loss: 7.9471e-04 - mean_absolute_error: 0.0177\n",
      "Epoch 33/40\n",
      "36/36 - 0s - loss: 7.8724e-04 - mean_absolute_error: 0.0177\n",
      "Epoch 34/40\n",
      "36/36 - 0s - loss: 7.8976e-04 - mean_absolute_error: 0.0177\n",
      "Epoch 35/40\n",
      "36/36 - 0s - loss: 7.8810e-04 - mean_absolute_error: 0.0177\n",
      "Epoch 36/40\n",
      "36/36 - 0s - loss: 7.8260e-04 - mean_absolute_error: 0.0177\n",
      "Epoch 37/40\n",
      "36/36 - 0s - loss: 7.8485e-04 - mean_absolute_error: 0.0177\n",
      "Epoch 38/40\n",
      "36/36 - 0s - loss: 7.8918e-04 - mean_absolute_error: 0.0176\n",
      "Epoch 39/40\n",
      "36/36 - 0s - loss: 7.8752e-04 - mean_absolute_error: 0.0177\n",
      "Epoch 40/40\n",
      "36/36 - 0s - loss: 7.8679e-04 - mean_absolute_error: 0.0177\n",
      "9/9 [==============================] - 0s 1ms/step - loss: 3.2036e-04 - mean_absolute_error: 0.0132\n"
     ]
    },
    {
     "data": {
      "text/plain": [
       "[0.0003203630622010678, 0.013226252980530262]"
      ]
     },
     "execution_count": 100,
     "metadata": {},
     "output_type": "execute_result"
    }
   ],
   "source": [
    "history=model.fit(X_train, y_train, batch_size=32, epochs=40,verbose=2)\n",
    "model.evaluate(X_test,y_test, batch_size=32, verbose=1)"
   ]
  },
  {
   "cell_type": "code",
   "execution_count": 101,
   "metadata": {},
   "outputs": [],
   "source": [
    "y_pred = model.predict(X_test)\n"
   ]
  },
  {
   "cell_type": "code",
   "execution_count": 102,
   "metadata": {},
   "outputs": [
    {
     "name": "stdout",
     "output_type": "stream",
     "text": [
      "9/9 [==============================] - 0s 2ms/step - loss: 3.2036e-04 - mean_absolute_error: 0.0132\n"
     ]
    },
    {
     "data": {
      "text/plain": [
       "[0.0003203630622010678, 0.013226252980530262]"
      ]
     },
     "execution_count": 102,
     "metadata": {},
     "output_type": "execute_result"
    }
   ],
   "source": [
    "model.evaluate(X_test, y_test)"
   ]
  },
  {
   "cell_type": "code",
   "execution_count": 103,
   "metadata": {},
   "outputs": [
    {
     "data": {
      "text/plain": [
       "['loss', 'mean_absolute_error']"
      ]
     },
     "execution_count": 103,
     "metadata": {},
     "output_type": "execute_result"
    }
   ],
   "source": [
    "model.metrics_names"
   ]
  },
  {
   "cell_type": "code",
   "execution_count": 107,
   "metadata": {},
   "outputs": [
    {
     "data": {
      "text/plain": [
       "[<matplotlib.lines.Line2D at 0x63efd00b8>]"
      ]
     },
     "execution_count": 107,
     "metadata": {},
     "output_type": "execute_result"
    },
    {
     "data": {
      "image/png": "[encoded data removed]",
      "text/plain": [
       "<Figure size 432x288 with 1 Axes>"
      ]
     },
     "metadata": {
      "needs_background": "light"
     },
     "output_type": "display_data"
    }
   ],
   "source": [
    "plt.plot(history.history['loss'])"
   ]
  },
  {
   "cell_type": "code",
   "execution_count": 108,
   "metadata": {},
   "outputs": [
    {
     "data": {
      "text/plain": [
       "[<matplotlib.lines.Line2D at 0x63f0a8710>]"
      ]
     },
     "execution_count": 108,
     "metadata": {},
     "output_type": "execute_result"
    },
    {
     "data": {
      "image/png": "[encoded data removed]",
      "text/plain": [
       "<Figure size 432x288 with 1 Axes>"
      ]
     },
     "metadata": {
      "needs_background": "light"
     },
     "output_type": "display_data"
    }
   ],
   "source": [
    "plt.plot(history.history['mean_absolute_error'])"
   ]
  },
  {
   "cell_type": "code",
   "execution_count": 109,
   "metadata": {},
   "outputs": [],
   "source": [
    "y_err = np.abs(y_pred - y_test)"
   ]
  },
  {
   "cell_type": "code",
   "execution_count": 110,
   "metadata": {},
   "outputs": [
    {
     "data": {
      "text/plain": [
       "[<matplotlib.lines.Line2D at 0x63ee1ebe0>,\n",
       " <matplotlib.lines.Line2D at 0x63f0f3d30>,\n",
       " <matplotlib.lines.Line2D at 0x63f18fba8>,\n",
       " <matplotlib.lines.Line2D at 0x63f18fc50>,\n",
       " <matplotlib.lines.Line2D at 0x63f18fcf8>,\n",
       " <matplotlib.lines.Line2D at 0x63f18fda0>,\n",
       " <matplotlib.lines.Line2D at 0x63f18fe48>,\n",
       " <matplotlib.lines.Line2D at 0x63f18fef0>]"
      ]
     },
     "execution_count": 110,
     "metadata": {},
     "output_type": "execute_result"
    },
    {
     "data": {
      "image/png": "[encoded data removed]",
      "text/plain": [
       "<Figure size 432x288 with 1 Axes>"
      ]
     },
     "metadata": {
      "needs_background": "light"
     },
     "output_type": "display_data"
    }
   ],
   "source": [
    "fig, ax = plt.subplots()\n",
    "ax.plot(y_err)"
   ]
  },
  {
   "cell_type": "code",
   "execution_count": 111,
   "metadata": {},
   "outputs": [],
   "source": [
    "model.save(\"all_channel_GRU.h5\")"
   ]
  },
  {
   "cell_type": "code",
   "execution_count": 113,
   "metadata": {},
   "outputs": [],
   "source": [
    "!tensorflowjs_converter --input_format keras \"all_channel_GRU.h5\" ./all_channel_GRU_js"
   ]
  },
  {
   "cell_type": "code",
   "execution_count": null,
   "metadata": {},
   "outputs": [],
   "source": []
  }
 ],
 "metadata": {
  "kernelspec": {
   "display_name": "Python 3",
   "language": "python",
   "name": "python3"
  },
  "language_info": {
   "codemirror_mode": {
    "name": "ipython",
    "version": 3
   },
   "file_extension": ".py",
   "mimetype": "text/x-python",
   "name": "python",
   "nbconvert_exporter": "python",
   "pygments_lexer": "ipython3",
   "version": "3.7.3"
  }
 },
 "nbformat": 4,
 "nbformat_minor": 4
}
