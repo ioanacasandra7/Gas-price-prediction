{
 "cells": [
  {
   "cell_type": "code",
   "execution_count": 1,
   "metadata": {},
   "outputs": [],
   "source": [
    "import requests\n",
    "from config import API_KEY\n",
    "import pandas as pd\n",
    "import numpy as np\n",
    "import matplotlib.pyplot as plt\n",
    "import datetime"
   ]
  },
  {
   "cell_type": "markdown",
   "metadata": {},
   "source": [
    "## Get Data from eia API"
   ]
  },
  {
   "cell_type": "code",
   "execution_count": 2,
   "metadata": {},
   "outputs": [],
   "source": [
    "eastCoast = f\"http://api.eia.gov/series/?api_key={API_KEY}&series_id=PET.EMM_EPM0_PTE_R10_DPG.W\"\n",
    "midwest = f\"http://api.eia.gov/series/?api_key={API_KEY}&series_id=PET.EMM_EPM0_PTE_R20_DPG.W\"\n",
    "gulfCoast = f\"http://api.eia.gov/series/?api_key={API_KEY}&series_id=PET.EMM_EPM0_PTE_R30_DPG.W\"\n",
    "rockyMountain = f\"http://api.eia.gov/series/?api_key={API_KEY}&series_id=PET.EMM_EPM0_PTE_R40_DPG.W\"\n",
    "westCoast = f\"http://api.eia.gov/series/?api_key={API_KEY}&series_id=PET.EMM_EPM0_PTE_R50_DPG.W\""
   ]
  },
  {
   "cell_type": "code",
   "execution_count": 3,
   "metadata": {},
   "outputs": [],
   "source": [
    "eastCoast_df = pd.DataFrame(requests.get(eastCoast).json()['series'][0]['data'])\n",
    "midwest_df = pd.DataFrame(requests.get(midwest).json()['series'][0]['data'])\n",
    "gulfCoast_df = pd.DataFrame(requests.get(gulfCoast).json()['series'][0]['data'])\n",
    "rockyMountain_df = pd.DataFrame(requests.get(rockyMountain).json()['series'][0]['data'])\n",
    "westCoast_df = pd.DataFrame(requests.get(westCoast).json()['series'][0]['data'])"
   ]
  },
  {
   "cell_type": "code",
   "execution_count": 4,
   "metadata": {},
   "outputs": [],
   "source": [
    "eastCoast_df.rename(columns = {0:\"week\", 1:\"price_eastCoast\"}, inplace = True)\n",
    "midwest_df.rename(columns = {0:\"week\", 1:\"price_midwest\"}, inplace = True)\n",
    "gulfCoast_df.rename(columns = {0:\"week\", 1:\"price_gulfCoast\"}, inplace = True)\n",
    "rockyMountain_df.rename(columns = {0:\"week\", 1:\"price_rockyMountain\"}, inplace = True)\n",
    "westCoast_df.rename(columns = {0:\"week\", 1:\"price_westCoast\"}, inplace = True)"
   ]
  },
  {
   "cell_type": "code",
   "execution_count": 5,
   "metadata": {},
   "outputs": [],
   "source": [
    "eastCoast_df['week'] = pd.to_datetime(eastCoast_df['week'])\n",
    "midwest_df['week'] = pd.to_datetime(midwest_df['week'])\n",
    "gulfCoast_df['week'] = pd.to_datetime(gulfCoast_df['week'])\n",
    "rockyMountain_df['week'] = pd.to_datetime(rockyMountain_df['week'])\n",
    "westCoast_df['week'] = pd.to_datetime(westCoast_df['week'])"
   ]
  },
  {
   "cell_type": "code",
   "execution_count": 6,
   "metadata": {},
   "outputs": [],
   "source": [
    "prices_df = eastCoast_df.merge(midwest_df , on = \"week\", suffixes=('', ''))\\\n",
    "            .merge(gulfCoast_df , on = \"week\", suffixes=('', ''))\\\n",
    "            .merge(rockyMountain_df , on = \"week\", suffixes=('', ''))\\\n",
    "            .merge(westCoast_df , on = \"week\", suffixes=('', ''))"
   ]
  },
  {
   "cell_type": "code",
   "execution_count": 7,
   "metadata": {},
   "outputs": [],
   "source": [
    "regions = [\"eastCoast\", \"midwest\", \"gulfCoast\", \"rockyMountain\", \"westCoast\"]\n",
    "for region in regions:\n",
    "    prices_df['change_' + region] = prices_df['price_' + region].diff()"
   ]
  },
  {
   "cell_type": "code",
   "execution_count": 8,
   "metadata": {},
   "outputs": [
    {
     "data": {
      "text/html": [
       "<div>\n",
       "<style scoped>\n",
       "    .dataframe tbody tr th:only-of-type {\n",
       "        vertical-align: middle;\n",
       "    }\n",
       "\n",
       "    .dataframe tbody tr th {\n",
       "        vertical-align: top;\n",
       "    }\n",
       "\n",
       "    .dataframe thead th {\n",
       "        text-align: right;\n",
       "    }\n",
       "</style>\n",
       "<table border=\"1\" class=\"dataframe\">\n",
       "  <thead>\n",
       "    <tr style=\"text-align: right;\">\n",
       "      <th></th>\n",
       "      <th>week</th>\n",
       "      <th>price_eastCoast</th>\n",
       "      <th>price_midwest</th>\n",
       "      <th>price_gulfCoast</th>\n",
       "      <th>price_rockyMountain</th>\n",
       "      <th>price_westCoast</th>\n",
       "      <th>change_eastCoast</th>\n",
       "      <th>change_midwest</th>\n",
       "      <th>change_gulfCoast</th>\n",
       "      <th>change_rockyMountain</th>\n",
       "      <th>change_westCoast</th>\n",
       "    </tr>\n",
       "  </thead>\n",
       "  <tbody>\n",
       "    <tr>\n",
       "      <th>0</th>\n",
       "      <td>2020-11-09</td>\n",
       "      <td>2.127</td>\n",
       "      <td>2.025</td>\n",
       "      <td>1.823</td>\n",
       "      <td>2.304</td>\n",
       "      <td>2.863</td>\n",
       "      <td>NaN</td>\n",
       "      <td>NaN</td>\n",
       "      <td>NaN</td>\n",
       "      <td>NaN</td>\n",
       "      <td>NaN</td>\n",
       "    </tr>\n",
       "    <tr>\n",
       "      <th>1</th>\n",
       "      <td>2020-11-02</td>\n",
       "      <td>2.149</td>\n",
       "      <td>2.026</td>\n",
       "      <td>1.862</td>\n",
       "      <td>2.320</td>\n",
       "      <td>2.869</td>\n",
       "      <td>0.022</td>\n",
       "      <td>0.001</td>\n",
       "      <td>0.039</td>\n",
       "      <td>0.016</td>\n",
       "      <td>0.006</td>\n",
       "    </tr>\n",
       "    <tr>\n",
       "      <th>2</th>\n",
       "      <td>2020-10-26</td>\n",
       "      <td>2.173</td>\n",
       "      <td>2.069</td>\n",
       "      <td>1.908</td>\n",
       "      <td>2.340</td>\n",
       "      <td>2.882</td>\n",
       "      <td>0.024</td>\n",
       "      <td>0.043</td>\n",
       "      <td>0.046</td>\n",
       "      <td>0.020</td>\n",
       "      <td>0.013</td>\n",
       "    </tr>\n",
       "    <tr>\n",
       "      <th>3</th>\n",
       "      <td>2020-10-19</td>\n",
       "      <td>2.196</td>\n",
       "      <td>2.057</td>\n",
       "      <td>1.905</td>\n",
       "      <td>2.359</td>\n",
       "      <td>2.887</td>\n",
       "      <td>0.023</td>\n",
       "      <td>-0.012</td>\n",
       "      <td>-0.003</td>\n",
       "      <td>0.019</td>\n",
       "      <td>0.005</td>\n",
       "    </tr>\n",
       "    <tr>\n",
       "      <th>4</th>\n",
       "      <td>2020-10-12</td>\n",
       "      <td>2.209</td>\n",
       "      <td>2.089</td>\n",
       "      <td>1.914</td>\n",
       "      <td>2.367</td>\n",
       "      <td>2.895</td>\n",
       "      <td>0.013</td>\n",
       "      <td>0.032</td>\n",
       "      <td>0.009</td>\n",
       "      <td>0.008</td>\n",
       "      <td>0.008</td>\n",
       "    </tr>\n",
       "    <tr>\n",
       "      <th>...</th>\n",
       "      <td>...</td>\n",
       "      <td>...</td>\n",
       "      <td>...</td>\n",
       "      <td>...</td>\n",
       "      <td>...</td>\n",
       "      <td>...</td>\n",
       "      <td>...</td>\n",
       "      <td>...</td>\n",
       "      <td>...</td>\n",
       "      <td>...</td>\n",
       "      <td>...</td>\n",
       "    </tr>\n",
       "    <tr>\n",
       "      <th>1436</th>\n",
       "      <td>1993-05-03</td>\n",
       "      <td>1.062</td>\n",
       "      <td>1.073</td>\n",
       "      <td>1.084</td>\n",
       "      <td>1.161</td>\n",
       "      <td>1.161</td>\n",
       "      <td>-0.007</td>\n",
       "      <td>-0.018</td>\n",
       "      <td>-0.004</td>\n",
       "      <td>0.018</td>\n",
       "      <td>-0.010</td>\n",
       "    </tr>\n",
       "    <tr>\n",
       "      <th>1437</th>\n",
       "      <td>1993-04-26</td>\n",
       "      <td>1.059</td>\n",
       "      <td>1.078</td>\n",
       "      <td>1.081</td>\n",
       "      <td>1.169</td>\n",
       "      <td>1.157</td>\n",
       "      <td>-0.003</td>\n",
       "      <td>0.005</td>\n",
       "      <td>-0.003</td>\n",
       "      <td>0.008</td>\n",
       "      <td>-0.004</td>\n",
       "    </tr>\n",
       "    <tr>\n",
       "      <th>1438</th>\n",
       "      <td>1993-04-19</td>\n",
       "      <td>1.054</td>\n",
       "      <td>1.067</td>\n",
       "      <td>1.081</td>\n",
       "      <td>1.120</td>\n",
       "      <td>1.155</td>\n",
       "      <td>-0.005</td>\n",
       "      <td>-0.011</td>\n",
       "      <td>0.000</td>\n",
       "      <td>-0.049</td>\n",
       "      <td>-0.002</td>\n",
       "    </tr>\n",
       "    <tr>\n",
       "      <th>1439</th>\n",
       "      <td>1993-04-12</td>\n",
       "      <td>1.047</td>\n",
       "      <td>1.077</td>\n",
       "      <td>1.071</td>\n",
       "      <td>1.118</td>\n",
       "      <td>1.154</td>\n",
       "      <td>-0.007</td>\n",
       "      <td>0.010</td>\n",
       "      <td>-0.010</td>\n",
       "      <td>-0.002</td>\n",
       "      <td>-0.001</td>\n",
       "    </tr>\n",
       "    <tr>\n",
       "      <th>1440</th>\n",
       "      <td>1993-04-05</td>\n",
       "      <td>1.040</td>\n",
       "      <td>1.061</td>\n",
       "      <td>1.064</td>\n",
       "      <td>1.093</td>\n",
       "      <td>1.152</td>\n",
       "      <td>-0.007</td>\n",
       "      <td>-0.016</td>\n",
       "      <td>-0.007</td>\n",
       "      <td>-0.025</td>\n",
       "      <td>-0.002</td>\n",
       "    </tr>\n",
       "  </tbody>\n",
       "</table>\n",
       "<p>1441 rows × 11 columns</p>\n",
       "</div>"
      ],
      "text/plain": [
       "           week  price_eastCoast  price_midwest  price_gulfCoast  \\\n",
       "0    2020-11-09            2.127          2.025            1.823   \n",
       "1    2020-11-02            2.149          2.026            1.862   \n",
       "2    2020-10-26            2.173          2.069            1.908   \n",
       "3    2020-10-19            2.196          2.057            1.905   \n",
       "4    2020-10-12            2.209          2.089            1.914   \n",
       "...         ...              ...            ...              ...   \n",
       "1436 1993-05-03            1.062          1.073            1.084   \n",
       "1437 1993-04-26            1.059          1.078            1.081   \n",
       "1438 1993-04-19            1.054          1.067            1.081   \n",
       "1439 1993-04-12            1.047          1.077            1.071   \n",
       "1440 1993-04-05            1.040          1.061            1.064   \n",
       "\n",
       "      price_rockyMountain  price_westCoast  change_eastCoast  change_midwest  \\\n",
       "0                   2.304            2.863               NaN             NaN   \n",
       "1                   2.320            2.869             0.022           0.001   \n",
       "2                   2.340            2.882             0.024           0.043   \n",
       "3                   2.359            2.887             0.023          -0.012   \n",
       "4                   2.367            2.895             0.013           0.032   \n",
       "...                   ...              ...               ...             ...   \n",
       "1436                1.161            1.161            -0.007          -0.018   \n",
       "1437                1.169            1.157            -0.003           0.005   \n",
       "1438                1.120            1.155            -0.005          -0.011   \n",
       "1439                1.118            1.154            -0.007           0.010   \n",
       "1440                1.093            1.152            -0.007          -0.016   \n",
       "\n",
       "      change_gulfCoast  change_rockyMountain  change_westCoast  \n",
       "0                  NaN                   NaN               NaN  \n",
       "1                0.039                 0.016             0.006  \n",
       "2                0.046                 0.020             0.013  \n",
       "3               -0.003                 0.019             0.005  \n",
       "4                0.009                 0.008             0.008  \n",
       "...                ...                   ...               ...  \n",
       "1436            -0.004                 0.018            -0.010  \n",
       "1437            -0.003                 0.008            -0.004  \n",
       "1438             0.000                -0.049            -0.002  \n",
       "1439            -0.010                -0.002            -0.001  \n",
       "1440            -0.007                -0.025            -0.002  \n",
       "\n",
       "[1441 rows x 11 columns]"
      ]
     },
     "execution_count": 8,
     "metadata": {},
     "output_type": "execute_result"
    }
   ],
   "source": [
    "prices_df"
   ]
  },
  {
   "cell_type": "code",
   "execution_count": 9,
   "metadata": {},
   "outputs": [],
   "source": [
    "prices_df.dropna(inplace =True)"
   ]
  },
  {
   "cell_type": "code",
   "execution_count": 10,
   "metadata": {},
   "outputs": [
    {
     "data": {
      "text/plain": [
       "<AxesSubplot:xlabel='week'>"
      ]
     },
     "execution_count": 10,
     "metadata": {},
     "output_type": "execute_result"
    },
    {
     "data": {
      "image/png": "[encoded data removed]",
      "text/plain": [
       "<Figure size 432x288 with 1 Axes>"
      ]
     },
     "metadata": {
      "needs_background": "light"
     },
     "output_type": "display_data"
    }
   ],
   "source": [
    "prices_df.plot(x = 'week', y=[\"change_eastCoast\", \"change_midwest\", \"change_gulfCoast\", \"change_rockyMountain\", \"change_westCoast\"])"
   ]
  },
  {
   "cell_type": "code",
   "execution_count": 11,
   "metadata": {},
   "outputs": [],
   "source": [
    "WTI = f\"http://api.eia.gov/series/?api_key={API_KEY}&series_id=PET.RWTC.W\""
   ]
  },
  {
   "cell_type": "code",
   "execution_count": 12,
   "metadata": {},
   "outputs": [],
   "source": [
    "WTI_df = pd.DataFrame(requests.get(WTI).json()['series'][0]['data'])"
   ]
  },
  {
   "cell_type": "code",
   "execution_count": 13,
   "metadata": {},
   "outputs": [],
   "source": [
    "WTI_df.rename(columns = {0:\"week\", 1:\"WTI_spotPrice\"}, inplace = True)"
   ]
  },
  {
   "cell_type": "code",
   "execution_count": 14,
   "metadata": {},
   "outputs": [],
   "source": [
    "WTI_df['week'] = pd.to_datetime(WTI_df['week']) + datetime.timedelta(days = 3)"
   ]
  },
  {
   "cell_type": "code",
   "execution_count": 15,
   "metadata": {},
   "outputs": [],
   "source": [
    "WTI_df ['change_WTI'] = WTI_df['WTI_spotPrice'].diff()"
   ]
  },
  {
   "cell_type": "code",
   "execution_count": 16,
   "metadata": {},
   "outputs": [],
   "source": [
    "#normalize WTI_change so that it is about the size of gas Price changes (100 is somewhat arbitrary)\n",
    "WTI_df ['change_WTI_normalized'] = WTI_df ['change_WTI'] / 100"
   ]
  },
  {
   "cell_type": "code",
   "execution_count": 17,
   "metadata": {},
   "outputs": [],
   "source": [
    "combined_df = prices_df.merge(WTI_df, on = 'week', suffixes=(\"\",\"\"))"
   ]
  },
  {
   "cell_type": "markdown",
   "metadata": {},
   "source": [
    "## Processs the data"
   ]
  },
  {
   "cell_type": "code",
   "execution_count": 18,
   "metadata": {},
   "outputs": [],
   "source": [
    "#train test split\n",
    "train_size = int(0.8 * len(prices_df))\n",
    "combined_df_train = combined_df.iloc[0:train_size]\n",
    "combined_df_test = combined_df.iloc[train_size:]"
   ]
  },
  {
   "cell_type": "code",
   "execution_count": 19,
   "metadata": {},
   "outputs": [
    {
     "data": {
      "text/html": [
       "<div>\n",
       "<style scoped>\n",
       "    .dataframe tbody tr th:only-of-type {\n",
       "        vertical-align: middle;\n",
       "    }\n",
       "\n",
       "    .dataframe tbody tr th {\n",
       "        vertical-align: top;\n",
       "    }\n",
       "\n",
       "    .dataframe thead th {\n",
       "        text-align: right;\n",
       "    }\n",
       "</style>\n",
       "<table border=\"1\" class=\"dataframe\">\n",
       "  <thead>\n",
       "    <tr style=\"text-align: right;\">\n",
       "      <th></th>\n",
       "      <th>week</th>\n",
       "      <th>price_eastCoast</th>\n",
       "      <th>price_midwest</th>\n",
       "      <th>price_gulfCoast</th>\n",
       "      <th>price_rockyMountain</th>\n",
       "      <th>price_westCoast</th>\n",
       "      <th>change_eastCoast</th>\n",
       "      <th>change_midwest</th>\n",
       "      <th>change_gulfCoast</th>\n",
       "      <th>change_rockyMountain</th>\n",
       "      <th>change_westCoast</th>\n",
       "      <th>WTI_spotPrice</th>\n",
       "      <th>change_WTI</th>\n",
       "      <th>change_WTI_normalized</th>\n",
       "    </tr>\n",
       "  </thead>\n",
       "  <tbody>\n",
       "    <tr>\n",
       "      <th>0</th>\n",
       "      <td>2020-11-02</td>\n",
       "      <td>2.149</td>\n",
       "      <td>2.026</td>\n",
       "      <td>1.862</td>\n",
       "      <td>2.320</td>\n",
       "      <td>2.869</td>\n",
       "      <td>0.022</td>\n",
       "      <td>0.001</td>\n",
       "      <td>0.039</td>\n",
       "      <td>0.016</td>\n",
       "      <td>0.006</td>\n",
       "      <td>37.32</td>\n",
       "      <td>-0.39</td>\n",
       "      <td>-0.0039</td>\n",
       "    </tr>\n",
       "    <tr>\n",
       "      <th>1</th>\n",
       "      <td>2020-10-26</td>\n",
       "      <td>2.173</td>\n",
       "      <td>2.069</td>\n",
       "      <td>1.908</td>\n",
       "      <td>2.340</td>\n",
       "      <td>2.882</td>\n",
       "      <td>0.024</td>\n",
       "      <td>0.043</td>\n",
       "      <td>0.046</td>\n",
       "      <td>0.020</td>\n",
       "      <td>0.013</td>\n",
       "      <td>40.43</td>\n",
       "      <td>3.11</td>\n",
       "      <td>0.0311</td>\n",
       "    </tr>\n",
       "    <tr>\n",
       "      <th>2</th>\n",
       "      <td>2020-10-19</td>\n",
       "      <td>2.196</td>\n",
       "      <td>2.057</td>\n",
       "      <td>1.905</td>\n",
       "      <td>2.359</td>\n",
       "      <td>2.887</td>\n",
       "      <td>0.023</td>\n",
       "      <td>-0.012</td>\n",
       "      <td>-0.003</td>\n",
       "      <td>0.019</td>\n",
       "      <td>0.005</td>\n",
       "      <td>40.33</td>\n",
       "      <td>-0.10</td>\n",
       "      <td>-0.0010</td>\n",
       "    </tr>\n",
       "    <tr>\n",
       "      <th>3</th>\n",
       "      <td>2020-10-12</td>\n",
       "      <td>2.209</td>\n",
       "      <td>2.089</td>\n",
       "      <td>1.914</td>\n",
       "      <td>2.367</td>\n",
       "      <td>2.895</td>\n",
       "      <td>0.013</td>\n",
       "      <td>0.032</td>\n",
       "      <td>0.009</td>\n",
       "      <td>0.008</td>\n",
       "      <td>0.008</td>\n",
       "      <td>40.19</td>\n",
       "      <td>-0.14</td>\n",
       "      <td>-0.0014</td>\n",
       "    </tr>\n",
       "    <tr>\n",
       "      <th>4</th>\n",
       "      <td>2020-10-05</td>\n",
       "      <td>2.208</td>\n",
       "      <td>2.106</td>\n",
       "      <td>1.901</td>\n",
       "      <td>2.376</td>\n",
       "      <td>2.903</td>\n",
       "      <td>-0.001</td>\n",
       "      <td>0.017</td>\n",
       "      <td>-0.013</td>\n",
       "      <td>0.009</td>\n",
       "      <td>0.008</td>\n",
       "      <td>38.99</td>\n",
       "      <td>-1.20</td>\n",
       "      <td>-0.0120</td>\n",
       "    </tr>\n",
       "    <tr>\n",
       "      <th>...</th>\n",
       "      <td>...</td>\n",
       "      <td>...</td>\n",
       "      <td>...</td>\n",
       "      <td>...</td>\n",
       "      <td>...</td>\n",
       "      <td>...</td>\n",
       "      <td>...</td>\n",
       "      <td>...</td>\n",
       "      <td>...</td>\n",
       "      <td>...</td>\n",
       "      <td>...</td>\n",
       "      <td>...</td>\n",
       "      <td>...</td>\n",
       "      <td>...</td>\n",
       "    </tr>\n",
       "    <tr>\n",
       "      <th>1147</th>\n",
       "      <td>1998-11-09</td>\n",
       "      <td>1.038</td>\n",
       "      <td>1.026</td>\n",
       "      <td>0.998</td>\n",
       "      <td>1.120</td>\n",
       "      <td>1.169</td>\n",
       "      <td>0.007</td>\n",
       "      <td>0.026</td>\n",
       "      <td>0.007</td>\n",
       "      <td>-0.021</td>\n",
       "      <td>0.000</td>\n",
       "      <td>14.13</td>\n",
       "      <td>0.50</td>\n",
       "      <td>0.0050</td>\n",
       "    </tr>\n",
       "    <tr>\n",
       "      <th>1148</th>\n",
       "      <td>1998-11-02</td>\n",
       "      <td>1.040</td>\n",
       "      <td>1.025</td>\n",
       "      <td>1.002</td>\n",
       "      <td>1.128</td>\n",
       "      <td>1.172</td>\n",
       "      <td>0.002</td>\n",
       "      <td>-0.001</td>\n",
       "      <td>0.004</td>\n",
       "      <td>0.008</td>\n",
       "      <td>0.003</td>\n",
       "      <td>14.34</td>\n",
       "      <td>0.21</td>\n",
       "      <td>0.0021</td>\n",
       "    </tr>\n",
       "    <tr>\n",
       "      <th>1149</th>\n",
       "      <td>1998-10-26</td>\n",
       "      <td>1.041</td>\n",
       "      <td>1.032</td>\n",
       "      <td>1.007</td>\n",
       "      <td>1.136</td>\n",
       "      <td>1.175</td>\n",
       "      <td>0.001</td>\n",
       "      <td>0.007</td>\n",
       "      <td>0.005</td>\n",
       "      <td>0.008</td>\n",
       "      <td>0.003</td>\n",
       "      <td>13.81</td>\n",
       "      <td>-0.53</td>\n",
       "      <td>-0.0053</td>\n",
       "    </tr>\n",
       "    <tr>\n",
       "      <th>1150</th>\n",
       "      <td>1998-10-19</td>\n",
       "      <td>1.044</td>\n",
       "      <td>1.038</td>\n",
       "      <td>1.014</td>\n",
       "      <td>1.138</td>\n",
       "      <td>1.174</td>\n",
       "      <td>0.003</td>\n",
       "      <td>0.006</td>\n",
       "      <td>0.007</td>\n",
       "      <td>0.002</td>\n",
       "      <td>-0.001</td>\n",
       "      <td>14.21</td>\n",
       "      <td>0.40</td>\n",
       "      <td>0.0040</td>\n",
       "    </tr>\n",
       "    <tr>\n",
       "      <th>1151</th>\n",
       "      <td>1998-10-12</td>\n",
       "      <td>1.046</td>\n",
       "      <td>1.045</td>\n",
       "      <td>1.015</td>\n",
       "      <td>1.148</td>\n",
       "      <td>1.178</td>\n",
       "      <td>0.002</td>\n",
       "      <td>0.007</td>\n",
       "      <td>0.001</td>\n",
       "      <td>0.010</td>\n",
       "      <td>0.004</td>\n",
       "      <td>15.02</td>\n",
       "      <td>0.81</td>\n",
       "      <td>0.0081</td>\n",
       "    </tr>\n",
       "  </tbody>\n",
       "</table>\n",
       "<p>1152 rows × 14 columns</p>\n",
       "</div>"
      ],
      "text/plain": [
       "           week  price_eastCoast  price_midwest  price_gulfCoast  \\\n",
       "0    2020-11-02            2.149          2.026            1.862   \n",
       "1    2020-10-26            2.173          2.069            1.908   \n",
       "2    2020-10-19            2.196          2.057            1.905   \n",
       "3    2020-10-12            2.209          2.089            1.914   \n",
       "4    2020-10-05            2.208          2.106            1.901   \n",
       "...         ...              ...            ...              ...   \n",
       "1147 1998-11-09            1.038          1.026            0.998   \n",
       "1148 1998-11-02            1.040          1.025            1.002   \n",
       "1149 1998-10-26            1.041          1.032            1.007   \n",
       "1150 1998-10-19            1.044          1.038            1.014   \n",
       "1151 1998-10-12            1.046          1.045            1.015   \n",
       "\n",
       "      price_rockyMountain  price_westCoast  change_eastCoast  change_midwest  \\\n",
       "0                   2.320            2.869             0.022           0.001   \n",
       "1                   2.340            2.882             0.024           0.043   \n",
       "2                   2.359            2.887             0.023          -0.012   \n",
       "3                   2.367            2.895             0.013           0.032   \n",
       "4                   2.376            2.903            -0.001           0.017   \n",
       "...                   ...              ...               ...             ...   \n",
       "1147                1.120            1.169             0.007           0.026   \n",
       "1148                1.128            1.172             0.002          -0.001   \n",
       "1149                1.136            1.175             0.001           0.007   \n",
       "1150                1.138            1.174             0.003           0.006   \n",
       "1151                1.148            1.178             0.002           0.007   \n",
       "\n",
       "      change_gulfCoast  change_rockyMountain  change_westCoast  WTI_spotPrice  \\\n",
       "0                0.039                 0.016             0.006          37.32   \n",
       "1                0.046                 0.020             0.013          40.43   \n",
       "2               -0.003                 0.019             0.005          40.33   \n",
       "3                0.009                 0.008             0.008          40.19   \n",
       "4               -0.013                 0.009             0.008          38.99   \n",
       "...                ...                   ...               ...            ...   \n",
       "1147             0.007                -0.021             0.000          14.13   \n",
       "1148             0.004                 0.008             0.003          14.34   \n",
       "1149             0.005                 0.008             0.003          13.81   \n",
       "1150             0.007                 0.002            -0.001          14.21   \n",
       "1151             0.001                 0.010             0.004          15.02   \n",
       "\n",
       "      change_WTI  change_WTI_normalized  \n",
       "0          -0.39                -0.0039  \n",
       "1           3.11                 0.0311  \n",
       "2          -0.10                -0.0010  \n",
       "3          -0.14                -0.0014  \n",
       "4          -1.20                -0.0120  \n",
       "...          ...                    ...  \n",
       "1147        0.50                 0.0050  \n",
       "1148        0.21                 0.0021  \n",
       "1149       -0.53                -0.0053  \n",
       "1150        0.40                 0.0040  \n",
       "1151        0.81                 0.0081  \n",
       "\n",
       "[1152 rows x 14 columns]"
      ]
     },
     "execution_count": 19,
     "metadata": {},
     "output_type": "execute_result"
    }
   ],
   "source": [
    "combined_df_train"
   ]
  },
  {
   "cell_type": "code",
   "execution_count": 20,
   "metadata": {},
   "outputs": [
    {
     "data": {
      "text/html": [
       "<div>\n",
       "<style scoped>\n",
       "    .dataframe tbody tr th:only-of-type {\n",
       "        vertical-align: middle;\n",
       "    }\n",
       "\n",
       "    .dataframe tbody tr th {\n",
       "        vertical-align: top;\n",
       "    }\n",
       "\n",
       "    .dataframe thead th {\n",
       "        text-align: right;\n",
       "    }\n",
       "</style>\n",
       "<table border=\"1\" class=\"dataframe\">\n",
       "  <thead>\n",
       "    <tr style=\"text-align: right;\">\n",
       "      <th></th>\n",
       "      <th>week</th>\n",
       "      <th>price_eastCoast</th>\n",
       "      <th>price_midwest</th>\n",
       "      <th>price_gulfCoast</th>\n",
       "      <th>price_rockyMountain</th>\n",
       "      <th>price_westCoast</th>\n",
       "      <th>change_eastCoast</th>\n",
       "      <th>change_midwest</th>\n",
       "      <th>change_gulfCoast</th>\n",
       "      <th>change_rockyMountain</th>\n",
       "      <th>change_westCoast</th>\n",
       "      <th>WTI_spotPrice</th>\n",
       "      <th>change_WTI</th>\n",
       "      <th>change_WTI_normalized</th>\n",
       "    </tr>\n",
       "  </thead>\n",
       "  <tbody>\n",
       "    <tr>\n",
       "      <th>1152</th>\n",
       "      <td>1998-10-05</td>\n",
       "      <td>1.034</td>\n",
       "      <td>1.050</td>\n",
       "      <td>1.003</td>\n",
       "      <td>1.130</td>\n",
       "      <td>1.182</td>\n",
       "      <td>-0.012</td>\n",
       "      <td>0.005</td>\n",
       "      <td>-0.012</td>\n",
       "      <td>-0.018</td>\n",
       "      <td>0.004</td>\n",
       "      <td>15.83</td>\n",
       "      <td>0.81</td>\n",
       "      <td>0.0081</td>\n",
       "    </tr>\n",
       "    <tr>\n",
       "      <th>1153</th>\n",
       "      <td>1998-09-28</td>\n",
       "      <td>1.029</td>\n",
       "      <td>1.041</td>\n",
       "      <td>0.995</td>\n",
       "      <td>1.135</td>\n",
       "      <td>1.187</td>\n",
       "      <td>-0.005</td>\n",
       "      <td>-0.009</td>\n",
       "      <td>-0.008</td>\n",
       "      <td>0.005</td>\n",
       "      <td>0.005</td>\n",
       "      <td>15.78</td>\n",
       "      <td>-0.05</td>\n",
       "      <td>-0.0005</td>\n",
       "    </tr>\n",
       "    <tr>\n",
       "      <th>1154</th>\n",
       "      <td>1998-09-21</td>\n",
       "      <td>1.023</td>\n",
       "      <td>1.047</td>\n",
       "      <td>0.989</td>\n",
       "      <td>1.149</td>\n",
       "      <td>1.189</td>\n",
       "      <td>-0.006</td>\n",
       "      <td>0.006</td>\n",
       "      <td>-0.006</td>\n",
       "      <td>0.014</td>\n",
       "      <td>0.002</td>\n",
       "      <td>14.88</td>\n",
       "      <td>-0.90</td>\n",
       "      <td>-0.0090</td>\n",
       "    </tr>\n",
       "    <tr>\n",
       "      <th>1155</th>\n",
       "      <td>1998-09-14</td>\n",
       "      <td>1.024</td>\n",
       "      <td>1.020</td>\n",
       "      <td>0.989</td>\n",
       "      <td>1.152</td>\n",
       "      <td>1.171</td>\n",
       "      <td>0.001</td>\n",
       "      <td>-0.027</td>\n",
       "      <td>0.000</td>\n",
       "      <td>0.003</td>\n",
       "      <td>-0.018</td>\n",
       "      <td>14.45</td>\n",
       "      <td>-0.43</td>\n",
       "      <td>-0.0043</td>\n",
       "    </tr>\n",
       "    <tr>\n",
       "      <th>1156</th>\n",
       "      <td>1998-09-07</td>\n",
       "      <td>1.028</td>\n",
       "      <td>1.027</td>\n",
       "      <td>0.989</td>\n",
       "      <td>1.136</td>\n",
       "      <td>1.179</td>\n",
       "      <td>0.004</td>\n",
       "      <td>0.007</td>\n",
       "      <td>0.000</td>\n",
       "      <td>-0.016</td>\n",
       "      <td>0.008</td>\n",
       "      <td>13.98</td>\n",
       "      <td>-0.47</td>\n",
       "      <td>-0.0047</td>\n",
       "    </tr>\n",
       "    <tr>\n",
       "      <th>...</th>\n",
       "      <td>...</td>\n",
       "      <td>...</td>\n",
       "      <td>...</td>\n",
       "      <td>...</td>\n",
       "      <td>...</td>\n",
       "      <td>...</td>\n",
       "      <td>...</td>\n",
       "      <td>...</td>\n",
       "      <td>...</td>\n",
       "      <td>...</td>\n",
       "      <td>...</td>\n",
       "      <td>...</td>\n",
       "      <td>...</td>\n",
       "      <td>...</td>\n",
       "    </tr>\n",
       "    <tr>\n",
       "      <th>1435</th>\n",
       "      <td>1993-05-03</td>\n",
       "      <td>1.062</td>\n",
       "      <td>1.073</td>\n",
       "      <td>1.084</td>\n",
       "      <td>1.161</td>\n",
       "      <td>1.161</td>\n",
       "      <td>-0.007</td>\n",
       "      <td>-0.018</td>\n",
       "      <td>-0.004</td>\n",
       "      <td>0.018</td>\n",
       "      <td>-0.010</td>\n",
       "      <td>20.30</td>\n",
       "      <td>-0.17</td>\n",
       "      <td>-0.0017</td>\n",
       "    </tr>\n",
       "    <tr>\n",
       "      <th>1436</th>\n",
       "      <td>1993-04-26</td>\n",
       "      <td>1.059</td>\n",
       "      <td>1.078</td>\n",
       "      <td>1.081</td>\n",
       "      <td>1.169</td>\n",
       "      <td>1.157</td>\n",
       "      <td>-0.003</td>\n",
       "      <td>0.005</td>\n",
       "      <td>-0.003</td>\n",
       "      <td>0.008</td>\n",
       "      <td>-0.004</td>\n",
       "      <td>19.95</td>\n",
       "      <td>-0.35</td>\n",
       "      <td>-0.0035</td>\n",
       "    </tr>\n",
       "    <tr>\n",
       "      <th>1437</th>\n",
       "      <td>1993-04-19</td>\n",
       "      <td>1.054</td>\n",
       "      <td>1.067</td>\n",
       "      <td>1.081</td>\n",
       "      <td>1.120</td>\n",
       "      <td>1.155</td>\n",
       "      <td>-0.005</td>\n",
       "      <td>-0.011</td>\n",
       "      <td>0.000</td>\n",
       "      <td>-0.049</td>\n",
       "      <td>-0.002</td>\n",
       "      <td>20.28</td>\n",
       "      <td>0.33</td>\n",
       "      <td>0.0033</td>\n",
       "    </tr>\n",
       "    <tr>\n",
       "      <th>1438</th>\n",
       "      <td>1993-04-12</td>\n",
       "      <td>1.047</td>\n",
       "      <td>1.077</td>\n",
       "      <td>1.071</td>\n",
       "      <td>1.118</td>\n",
       "      <td>1.154</td>\n",
       "      <td>-0.007</td>\n",
       "      <td>0.010</td>\n",
       "      <td>-0.010</td>\n",
       "      <td>-0.002</td>\n",
       "      <td>-0.001</td>\n",
       "      <td>20.37</td>\n",
       "      <td>0.09</td>\n",
       "      <td>0.0009</td>\n",
       "    </tr>\n",
       "    <tr>\n",
       "      <th>1439</th>\n",
       "      <td>1993-04-05</td>\n",
       "      <td>1.040</td>\n",
       "      <td>1.061</td>\n",
       "      <td>1.064</td>\n",
       "      <td>1.093</td>\n",
       "      <td>1.152</td>\n",
       "      <td>-0.007</td>\n",
       "      <td>-0.016</td>\n",
       "      <td>-0.007</td>\n",
       "      <td>-0.025</td>\n",
       "      <td>-0.002</td>\n",
       "      <td>20.44</td>\n",
       "      <td>0.07</td>\n",
       "      <td>0.0007</td>\n",
       "    </tr>\n",
       "  </tbody>\n",
       "</table>\n",
       "<p>288 rows × 14 columns</p>\n",
       "</div>"
      ],
      "text/plain": [
       "           week  price_eastCoast  price_midwest  price_gulfCoast  \\\n",
       "1152 1998-10-05            1.034          1.050            1.003   \n",
       "1153 1998-09-28            1.029          1.041            0.995   \n",
       "1154 1998-09-21            1.023          1.047            0.989   \n",
       "1155 1998-09-14            1.024          1.020            0.989   \n",
       "1156 1998-09-07            1.028          1.027            0.989   \n",
       "...         ...              ...            ...              ...   \n",
       "1435 1993-05-03            1.062          1.073            1.084   \n",
       "1436 1993-04-26            1.059          1.078            1.081   \n",
       "1437 1993-04-19            1.054          1.067            1.081   \n",
       "1438 1993-04-12            1.047          1.077            1.071   \n",
       "1439 1993-04-05            1.040          1.061            1.064   \n",
       "\n",
       "      price_rockyMountain  price_westCoast  change_eastCoast  change_midwest  \\\n",
       "1152                1.130            1.182            -0.012           0.005   \n",
       "1153                1.135            1.187            -0.005          -0.009   \n",
       "1154                1.149            1.189            -0.006           0.006   \n",
       "1155                1.152            1.171             0.001          -0.027   \n",
       "1156                1.136            1.179             0.004           0.007   \n",
       "...                   ...              ...               ...             ...   \n",
       "1435                1.161            1.161            -0.007          -0.018   \n",
       "1436                1.169            1.157            -0.003           0.005   \n",
       "1437                1.120            1.155            -0.005          -0.011   \n",
       "1438                1.118            1.154            -0.007           0.010   \n",
       "1439                1.093            1.152            -0.007          -0.016   \n",
       "\n",
       "      change_gulfCoast  change_rockyMountain  change_westCoast  WTI_spotPrice  \\\n",
       "1152            -0.012                -0.018             0.004          15.83   \n",
       "1153            -0.008                 0.005             0.005          15.78   \n",
       "1154            -0.006                 0.014             0.002          14.88   \n",
       "1155             0.000                 0.003            -0.018          14.45   \n",
       "1156             0.000                -0.016             0.008          13.98   \n",
       "...                ...                   ...               ...            ...   \n",
       "1435            -0.004                 0.018            -0.010          20.30   \n",
       "1436            -0.003                 0.008            -0.004          19.95   \n",
       "1437             0.000                -0.049            -0.002          20.28   \n",
       "1438            -0.010                -0.002            -0.001          20.37   \n",
       "1439            -0.007                -0.025            -0.002          20.44   \n",
       "\n",
       "      change_WTI  change_WTI_normalized  \n",
       "1152        0.81                 0.0081  \n",
       "1153       -0.05                -0.0005  \n",
       "1154       -0.90                -0.0090  \n",
       "1155       -0.43                -0.0043  \n",
       "1156       -0.47                -0.0047  \n",
       "...          ...                    ...  \n",
       "1435       -0.17                -0.0017  \n",
       "1436       -0.35                -0.0035  \n",
       "1437        0.33                 0.0033  \n",
       "1438        0.09                 0.0009  \n",
       "1439        0.07                 0.0007  \n",
       "\n",
       "[288 rows x 14 columns]"
      ]
     },
     "execution_count": 20,
     "metadata": {},
     "output_type": "execute_result"
    }
   ],
   "source": [
    "combined_df_test"
   ]
  },
  {
   "cell_type": "code",
   "execution_count": 21,
   "metadata": {},
   "outputs": [],
   "source": [
    "#function for making windows\n",
    "def make_windows(X, y, time_steps=1):\n",
    "    Xs, ys = [], []\n",
    "    for i in range(len(X) - time_steps):\n",
    "        v = X.iloc[i:(i + time_steps)].values\n",
    "        Xs.append(v)\n",
    "        ys.append(y.iloc[i + time_steps])\n",
    "    return np.array(Xs), np.array(ys)"
   ]
  },
  {
   "cell_type": "code",
   "execution_count": 22,
   "metadata": {},
   "outputs": [
    {
     "name": "stdout",
     "output_type": "stream",
     "text": [
      "(1148, 4, 6) (1148, 6) (284, 4, 6) (284, 6)\n"
     ]
    }
   ],
   "source": [
    "time_steps = 4\n",
    "X_train, y_train = make_windows(combined_df_train[['change_WTI_normalized', \"change_eastCoast\", \"change_midwest\", \"change_gulfCoast\", \"change_rockyMountain\", \"change_westCoast\"]], combined_df_train[['change_WTI_normalized', \"change_eastCoast\", \"change_midwest\", \"change_gulfCoast\", \"change_rockyMountain\", \"change_westCoast\"]], time_steps)\n",
    "X_test, y_test = make_windows(combined_df_test[['change_WTI_normalized', \"change_eastCoast\", \"change_midwest\", \"change_gulfCoast\", \"change_rockyMountain\", \"change_westCoast\"]], combined_df_test[['change_WTI_normalized', \"change_eastCoast\", \"change_midwest\", \"change_gulfCoast\", \"change_rockyMountain\", \"change_westCoast\"]], time_steps)\n",
    "print(X_train.shape, y_train.shape, X_test.shape, y_test.shape)"
   ]
  },
  {
   "cell_type": "code",
   "execution_count": null,
   "metadata": {},
   "outputs": [],
   "source": []
  },
  {
   "cell_type": "markdown",
   "metadata": {},
   "source": [
    "## Build Model"
   ]
  },
  {
   "cell_type": "code",
   "execution_count": 23,
   "metadata": {},
   "outputs": [],
   "source": [
    "from tensorflow import keras"
   ]
  },
  {
   "cell_type": "code",
   "execution_count": 24,
   "metadata": {},
   "outputs": [],
   "source": [
    "model = keras.models.Sequential([\n",
    "    # Shape [batch, time, features] => [batch, time, lstm_units]\n",
    "    keras.layers.LSTM(units = 8, input_shape=(X_train.shape[1],X_train.shape[2]), return_sequences=False),\n",
    "    keras.layers.Dense(units=6)\n",
    "])"
   ]
  },
  {
   "cell_type": "code",
   "execution_count": 25,
   "metadata": {},
   "outputs": [
    {
     "name": "stdout",
     "output_type": "stream",
     "text": [
      "Model: \"sequential\"\n",
      "_________________________________________________________________\n",
      "Layer (type)                 Output Shape              Param #   \n",
      "=================================================================\n",
      "lstm (LSTM)                  (None, 8)                 480       \n",
      "_________________________________________________________________\n",
      "dense (Dense)                (None, 6)                 54        \n",
      "=================================================================\n",
      "Total params: 534\n",
      "Trainable params: 534\n",
      "Non-trainable params: 0\n",
      "_________________________________________________________________\n"
     ]
    }
   ],
   "source": [
    "model.summary()"
   ]
  },
  {
   "cell_type": "code",
   "execution_count": 26,
   "metadata": {},
   "outputs": [],
   "source": [
    "model.compile(\n",
    "    loss='mean_squared_error',\n",
    "    optimizer=keras.optimizers.Adam(0.001),\n",
    "    metrics=[\"mean_absolute_error\"]\n",
    ")"
   ]
  },
  {
   "cell_type": "code",
   "execution_count": 27,
   "metadata": {
    "collapsed": true,
    "jupyter": {
     "outputs_hidden": true
    }
   },
   "outputs": [
    {
     "name": "stdout",
     "output_type": "stream",
     "text": [
      "Epoch 1/100\n",
      "36/36 [==============================] - 0s 3ms/step - loss: 0.0034 - mean_absolute_error: 0.0398\n",
      "Epoch 2/100\n",
      "36/36 [==============================] - 0s 3ms/step - loss: 0.0031 - mean_absolute_error: 0.0379\n",
      "Epoch 3/100\n",
      "36/36 [==============================] - 0s 3ms/step - loss: 0.0029 - mean_absolute_error: 0.0364\n",
      "Epoch 4/100\n",
      "36/36 [==============================] - 0s 2ms/step - loss: 0.0027 - mean_absolute_error: 0.0352\n",
      "Epoch 5/100\n",
      "36/36 [==============================] - 0s 3ms/step - loss: 0.0026 - mean_absolute_error: 0.0342\n",
      "Epoch 6/100\n",
      "36/36 [==============================] - 0s 3ms/step - loss: 0.0024 - mean_absolute_error: 0.0332\n",
      "Epoch 7/100\n",
      "36/36 [==============================] - 0s 3ms/step - loss: 0.0023 - mean_absolute_error: 0.0322\n",
      "Epoch 8/100\n",
      "36/36 [==============================] - 0s 3ms/step - loss: 0.0022 - mean_absolute_error: 0.0314\n",
      "Epoch 9/100\n",
      "36/36 [==============================] - 0s 3ms/step - loss: 0.0021 - mean_absolute_error: 0.0307\n",
      "Epoch 10/100\n",
      "36/36 [==============================] - 0s 3ms/step - loss: 0.0021 - mean_absolute_error: 0.0301\n",
      "Epoch 11/100\n",
      "36/36 [==============================] - 0s 3ms/step - loss: 0.0020 - mean_absolute_error: 0.0296\n",
      "Epoch 12/100\n",
      "36/36 [==============================] - 0s 3ms/step - loss: 0.0019 - mean_absolute_error: 0.0291\n",
      "Epoch 13/100\n",
      "36/36 [==============================] - 0s 3ms/step - loss: 0.0019 - mean_absolute_error: 0.0287\n",
      "Epoch 14/100\n",
      "36/36 [==============================] - 0s 4ms/step - loss: 0.0018 - mean_absolute_error: 0.0284\n",
      "Epoch 15/100\n",
      "36/36 [==============================] - 0s 3ms/step - loss: 0.0018 - mean_absolute_error: 0.0280\n",
      "Epoch 16/100\n",
      "36/36 [==============================] - 0s 2ms/step - loss: 0.0018 - mean_absolute_error: 0.0277\n",
      "Epoch 17/100\n",
      "36/36 [==============================] - 0s 2ms/step - loss: 0.0017 - mean_absolute_error: 0.0274\n",
      "Epoch 18/100\n",
      "36/36 [==============================] - 0s 3ms/step - loss: 0.0017 - mean_absolute_error: 0.0272\n",
      "Epoch 19/100\n",
      "36/36 [==============================] - 0s 3ms/step - loss: 0.0017 - mean_absolute_error: 0.0270\n",
      "Epoch 20/100\n",
      "36/36 [==============================] - 0s 2ms/step - loss: 0.0017 - mean_absolute_error: 0.0268\n",
      "Epoch 21/100\n",
      "36/36 [==============================] - 0s 2ms/step - loss: 0.0016 - mean_absolute_error: 0.0267\n",
      "Epoch 22/100\n",
      "36/36 [==============================] - 0s 2ms/step - loss: 0.0016 - mean_absolute_error: 0.0265\n",
      "Epoch 23/100\n",
      "36/36 [==============================] - 0s 2ms/step - loss: 0.0016 - mean_absolute_error: 0.0264\n",
      "Epoch 24/100\n",
      "36/36 [==============================] - 0s 2ms/step - loss: 0.0016 - mean_absolute_error: 0.0262\n",
      "Epoch 25/100\n",
      "36/36 [==============================] - 0s 2ms/step - loss: 0.0016 - mean_absolute_error: 0.0261\n",
      "Epoch 26/100\n",
      "36/36 [==============================] - 0s 2ms/step - loss: 0.0016 - mean_absolute_error: 0.0260\n",
      "Epoch 27/100\n",
      "36/36 [==============================] - 0s 3ms/step - loss: 0.0016 - mean_absolute_error: 0.0259\n",
      "Epoch 28/100\n",
      "36/36 [==============================] - 0s 3ms/step - loss: 0.0016 - mean_absolute_error: 0.0258\n",
      "Epoch 29/100\n",
      "36/36 [==============================] - 0s 2ms/step - loss: 0.0015 - mean_absolute_error: 0.0257\n",
      "Epoch 30/100\n",
      "36/36 [==============================] - 0s 4ms/step - loss: 0.0015 - mean_absolute_error: 0.0257\n",
      "Epoch 31/100\n",
      "36/36 [==============================] - 0s 2ms/step - loss: 0.0015 - mean_absolute_error: 0.0256\n",
      "Epoch 32/100\n",
      "36/36 [==============================] - 0s 2ms/step - loss: 0.0015 - mean_absolute_error: 0.0255\n",
      "Epoch 33/100\n",
      "36/36 [==============================] - 0s 2ms/step - loss: 0.0015 - mean_absolute_error: 0.0254\n",
      "Epoch 34/100\n",
      "36/36 [==============================] - 0s 3ms/step - loss: 0.0015 - mean_absolute_error: 0.0254\n",
      "Epoch 35/100\n",
      "36/36 [==============================] - 0s 2ms/step - loss: 0.0015 - mean_absolute_error: 0.0253\n",
      "Epoch 36/100\n",
      "36/36 [==============================] - 0s 2ms/step - loss: 0.0015 - mean_absolute_error: 0.0252\n",
      "Epoch 37/100\n",
      "36/36 [==============================] - 0s 2ms/step - loss: 0.0015 - mean_absolute_error: 0.0252\n",
      "Epoch 38/100\n",
      "36/36 [==============================] - 0s 2ms/step - loss: 0.0015 - mean_absolute_error: 0.0251\n",
      "Epoch 39/100\n",
      "36/36 [==============================] - 0s 2ms/step - loss: 0.0015 - mean_absolute_error: 0.0251\n",
      "Epoch 40/100\n",
      "36/36 [==============================] - 0s 2ms/step - loss: 0.0015 - mean_absolute_error: 0.0250\n",
      "Epoch 41/100\n",
      "36/36 [==============================] - 0s 2ms/step - loss: 0.0015 - mean_absolute_error: 0.0250\n",
      "Epoch 42/100\n",
      "36/36 [==============================] - 0s 2ms/step - loss: 0.0015 - mean_absolute_error: 0.0249\n",
      "Epoch 43/100\n",
      "36/36 [==============================] - 0s 2ms/step - loss: 0.0014 - mean_absolute_error: 0.0249\n",
      "Epoch 44/100\n",
      "36/36 [==============================] - 0s 2ms/step - loss: 0.0014 - mean_absolute_error: 0.0248\n",
      "Epoch 45/100\n",
      "36/36 [==============================] - 0s 2ms/step - loss: 0.0014 - mean_absolute_error: 0.0248\n",
      "Epoch 46/100\n",
      "36/36 [==============================] - 0s 2ms/step - loss: 0.0014 - mean_absolute_error: 0.0247\n",
      "Epoch 47/100\n",
      "36/36 [==============================] - 0s 3ms/step - loss: 0.0014 - mean_absolute_error: 0.0247\n",
      "Epoch 48/100\n",
      "36/36 [==============================] - 0s 3ms/step - loss: 0.0014 - mean_absolute_error: 0.0247\n",
      "Epoch 49/100\n",
      "36/36 [==============================] - 0s 3ms/step - loss: 0.0014 - mean_absolute_error: 0.0246\n",
      "Epoch 50/100\n",
      "36/36 [==============================] - 0s 2ms/step - loss: 0.0014 - mean_absolute_error: 0.0246\n",
      "Epoch 51/100\n",
      "36/36 [==============================] - 0s 3ms/step - loss: 0.0014 - mean_absolute_error: 0.0246\n",
      "Epoch 52/100\n",
      "36/36 [==============================] - 0s 3ms/step - loss: 0.0014 - mean_absolute_error: 0.0245\n",
      "Epoch 53/100\n",
      "36/36 [==============================] - 0s 3ms/step - loss: 0.0014 - mean_absolute_error: 0.0245\n",
      "Epoch 54/100\n",
      "36/36 [==============================] - 0s 2ms/step - loss: 0.0014 - mean_absolute_error: 0.0245\n",
      "Epoch 55/100\n",
      "36/36 [==============================] - 0s 2ms/step - loss: 0.0014 - mean_absolute_error: 0.0245\n",
      "Epoch 56/100\n",
      "36/36 [==============================] - 0s 2ms/step - loss: 0.0014 - mean_absolute_error: 0.0244\n",
      "Epoch 57/100\n",
      "36/36 [==============================] - 0s 2ms/step - loss: 0.0014 - mean_absolute_error: 0.0244\n",
      "Epoch 58/100\n",
      "36/36 [==============================] - 0s 2ms/step - loss: 0.0014 - mean_absolute_error: 0.0244\n",
      "Epoch 59/100\n",
      "36/36 [==============================] - 0s 2ms/step - loss: 0.0014 - mean_absolute_error: 0.0244\n",
      "Epoch 60/100\n",
      "36/36 [==============================] - 0s 2ms/step - loss: 0.0014 - mean_absolute_error: 0.0243\n",
      "Epoch 61/100\n",
      "36/36 [==============================] - 0s 2ms/step - loss: 0.0014 - mean_absolute_error: 0.0243\n",
      "Epoch 62/100\n",
      "36/36 [==============================] - 0s 2ms/step - loss: 0.0014 - mean_absolute_error: 0.0243\n",
      "Epoch 63/100\n",
      "36/36 [==============================] - 0s 2ms/step - loss: 0.0014 - mean_absolute_error: 0.0243\n",
      "Epoch 64/100\n",
      "36/36 [==============================] - 0s 2ms/step - loss: 0.0014 - mean_absolute_error: 0.0242\n",
      "Epoch 65/100\n",
      "36/36 [==============================] - 0s 2ms/step - loss: 0.0014 - mean_absolute_error: 0.0242\n",
      "Epoch 66/100\n",
      "36/36 [==============================] - 0s 2ms/step - loss: 0.0014 - mean_absolute_error: 0.0242\n",
      "Epoch 67/100\n",
      "36/36 [==============================] - 0s 2ms/step - loss: 0.0014 - mean_absolute_error: 0.0242\n",
      "Epoch 68/100\n",
      "36/36 [==============================] - 0s 2ms/step - loss: 0.0014 - mean_absolute_error: 0.0242\n",
      "Epoch 69/100\n",
      "36/36 [==============================] - 0s 2ms/step - loss: 0.0014 - mean_absolute_error: 0.0241\n",
      "Epoch 70/100\n",
      "36/36 [==============================] - 0s 2ms/step - loss: 0.0014 - mean_absolute_error: 0.0241\n",
      "Epoch 71/100\n",
      "36/36 [==============================] - 0s 2ms/step - loss: 0.0014 - mean_absolute_error: 0.0241\n",
      "Epoch 72/100\n",
      "36/36 [==============================] - 0s 2ms/step - loss: 0.0014 - mean_absolute_error: 0.0241\n",
      "Epoch 73/100\n",
      "36/36 [==============================] - 0s 2ms/step - loss: 0.0014 - mean_absolute_error: 0.0241\n",
      "Epoch 74/100\n",
      "36/36 [==============================] - 0s 2ms/step - loss: 0.0014 - mean_absolute_error: 0.0240\n",
      "Epoch 75/100\n",
      "36/36 [==============================] - 0s 2ms/step - loss: 0.0014 - mean_absolute_error: 0.0240\n",
      "Epoch 76/100\n",
      "36/36 [==============================] - 0s 2ms/step - loss: 0.0014 - mean_absolute_error: 0.0240\n",
      "Epoch 77/100\n",
      "36/36 [==============================] - 0s 2ms/step - loss: 0.0014 - mean_absolute_error: 0.0240\n",
      "Epoch 78/100\n",
      "36/36 [==============================] - 0s 2ms/step - loss: 0.0014 - mean_absolute_error: 0.0240\n",
      "Epoch 79/100\n",
      "36/36 [==============================] - 0s 2ms/step - loss: 0.0014 - mean_absolute_error: 0.0240\n",
      "Epoch 80/100\n",
      "36/36 [==============================] - 0s 2ms/step - loss: 0.0013 - mean_absolute_error: 0.0239\n",
      "Epoch 81/100\n",
      "36/36 [==============================] - 0s 2ms/step - loss: 0.0013 - mean_absolute_error: 0.0239\n",
      "Epoch 82/100\n",
      "36/36 [==============================] - 0s 2ms/step - loss: 0.0013 - mean_absolute_error: 0.0239\n",
      "Epoch 83/100\n",
      "36/36 [==============================] - 0s 2ms/step - loss: 0.0013 - mean_absolute_error: 0.0239\n",
      "Epoch 84/100\n",
      "36/36 [==============================] - 0s 2ms/step - loss: 0.0013 - mean_absolute_error: 0.0239A: 0s - loss: 0.0015 - mean_absolute_error: 0.026\n",
      "Epoch 85/100\n",
      "36/36 [==============================] - 0s 2ms/step - loss: 0.0013 - mean_absolute_error: 0.0239\n",
      "Epoch 86/100\n",
      "36/36 [==============================] - 0s 2ms/step - loss: 0.0013 - mean_absolute_error: 0.0239\n",
      "Epoch 87/100\n",
      "36/36 [==============================] - 0s 2ms/step - loss: 0.0013 - mean_absolute_error: 0.0238\n",
      "Epoch 88/100\n",
      "36/36 [==============================] - 0s 2ms/step - loss: 0.0013 - mean_absolute_error: 0.0238\n",
      "Epoch 89/100\n",
      "36/36 [==============================] - 0s 2ms/step - loss: 0.0013 - mean_absolute_error: 0.0238\n",
      "Epoch 90/100\n",
      "36/36 [==============================] - 0s 2ms/step - loss: 0.0013 - mean_absolute_error: 0.0238\n",
      "Epoch 91/100\n",
      "36/36 [==============================] - 0s 2ms/step - loss: 0.0013 - mean_absolute_error: 0.0238\n",
      "Epoch 92/100\n",
      "36/36 [==============================] - 0s 2ms/step - loss: 0.0013 - mean_absolute_error: 0.0238\n",
      "Epoch 93/100\n",
      "36/36 [==============================] - 0s 3ms/step - loss: 0.0013 - mean_absolute_error: 0.0238\n",
      "Epoch 94/100\n",
      "36/36 [==============================] - 0s 3ms/step - loss: 0.0013 - mean_absolute_error: 0.0238\n",
      "Epoch 95/100\n",
      "36/36 [==============================] - 0s 4ms/step - loss: 0.0013 - mean_absolute_error: 0.0237\n",
      "Epoch 96/100\n",
      "36/36 [==============================] - 0s 3ms/step - loss: 0.0013 - mean_absolute_error: 0.0237\n",
      "Epoch 97/100\n",
      "36/36 [==============================] - 0s 2ms/step - loss: 0.0013 - mean_absolute_error: 0.0237\n",
      "Epoch 98/100\n",
      "36/36 [==============================] - 0s 2ms/step - loss: 0.0013 - mean_absolute_error: 0.0237\n",
      "Epoch 99/100\n",
      "36/36 [==============================] - 0s 2ms/step - loss: 0.0013 - mean_absolute_error: 0.0237\n",
      "Epoch 100/100\n",
      "36/36 [==============================] - 0s 3ms/step - loss: 0.0013 - mean_absolute_error: 0.0237\n"
     ]
    }
   ],
   "source": [
    "history = model.fit(\n",
    "    X_train, y_train,\n",
    "    epochs=100,\n",
    "    verbose=1,\n",
    "    shuffle=False\n",
    ")"
   ]
  },
  {
   "cell_type": "code",
   "execution_count": 28,
   "metadata": {},
   "outputs": [
    {
     "data": {
      "text/plain": [
       "<tensorflow.python.keras.callbacks.History at 0x260fa7989c8>"
      ]
     },
     "execution_count": 28,
     "metadata": {},
     "output_type": "execute_result"
    }
   ],
   "source": [
    "history"
   ]
  },
  {
   "cell_type": "code",
   "execution_count": 29,
   "metadata": {},
   "outputs": [],
   "source": [
    "y_pred = model.predict(X_test)"
   ]
  },
  {
   "cell_type": "code",
   "execution_count": 30,
   "metadata": {},
   "outputs": [
    {
     "data": {
      "text/plain": [
       "array([[-2.3907423e-04,  4.5374273e-03,  5.7346486e-03,  3.7874496e-03,\n",
       "         9.5342947e-03,  3.1315032e-03],\n",
       "       [-3.3603003e-04, -2.6248768e-04,  3.9768424e-03,  1.4711658e-03,\n",
       "        -2.1654824e-03,  8.8584295e-04],\n",
       "       [ 6.6922139e-04,  2.9788134e-03,  8.1600603e-03,  4.0241471e-03,\n",
       "         8.4468955e-03,  6.7040045e-03],\n",
       "       ...,\n",
       "       [ 1.9161031e-05,  2.2253012e-03,  4.0226858e-03,  2.6017043e-03,\n",
       "         1.2020082e-02,  6.6247294e-03],\n",
       "       [-2.9816041e-03, -1.0842139e-02, -7.5368485e-03, -8.1145270e-03,\n",
       "        -1.8244896e-02, -1.3428467e-02],\n",
       "       [-5.1491642e-03, -1.4681678e-02, -1.6438734e-02, -1.4745138e-02,\n",
       "        -1.0658210e-02, -1.2439420e-02]], dtype=float32)"
      ]
     },
     "execution_count": 30,
     "metadata": {},
     "output_type": "execute_result"
    }
   ],
   "source": [
    "y_pred"
   ]
  },
  {
   "cell_type": "code",
   "execution_count": 31,
   "metadata": {},
   "outputs": [
    {
     "data": {
      "text/plain": [
       "array([[-0.0047,  0.004 ,  0.007 ,  0.    , -0.016 ,  0.008 ],\n",
       "       [-0.0033,  0.006 ,  0.005 ,  0.01  ,  0.015 ,  0.005 ],\n",
       "       [-0.0032,  0.004 ,  0.003 ,  0.011 ,  0.01  ,  0.008 ],\n",
       "       ...,\n",
       "       [ 0.0033, -0.005 , -0.011 ,  0.    , -0.049 , -0.002 ],\n",
       "       [ 0.0009, -0.007 ,  0.01  , -0.01  , -0.002 , -0.001 ],\n",
       "       [ 0.0007, -0.007 , -0.016 , -0.007 , -0.025 , -0.002 ]])"
      ]
     },
     "execution_count": 31,
     "metadata": {},
     "output_type": "execute_result"
    }
   ],
   "source": [
    "y_test"
   ]
  },
  {
   "cell_type": "code",
   "execution_count": 32,
   "metadata": {},
   "outputs": [
    {
     "name": "stdout",
     "output_type": "stream",
     "text": [
      "9/9 [==============================] - 0s 1ms/step - loss: 2.5877e-04 - mean_absolute_error: 0.0106\n"
     ]
    },
    {
     "data": {
      "text/plain": [
       "[0.0002587685885373503, 0.01062704622745514]"
      ]
     },
     "execution_count": 32,
     "metadata": {},
     "output_type": "execute_result"
    }
   ],
   "source": [
    "model.evaluate(X_test, y_test)"
   ]
  },
  {
   "cell_type": "code",
   "execution_count": 33,
   "metadata": {},
   "outputs": [
    {
     "data": {
      "text/plain": [
       "['loss', 'mean_absolute_error']"
      ]
     },
     "execution_count": 33,
     "metadata": {},
     "output_type": "execute_result"
    }
   ],
   "source": [
    "model.metrics_names"
   ]
  },
  {
   "cell_type": "code",
   "execution_count": 34,
   "metadata": {},
   "outputs": [
    {
     "data": {
      "text/plain": [
       "[<matplotlib.lines.Line2D at 0x260fea459c8>]"
      ]
     },
     "execution_count": 34,
     "metadata": {},
     "output_type": "execute_result"
    },
    {
     "data": {
      "image/png": "[encoded data removed]",
      "text/plain": [
       "<Figure size 432x288 with 1 Axes>"
      ]
     },
     "metadata": {
      "needs_background": "light"
     },
     "output_type": "display_data"
    }
   ],
   "source": [
    "plt.plot(history.history['loss'])"
   ]
  },
  {
   "cell_type": "code",
   "execution_count": 35,
   "metadata": {},
   "outputs": [
    {
     "data": {
      "text/plain": [
       "[<matplotlib.lines.Line2D at 0x260ff1bdc48>]"
      ]
     },
     "execution_count": 35,
     "metadata": {},
     "output_type": "execute_result"
    },
    {
     "data": {
      "image/png": "[encoded data removed]",
      "text/plain": [
       "<Figure size 432x288 with 1 Axes>"
      ]
     },
     "metadata": {
      "needs_background": "light"
     },
     "output_type": "display_data"
    }
   ],
   "source": [
    "plt.plot(history.history['mean_absolute_error'])"
   ]
  },
  {
   "cell_type": "code",
   "execution_count": 36,
   "metadata": {},
   "outputs": [],
   "source": [
    "y_err = np.abs(y_pred - y_test)"
   ]
  },
  {
   "cell_type": "code",
   "execution_count": 37,
   "metadata": {},
   "outputs": [
    {
     "data": {
      "text/plain": [
       "[<matplotlib.lines.Line2D at 0x260ff208f88>,\n",
       " <matplotlib.lines.Line2D at 0x260ff220e48>,\n",
       " <matplotlib.lines.Line2D at 0x260ff235348>,\n",
       " <matplotlib.lines.Line2D at 0x260ff235488>,\n",
       " <matplotlib.lines.Line2D at 0x260ff235688>,\n",
       " <matplotlib.lines.Line2D at 0x260ff235848>]"
      ]
     },
     "execution_count": 37,
     "metadata": {},
     "output_type": "execute_result"
    },
    {
     "data": {
      "image/png": "[encoded data removed]",
      "text/plain": [
       "<Figure size 432x288 with 1 Axes>"
      ]
     },
     "metadata": {
      "needs_background": "light"
     },
     "output_type": "display_data"
    }
   ],
   "source": [
    "fig, ax = plt.subplots()\n",
    "ax.plot(y_err)"
   ]
  },
  {
   "cell_type": "markdown",
   "metadata": {},
   "source": [
    "## Save Model"
   ]
  },
  {
   "cell_type": "code",
   "execution_count": 38,
   "metadata": {},
   "outputs": [],
   "source": [
    "#model.save(\"test_model.h5\")"
   ]
  },
  {
   "cell_type": "code",
   "execution_count": 39,
   "metadata": {},
   "outputs": [],
   "source": [
    "#!tensorflowjs_converter --input_format keras \"test_model.h5\" ./jsmodel"
   ]
  },
  {
   "cell_type": "code",
   "execution_count": null,
   "metadata": {},
   "outputs": [],
   "source": []
  }
 ],
 "metadata": {
  "kernelspec": {
   "display_name": "Python 3",
   "language": "python",
   "name": "python3"
  },
  "language_info": {
   "codemirror_mode": {
    "name": "ipython",
    "version": 3
   },
   "file_extension": ".py",
   "mimetype": "text/x-python",
   "name": "python",
   "nbconvert_exporter": "python",
   "pygments_lexer": "ipython3",
   "version": "3.7.7"
  }
 },
 "nbformat": 4,
 "nbformat_minor": 4
}
