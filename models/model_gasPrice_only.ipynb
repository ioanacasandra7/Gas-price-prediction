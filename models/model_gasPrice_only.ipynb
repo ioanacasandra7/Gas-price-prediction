{
 "cells": [
  {
   "cell_type": "code",
   "execution_count": 1,
   "metadata": {},
   "outputs": [],
   "source": [
    "import requests\n",
    "from config import API_KEY\n",
    "import pandas as pd\n",
    "import numpy as np"
   ]
  },
  {
   "cell_type": "markdown",
   "metadata": {},
   "source": [
    "## Get Data from eia API"
   ]
  },
  {
   "cell_type": "code",
   "execution_count": 2,
   "metadata": {},
   "outputs": [],
   "source": [
    "eastCoast = f\"http://api.eia.gov/series/?api_key={API_KEY}&series_id=PET.EMM_EPM0_PTE_R10_DPG.W\"\n",
    "midwest = f\"http://api.eia.gov/series/?api_key={API_KEY}&series_id=PET.EMM_EPM0_PTE_R20_DPG.W\"\n",
    "gulfCoast = f\"http://api.eia.gov/series/?api_key={API_KEY}&series_id=PET.EMM_EPM0_PTE_R30_DPG.W\"\n",
    "rockyMountain = f\"http://api.eia.gov/series/?api_key={API_KEY}&series_id=PET.EMM_EPM0_PTE_R40_DPG.W\"\n",
    "westCoast = f\"http://api.eia.gov/series/?api_key={API_KEY}&series_id=PET.EMM_EPM0_PTE_R50_DPG.W\""
   ]
  },
  {
   "cell_type": "code",
   "execution_count": 3,
   "metadata": {},
   "outputs": [],
   "source": [
    "eastCoast_df = pd.DataFrame(requests.get(eastCoast).json()['series'][0]['data'])\n",
    "midwest_df = pd.DataFrame(requests.get(midwest).json()['series'][0]['data'])\n",
    "gulfCoast_df = pd.DataFrame(requests.get(gulfCoast).json()['series'][0]['data'])\n",
    "rockyMountain_df = pd.DataFrame(requests.get(rockyMountain).json()['series'][0]['data'])\n",
    "westCoast_df = pd.DataFrame(requests.get(westCoast).json()['series'][0]['data'])"
   ]
  },
  {
   "cell_type": "code",
   "execution_count": 4,
   "metadata": {},
   "outputs": [],
   "source": [
    "eastCoast_df.rename(columns = {0:\"week\", 1:\"price_eastCoast\"}, inplace = True)\n",
    "midwest_df.rename(columns = {0:\"week\", 1:\"price_midwest\"}, inplace = True)\n",
    "gulfCoast_df.rename(columns = {0:\"week\", 1:\"price_gulfCoast\"}, inplace = True)\n",
    "rockyMountain_df.rename(columns = {0:\"week\", 1:\"price_rockyMountain\"}, inplace = True)\n",
    "westCoast_df.rename(columns = {0:\"week\", 1:\"price_westCoast\"}, inplace = True)"
   ]
  },
  {
   "cell_type": "code",
   "execution_count": 5,
   "metadata": {},
   "outputs": [],
   "source": [
    "eastCoast_df['week'] = pd.to_datetime(eastCoast_df['week'])\n",
    "midwest_df['week'] = pd.to_datetime(midwest_df['week'])\n",
    "gulfCoast_df['week'] = pd.to_datetime(gulfCoast_df['week'])\n",
    "rockyMountain_df['week'] = pd.to_datetime(rockyMountain_df['week'])\n",
    "westCoast_df['week'] = pd.to_datetime(westCoast_df['week'])"
   ]
  },
  {
   "cell_type": "code",
   "execution_count": 7,
   "metadata": {},
   "outputs": [],
   "source": [
    "prices_df = eastCoast_df.merge(midwest_df , on = \"week\", suffixes=('', ''))\\\n",
    "            .merge(gulfCoast_df , on = \"week\", suffixes=('', ''))\\\n",
    "            .merge(rockyMountain_df , on = \"week\", suffixes=('', ''))\\\n",
    "            .merge(westCoast_df , on = \"week\", suffixes=('', ''))"
   ]
  },
  {
   "cell_type": "code",
   "execution_count": 10,
   "metadata": {},
   "outputs": [],
   "source": [
    "regions = [\"eastCoast\", \"midwest\", \"gulfCoast\", \"rockyMountain\", \"westCoast\"]\n",
    "for region in regions:\n",
    "    prices_df['change_' + region] = prices_df['price_' + region].diff()"
   ]
  },
  {
   "cell_type": "code",
   "execution_count": 11,
   "metadata": {},
   "outputs": [
    {
     "data": {
      "text/html": [
       "<div>\n",
       "<style scoped>\n",
       "    .dataframe tbody tr th:only-of-type {\n",
       "        vertical-align: middle;\n",
       "    }\n",
       "\n",
       "    .dataframe tbody tr th {\n",
       "        vertical-align: top;\n",
       "    }\n",
       "\n",
       "    .dataframe thead th {\n",
       "        text-align: right;\n",
       "    }\n",
       "</style>\n",
       "<table border=\"1\" class=\"dataframe\">\n",
       "  <thead>\n",
       "    <tr style=\"text-align: right;\">\n",
       "      <th></th>\n",
       "      <th>week</th>\n",
       "      <th>price_eastCoast</th>\n",
       "      <th>price_midwest</th>\n",
       "      <th>price_gulfCoast</th>\n",
       "      <th>price_rockyMountain</th>\n",
       "      <th>price_westCoast</th>\n",
       "      <th>change_eastCoast</th>\n",
       "      <th>change_midwest</th>\n",
       "      <th>change_gulfCoast</th>\n",
       "      <th>change_rockyMountain</th>\n",
       "      <th>change_westCoast</th>\n",
       "    </tr>\n",
       "  </thead>\n",
       "  <tbody>\n",
       "    <tr>\n",
       "      <th>0</th>\n",
       "      <td>2020-11-09</td>\n",
       "      <td>2.127</td>\n",
       "      <td>2.025</td>\n",
       "      <td>1.823</td>\n",
       "      <td>2.304</td>\n",
       "      <td>2.863</td>\n",
       "      <td>NaN</td>\n",
       "      <td>NaN</td>\n",
       "      <td>NaN</td>\n",
       "      <td>NaN</td>\n",
       "      <td>NaN</td>\n",
       "    </tr>\n",
       "    <tr>\n",
       "      <th>1</th>\n",
       "      <td>2020-11-02</td>\n",
       "      <td>2.149</td>\n",
       "      <td>2.026</td>\n",
       "      <td>1.862</td>\n",
       "      <td>2.320</td>\n",
       "      <td>2.869</td>\n",
       "      <td>0.022</td>\n",
       "      <td>0.001</td>\n",
       "      <td>0.039</td>\n",
       "      <td>0.016</td>\n",
       "      <td>0.006</td>\n",
       "    </tr>\n",
       "    <tr>\n",
       "      <th>2</th>\n",
       "      <td>2020-10-26</td>\n",
       "      <td>2.173</td>\n",
       "      <td>2.069</td>\n",
       "      <td>1.908</td>\n",
       "      <td>2.340</td>\n",
       "      <td>2.882</td>\n",
       "      <td>0.024</td>\n",
       "      <td>0.043</td>\n",
       "      <td>0.046</td>\n",
       "      <td>0.020</td>\n",
       "      <td>0.013</td>\n",
       "    </tr>\n",
       "    <tr>\n",
       "      <th>3</th>\n",
       "      <td>2020-10-19</td>\n",
       "      <td>2.196</td>\n",
       "      <td>2.057</td>\n",
       "      <td>1.905</td>\n",
       "      <td>2.359</td>\n",
       "      <td>2.887</td>\n",
       "      <td>0.023</td>\n",
       "      <td>-0.012</td>\n",
       "      <td>-0.003</td>\n",
       "      <td>0.019</td>\n",
       "      <td>0.005</td>\n",
       "    </tr>\n",
       "    <tr>\n",
       "      <th>4</th>\n",
       "      <td>2020-10-12</td>\n",
       "      <td>2.209</td>\n",
       "      <td>2.089</td>\n",
       "      <td>1.914</td>\n",
       "      <td>2.367</td>\n",
       "      <td>2.895</td>\n",
       "      <td>0.013</td>\n",
       "      <td>0.032</td>\n",
       "      <td>0.009</td>\n",
       "      <td>0.008</td>\n",
       "      <td>0.008</td>\n",
       "    </tr>\n",
       "    <tr>\n",
       "      <th>...</th>\n",
       "      <td>...</td>\n",
       "      <td>...</td>\n",
       "      <td>...</td>\n",
       "      <td>...</td>\n",
       "      <td>...</td>\n",
       "      <td>...</td>\n",
       "      <td>...</td>\n",
       "      <td>...</td>\n",
       "      <td>...</td>\n",
       "      <td>...</td>\n",
       "      <td>...</td>\n",
       "    </tr>\n",
       "    <tr>\n",
       "      <th>1436</th>\n",
       "      <td>1993-05-03</td>\n",
       "      <td>1.062</td>\n",
       "      <td>1.073</td>\n",
       "      <td>1.084</td>\n",
       "      <td>1.161</td>\n",
       "      <td>1.161</td>\n",
       "      <td>-0.007</td>\n",
       "      <td>-0.018</td>\n",
       "      <td>-0.004</td>\n",
       "      <td>0.018</td>\n",
       "      <td>-0.010</td>\n",
       "    </tr>\n",
       "    <tr>\n",
       "      <th>1437</th>\n",
       "      <td>1993-04-26</td>\n",
       "      <td>1.059</td>\n",
       "      <td>1.078</td>\n",
       "      <td>1.081</td>\n",
       "      <td>1.169</td>\n",
       "      <td>1.157</td>\n",
       "      <td>-0.003</td>\n",
       "      <td>0.005</td>\n",
       "      <td>-0.003</td>\n",
       "      <td>0.008</td>\n",
       "      <td>-0.004</td>\n",
       "    </tr>\n",
       "    <tr>\n",
       "      <th>1438</th>\n",
       "      <td>1993-04-19</td>\n",
       "      <td>1.054</td>\n",
       "      <td>1.067</td>\n",
       "      <td>1.081</td>\n",
       "      <td>1.120</td>\n",
       "      <td>1.155</td>\n",
       "      <td>-0.005</td>\n",
       "      <td>-0.011</td>\n",
       "      <td>0.000</td>\n",
       "      <td>-0.049</td>\n",
       "      <td>-0.002</td>\n",
       "    </tr>\n",
       "    <tr>\n",
       "      <th>1439</th>\n",
       "      <td>1993-04-12</td>\n",
       "      <td>1.047</td>\n",
       "      <td>1.077</td>\n",
       "      <td>1.071</td>\n",
       "      <td>1.118</td>\n",
       "      <td>1.154</td>\n",
       "      <td>-0.007</td>\n",
       "      <td>0.010</td>\n",
       "      <td>-0.010</td>\n",
       "      <td>-0.002</td>\n",
       "      <td>-0.001</td>\n",
       "    </tr>\n",
       "    <tr>\n",
       "      <th>1440</th>\n",
       "      <td>1993-04-05</td>\n",
       "      <td>1.040</td>\n",
       "      <td>1.061</td>\n",
       "      <td>1.064</td>\n",
       "      <td>1.093</td>\n",
       "      <td>1.152</td>\n",
       "      <td>-0.007</td>\n",
       "      <td>-0.016</td>\n",
       "      <td>-0.007</td>\n",
       "      <td>-0.025</td>\n",
       "      <td>-0.002</td>\n",
       "    </tr>\n",
       "  </tbody>\n",
       "</table>\n",
       "<p>1441 rows × 11 columns</p>\n",
       "</div>"
      ],
      "text/plain": [
       "           week  price_eastCoast  price_midwest  price_gulfCoast  \\\n",
       "0    2020-11-09            2.127          2.025            1.823   \n",
       "1    2020-11-02            2.149          2.026            1.862   \n",
       "2    2020-10-26            2.173          2.069            1.908   \n",
       "3    2020-10-19            2.196          2.057            1.905   \n",
       "4    2020-10-12            2.209          2.089            1.914   \n",
       "...         ...              ...            ...              ...   \n",
       "1436 1993-05-03            1.062          1.073            1.084   \n",
       "1437 1993-04-26            1.059          1.078            1.081   \n",
       "1438 1993-04-19            1.054          1.067            1.081   \n",
       "1439 1993-04-12            1.047          1.077            1.071   \n",
       "1440 1993-04-05            1.040          1.061            1.064   \n",
       "\n",
       "      price_rockyMountain  price_westCoast  change_eastCoast  change_midwest  \\\n",
       "0                   2.304            2.863               NaN             NaN   \n",
       "1                   2.320            2.869             0.022           0.001   \n",
       "2                   2.340            2.882             0.024           0.043   \n",
       "3                   2.359            2.887             0.023          -0.012   \n",
       "4                   2.367            2.895             0.013           0.032   \n",
       "...                   ...              ...               ...             ...   \n",
       "1436                1.161            1.161            -0.007          -0.018   \n",
       "1437                1.169            1.157            -0.003           0.005   \n",
       "1438                1.120            1.155            -0.005          -0.011   \n",
       "1439                1.118            1.154            -0.007           0.010   \n",
       "1440                1.093            1.152            -0.007          -0.016   \n",
       "\n",
       "      change_gulfCoast  change_rockyMountain  change_westCoast  \n",
       "0                  NaN                   NaN               NaN  \n",
       "1                0.039                 0.016             0.006  \n",
       "2                0.046                 0.020             0.013  \n",
       "3               -0.003                 0.019             0.005  \n",
       "4                0.009                 0.008             0.008  \n",
       "...                ...                   ...               ...  \n",
       "1436            -0.004                 0.018            -0.010  \n",
       "1437            -0.003                 0.008            -0.004  \n",
       "1438             0.000                -0.049            -0.002  \n",
       "1439            -0.010                -0.002            -0.001  \n",
       "1440            -0.007                -0.025            -0.002  \n",
       "\n",
       "[1441 rows x 11 columns]"
      ]
     },
     "execution_count": 11,
     "metadata": {},
     "output_type": "execute_result"
    }
   ],
   "source": [
    "prices_df"
   ]
  },
  {
   "cell_type": "code",
   "execution_count": 12,
   "metadata": {},
   "outputs": [],
   "source": [
    "prices_df.dropna(inplace =True)"
   ]
  },
  {
   "cell_type": "code",
   "execution_count": 14,
   "metadata": {},
   "outputs": [
    {
     "data": {
      "text/plain": [
       "<AxesSubplot:xlabel='week'>"
      ]
     },
     "execution_count": 14,
     "metadata": {},
     "output_type": "execute_result"
    },
    {
     "data": {
      "image/png": "[encoded data removed]",
      "text/plain": [
       "<Figure size 432x288 with 1 Axes>"
      ]
     },
     "metadata": {
      "needs_background": "light"
     },
     "output_type": "display_data"
    }
   ],
   "source": [
    "prices_df.plot(x = 'week', y=[\"change_eastCoast\", \"change_midwest\", \"change_gulfCoast\", \"change_rockyMountain\", \"change_westCoast\"])"
   ]
  },
  {
   "cell_type": "markdown",
   "metadata": {},
   "source": [
    "## Processs the data"
   ]
  },
  {
   "cell_type": "code",
   "execution_count": 16,
   "metadata": {},
   "outputs": [],
   "source": [
    "#train test split\n",
    "train_size = int(0.8 * len(prices_df))\n",
    "prices_df_train = prices_df.iloc[0:train_size]\n",
    "prices_df_test = prices_df.iloc[train_size:]"
   ]
  },
  {
   "cell_type": "code",
   "execution_count": 17,
   "metadata": {},
   "outputs": [
    {
     "ename": "NameError",
     "evalue": "name 'df_train' is not defined",
     "output_type": "error",
     "traceback": [
      "\u001b[1;31m---------------------------------------------------------------------------\u001b[0m",
      "\u001b[1;31mNameError\u001b[0m                                 Traceback (most recent call last)",
      "\u001b[1;32m<ipython-input-17-f45937856810>\u001b[0m in \u001b[0;36m<module>\u001b[1;34m\u001b[0m\n\u001b[1;32m----> 1\u001b[1;33m \u001b[0mdf_train\u001b[0m\u001b[1;33m\u001b[0m\u001b[1;33m\u001b[0m\u001b[0m\n\u001b[0m",
      "\u001b[1;31mNameError\u001b[0m: name 'df_train' is not defined"
     ]
    }
   ],
   "source": [
    "pricesdf_train"
   ]
  },
  {
   "cell_type": "code",
   "execution_count": 14,
   "metadata": {},
   "outputs": [
    {
     "data": {
      "text/html": [
       "<div>\n",
       "<style scoped>\n",
       "    .dataframe tbody tr th:only-of-type {\n",
       "        vertical-align: middle;\n",
       "    }\n",
       "\n",
       "    .dataframe tbody tr th {\n",
       "        vertical-align: top;\n",
       "    }\n",
       "\n",
       "    .dataframe thead th {\n",
       "        text-align: right;\n",
       "    }\n",
       "</style>\n",
       "<table border=\"1\" class=\"dataframe\">\n",
       "  <thead>\n",
       "    <tr style=\"text-align: right;\">\n",
       "      <th></th>\n",
       "      <th>week</th>\n",
       "      <th>price</th>\n",
       "      <th>change</th>\n",
       "    </tr>\n",
       "  </thead>\n",
       "  <tbody>\n",
       "    <tr>\n",
       "      <th>853</th>\n",
       "      <td>2004-07-05</td>\n",
       "      <td>1.918</td>\n",
       "      <td>-0.027</td>\n",
       "    </tr>\n",
       "    <tr>\n",
       "      <th>854</th>\n",
       "      <td>2004-06-28</td>\n",
       "      <td>1.936</td>\n",
       "      <td>0.018</td>\n",
       "    </tr>\n",
       "    <tr>\n",
       "      <th>855</th>\n",
       "      <td>2004-06-21</td>\n",
       "      <td>1.951</td>\n",
       "      <td>0.015</td>\n",
       "    </tr>\n",
       "    <tr>\n",
       "      <th>856</th>\n",
       "      <td>2004-06-14</td>\n",
       "      <td>2.027</td>\n",
       "      <td>0.076</td>\n",
       "    </tr>\n",
       "    <tr>\n",
       "      <th>857</th>\n",
       "      <td>2004-06-07</td>\n",
       "      <td>2.109</td>\n",
       "      <td>0.082</td>\n",
       "    </tr>\n",
       "    <tr>\n",
       "      <th>...</th>\n",
       "      <td>...</td>\n",
       "      <td>...</td>\n",
       "      <td>...</td>\n",
       "    </tr>\n",
       "    <tr>\n",
       "      <th>1062</th>\n",
       "      <td>2000-07-03</td>\n",
       "      <td>1.786</td>\n",
       "      <td>0.098</td>\n",
       "    </tr>\n",
       "    <tr>\n",
       "      <th>1063</th>\n",
       "      <td>2000-06-26</td>\n",
       "      <td>1.989</td>\n",
       "      <td>0.203</td>\n",
       "    </tr>\n",
       "    <tr>\n",
       "      <th>1064</th>\n",
       "      <td>2000-06-19</td>\n",
       "      <td>2.108</td>\n",
       "      <td>0.119</td>\n",
       "    </tr>\n",
       "    <tr>\n",
       "      <th>1065</th>\n",
       "      <td>2000-06-12</td>\n",
       "      <td>2.091</td>\n",
       "      <td>-0.017</td>\n",
       "    </tr>\n",
       "    <tr>\n",
       "      <th>1066</th>\n",
       "      <td>2000-06-05</td>\n",
       "      <td>1.949</td>\n",
       "      <td>-0.142</td>\n",
       "    </tr>\n",
       "  </tbody>\n",
       "</table>\n",
       "<p>214 rows × 3 columns</p>\n",
       "</div>"
      ],
      "text/plain": [
       "           week  price  change\n",
       "853  2004-07-05  1.918  -0.027\n",
       "854  2004-06-28  1.936   0.018\n",
       "855  2004-06-21  1.951   0.015\n",
       "856  2004-06-14  2.027   0.076\n",
       "857  2004-06-07  2.109   0.082\n",
       "...         ...    ...     ...\n",
       "1062 2000-07-03  1.786   0.098\n",
       "1063 2000-06-26  1.989   0.203\n",
       "1064 2000-06-19  2.108   0.119\n",
       "1065 2000-06-12  2.091  -0.017\n",
       "1066 2000-06-05  1.949  -0.142\n",
       "\n",
       "[214 rows x 3 columns]"
      ]
     },
     "execution_count": 14,
     "metadata": {},
     "output_type": "execute_result"
    }
   ],
   "source": [
    "df_test"
   ]
  },
  {
   "cell_type": "code",
   "execution_count": 15,
   "metadata": {},
   "outputs": [],
   "source": [
    "#function for making windows\n",
    "def make_windows(X, y, time_steps=1):\n",
    "    Xs, ys = [], []\n",
    "    for i in range(len(X) - time_steps):\n",
    "        v = X.iloc[i:(i + time_steps)].values\n",
    "        Xs.append(v)\n",
    "        ys.append(y.iloc[i + time_steps])\n",
    "    return np.array(Xs), np.array(ys)"
   ]
  },
  {
   "cell_type": "code",
   "execution_count": 16,
   "metadata": {},
   "outputs": [
    {
     "name": "stdout",
     "output_type": "stream",
     "text": [
      "(842, 10, 1) (842,) (204, 10, 1) (204,)\n"
     ]
    }
   ],
   "source": [
    "time_steps = 10\n",
    "X_train, y_train = make_windows(df_train[['change']], df_train['change'], time_steps)\n",
    "X_test, y_test = make_windows(df_test[['change']], df_test['change'], time_steps)\n",
    "print(X_train.shape, y_train.shape, X_test.shape, y_test.shape)"
   ]
  },
  {
   "cell_type": "markdown",
   "metadata": {},
   "source": [
    "## Build Model"
   ]
  },
  {
   "cell_type": "code",
   "execution_count": 17,
   "metadata": {},
   "outputs": [],
   "source": [
    "from tensorflow import keras"
   ]
  },
  {
   "cell_type": "code",
   "execution_count": 18,
   "metadata": {},
   "outputs": [],
   "source": [
    "model = keras.models.Sequential([\n",
    "    # Shape [batch, time, features] => [batch, time, lstm_units]\n",
    "    keras.layers.LSTM(units = 64, input_shape=(X_train.shape[1],X_train.shape[2]), return_sequences=True),\n",
    "    keras.layers.LSTM(units = 32, input_shape=(X_train.shape[1], 64), return_sequences=False),\n",
    "    # Shape => [batch, time, features]\n",
    "    keras.layers.Dense(units=1)\n",
    "])"
   ]
  },
  {
   "cell_type": "code",
   "execution_count": 19,
   "metadata": {},
   "outputs": [],
   "source": [
    "model.compile(\n",
    "  loss='mean_squared_error',\n",
    "  optimizer=keras.optimizers.Adam(0.001)\n",
    ")"
   ]
  },
  {
   "cell_type": "code",
   "execution_count": 20,
   "metadata": {},
   "outputs": [
    {
     "name": "stdout",
     "output_type": "stream",
     "text": [
      "Epoch 1/25\n",
      "27/27 [==============================] - 1s 29ms/step - loss: 0.0093\n",
      "Epoch 2/25\n",
      "27/27 [==============================] - 1s 20ms/step - loss: 0.0090\n",
      "Epoch 3/25\n",
      "27/27 [==============================] - 1s 20ms/step - loss: 0.0089\n",
      "Epoch 4/25\n",
      "27/27 [==============================] - 1s 20ms/step - loss: 0.0089\n",
      "Epoch 5/25\n",
      "27/27 [==============================] - 1s 20ms/step - loss: 0.0088\n",
      "Epoch 6/25\n",
      "27/27 [==============================] - 1s 20ms/step - loss: 0.0088\n",
      "Epoch 7/25\n",
      "27/27 [==============================] - 1s 20ms/step - loss: 0.0087\n",
      "Epoch 8/25\n",
      "27/27 [==============================] - 1s 20ms/step - loss: 0.0087\n",
      "Epoch 9/25\n",
      "27/27 [==============================] - 1s 21ms/step - loss: 0.0087\n",
      "Epoch 10/25\n",
      "27/27 [==============================] - 1s 21ms/step - loss: 0.0086\n",
      "Epoch 11/25\n",
      "27/27 [==============================] - 1s 20ms/step - loss: 0.0086\n",
      "Epoch 12/25\n",
      "27/27 [==============================] - 0s 18ms/step - loss: 0.0086\n",
      "Epoch 13/25\n",
      "27/27 [==============================] - 1s 19ms/step - loss: 0.0085\n",
      "Epoch 14/25\n",
      "27/27 [==============================] - 1s 20ms/step - loss: 0.0085\n",
      "Epoch 15/25\n",
      "27/27 [==============================] - 1s 20ms/step - loss: 0.0085\n",
      "Epoch 16/25\n",
      "27/27 [==============================] - 1s 20ms/step - loss: 0.0085\n",
      "Epoch 17/25\n",
      "27/27 [==============================] - 1s 20ms/step - loss: 0.0085\n",
      "Epoch 18/25\n",
      "27/27 [==============================] - 1s 20ms/step - loss: 0.0084\n",
      "Epoch 19/25\n",
      "27/27 [==============================] - 1s 20ms/step - loss: 0.0084\n",
      "Epoch 20/25\n",
      "27/27 [==============================] - 0s 17ms/step - loss: 0.0084\n",
      "Epoch 21/25\n",
      "27/27 [==============================] - 1s 19ms/step - loss: 0.0084\n",
      "Epoch 22/25\n",
      "27/27 [==============================] - 1s 20ms/step - loss: 0.0084\n",
      "Epoch 23/25\n",
      "27/27 [==============================] - 1s 20ms/step - loss: 0.0084\n",
      "Epoch 24/25\n",
      "27/27 [==============================] - 1s 20ms/step - loss: 0.0084\n",
      "Epoch 25/25\n",
      "27/27 [==============================] - 1s 20ms/step - loss: 0.0084\n"
     ]
    }
   ],
   "source": [
    "history = model.fit(\n",
    "    X_train, y_train,\n",
    "    epochs=25,\n",
    "    verbose=1,\n",
    "    shuffle=False\n",
    ")"
   ]
  },
  {
   "cell_type": "code",
   "execution_count": 21,
   "metadata": {},
   "outputs": [],
   "source": [
    "y_pred = model.predict(X_test)"
   ]
  },
  {
   "cell_type": "code",
   "execution_count": 37,
   "metadata": {},
   "outputs": [
    {
     "data": {
      "text/plain": [
       "array([[-2.21967101e-02],\n",
       "       [-2.42202487e-02],\n",
       "       [-1.10866623e-02],\n",
       "       [-1.74425300e-02],\n",
       "       [-1.10768564e-02],\n",
       "       [-1.17916409e-02],\n",
       "       [-2.49244776e-02],\n",
       "       [-1.90701019e-02],\n",
       "       [ 9.33312438e-03],\n",
       "       [-1.03080701e-02],\n",
       "       [-8.86448752e-03],\n",
       "       [-8.92197154e-03],\n",
       "       [-5.17477188e-03],\n",
       "       [-1.67846922e-02],\n",
       "       [ 5.82049228e-03],\n",
       "       [-1.83188003e-02],\n",
       "       [-1.78385433e-02],\n",
       "       [-2.03536619e-02],\n",
       "       [-1.99495014e-02],\n",
       "       [ 3.05911293e-04],\n",
       "       [-8.39754101e-03],\n",
       "       [-4.69576940e-03],\n",
       "       [-2.18539964e-04],\n",
       "       [ 5.90754952e-03],\n",
       "       [-8.05038866e-03],\n",
       "       [ 7.67559279e-03],\n",
       "       [ 1.68311950e-02],\n",
       "       [-1.16381180e-02],\n",
       "       [ 9.82586108e-03],\n",
       "       [-4.49796207e-05],\n",
       "       [-9.00669489e-03],\n",
       "       [ 9.59476456e-04],\n",
       "       [ 1.60850100e-02],\n",
       "       [ 2.25624014e-02],\n",
       "       [ 2.30834098e-03],\n",
       "       [-3.31901712e-04],\n",
       "       [ 7.86168315e-03],\n",
       "       [-4.54781987e-02],\n",
       "       [-1.74134225e-02],\n",
       "       [-1.41700171e-02],\n",
       "       [-2.55548358e-02],\n",
       "       [ 1.25013357e-02],\n",
       "       [-1.70022566e-02],\n",
       "       [-1.60546359e-02],\n",
       "       [-7.49401841e-03],\n",
       "       [ 6.05545379e-03],\n",
       "       [ 1.58705804e-02],\n",
       "       [-2.66771112e-03],\n",
       "       [-2.22775228e-02],\n",
       "       [ 6.38285372e-03],\n",
       "       [-1.10986736e-02],\n",
       "       [-1.88604295e-02],\n",
       "       [-3.93775897e-03],\n",
       "       [ 2.18972098e-02],\n",
       "       [-1.63521450e-02],\n",
       "       [-1.16105136e-02],\n",
       "       [ 1.23182582e-02],\n",
       "       [ 3.32742021e-03],\n",
       "       [ 2.35831384e-02],\n",
       "       [ 1.88474040e-02],\n",
       "       [ 1.03306500e-02],\n",
       "       [-9.36097652e-03],\n",
       "       [-7.69715011e-03],\n",
       "       [-5.33184316e-03],\n",
       "       [-2.55261008e-02],\n",
       "       [-2.44418159e-02],\n",
       "       [-2.14848351e-02],\n",
       "       [-7.59252720e-03],\n",
       "       [-1.22166928e-02],\n",
       "       [-1.50107797e-02],\n",
       "       [ 2.12064735e-03],\n",
       "       [-2.39749178e-02],\n",
       "       [-2.02449486e-02],\n",
       "       [-1.16462763e-02],\n",
       "       [-2.06159893e-03],\n",
       "       [ 4.24142275e-03],\n",
       "       [ 1.21147931e-02],\n",
       "       [ 2.08002236e-02],\n",
       "       [ 1.31960702e-03],\n",
       "       [ 4.94334102e-03],\n",
       "       [ 8.50528851e-03],\n",
       "       [-1.87607538e-02],\n",
       "       [ 1.13988100e-02],\n",
       "       [-2.35513374e-02],\n",
       "       [-7.93460058e-04],\n",
       "       [-1.72136445e-02],\n",
       "       [ 8.45007040e-03],\n",
       "       [-1.39007922e-02],\n",
       "       [ 5.61935548e-03],\n",
       "       [-1.60950907e-02],\n",
       "       [-4.25920682e-03],\n",
       "       [ 5.23122307e-03],\n",
       "       [ 9.35426168e-03],\n",
       "       [-1.95349697e-02],\n",
       "       [-4.05830098e-04],\n",
       "       [-1.15702851e-02],\n",
       "       [-7.58756651e-04],\n",
       "       [-9.51744616e-04],\n",
       "       [ 2.81286915e-03],\n",
       "       [ 8.86478834e-03],\n",
       "       [ 8.43983330e-03],\n",
       "       [-7.25853071e-03],\n",
       "       [ 1.09760081e-02],\n",
       "       [-2.82275435e-02],\n",
       "       [-4.92365845e-03],\n",
       "       [-1.23241134e-02],\n",
       "       [ 8.03296687e-04],\n",
       "       [ 4.90298495e-03],\n",
       "       [ 9.14954301e-03],\n",
       "       [-2.96328645e-02],\n",
       "       [ 1.38352741e-03],\n",
       "       [-3.48667316e-02],\n",
       "       [-3.38539928e-02],\n",
       "       [-3.18570435e-02],\n",
       "       [-2.94801462e-02],\n",
       "       [-1.06256641e-02],\n",
       "       [-2.08804701e-02],\n",
       "       [-1.90766924e-03],\n",
       "       [-1.14457682e-02],\n",
       "       [-6.00094441e-03],\n",
       "       [-3.69046419e-03],\n",
       "       [ 2.10144874e-02],\n",
       "       [ 3.79318488e-03],\n",
       "       [-1.69873480e-02],\n",
       "       [-1.31533686e-02],\n",
       "       [ 2.36993749e-02],\n",
       "       [-6.90419693e-03],\n",
       "       [-2.60432949e-03],\n",
       "       [ 1.43114850e-02],\n",
       "       [ 8.77643842e-03],\n",
       "       [-2.01597288e-02],\n",
       "       [ 1.21234162e-02],\n",
       "       [ 1.74144842e-02],\n",
       "       [ 3.04130595e-02],\n",
       "       [ 2.76626144e-02],\n",
       "       [ 4.25212272e-02],\n",
       "       [ 3.16593833e-02],\n",
       "       [ 2.34904401e-02],\n",
       "       [ 1.78827439e-02],\n",
       "       [ 1.91875976e-02],\n",
       "       [-2.38776598e-02],\n",
       "       [-3.69658656e-02],\n",
       "       [-4.31398861e-02],\n",
       "       [-3.32405530e-02],\n",
       "       [-3.26559059e-02],\n",
       "       [ 2.16126186e-03],\n",
       "       [-4.04744633e-02],\n",
       "       [ 4.50628530e-03],\n",
       "       [ 1.75983664e-02],\n",
       "       [ 3.69894430e-02],\n",
       "       [ 3.90577503e-02],\n",
       "       [ 3.55345570e-02],\n",
       "       [ 3.35401110e-02],\n",
       "       [ 1.78842656e-02],\n",
       "       [ 1.99602079e-02],\n",
       "       [ 2.51291003e-02],\n",
       "       [-1.71349999e-02],\n",
       "       [-3.84309329e-02],\n",
       "       [ 1.01522775e-04],\n",
       "       [-6.83754236e-02],\n",
       "       [-3.41240526e-03],\n",
       "       [-4.55645174e-02],\n",
       "       [-5.52443750e-02],\n",
       "       [ 2.95183854e-04],\n",
       "       [-2.12527104e-02],\n",
       "       [ 2.83377175e-03],\n",
       "       [-2.17084540e-03],\n",
       "       [ 1.09254383e-02],\n",
       "       [ 1.16894701e-02],\n",
       "       [-7.16785342e-03],\n",
       "       [ 1.06568122e-02],\n",
       "       [ 1.10588036e-04],\n",
       "       [ 5.66086173e-03],\n",
       "       [-2.69713495e-02],\n",
       "       [-9.17175785e-04],\n",
       "       [-2.52862144e-02],\n",
       "       [-3.93747352e-03],\n",
       "       [ 2.64191651e-03],\n",
       "       [ 5.09028323e-03],\n",
       "       [ 5.04231080e-03],\n",
       "       [ 7.43974373e-03],\n",
       "       [-1.01572732e-02],\n",
       "       [ 8.25285912e-03],\n",
       "       [ 5.53387403e-03],\n",
       "       [-1.73990987e-02],\n",
       "       [ 8.99057928e-03],\n",
       "       [-3.43726389e-02],\n",
       "       [ 3.26201064e-03],\n",
       "       [ 1.12786773e-03],\n",
       "       [-6.09279843e-04],\n",
       "       [ 4.72421572e-03],\n",
       "       [ 1.00796041e-03],\n",
       "       [-4.00611944e-02],\n",
       "       [-1.63854547e-02],\n",
       "       [-1.96035914e-02],\n",
       "       [ 1.31963682e-03],\n",
       "       [-7.61486311e-03],\n",
       "       [ 2.42624339e-02],\n",
       "       [ 3.48260514e-02],\n",
       "       [ 3.51149179e-02],\n",
       "       [ 3.37422341e-02],\n",
       "       [ 6.80088028e-02],\n",
       "       [ 4.40730266e-02],\n",
       "       [ 6.59014005e-03]], dtype=float32)"
      ]
     },
     "execution_count": 37,
     "metadata": {},
     "output_type": "execute_result"
    }
   ],
   "source": [
    "y_pred"
   ]
  },
  {
   "cell_type": "code",
   "execution_count": 22,
   "metadata": {},
   "outputs": [],
   "source": [
    "import matplotlib.pyplot as plt"
   ]
  },
  {
   "cell_type": "code",
   "execution_count": 23,
   "metadata": {},
   "outputs": [
    {
     "data": {
      "text/plain": [
       "[<matplotlib.lines.Line2D at 0x20c229eea08>]"
      ]
     },
     "execution_count": 23,
     "metadata": {},
     "output_type": "execute_result"
    },
    {
     "data": {
      "image/png": "[encoded data removed]",
      "text/plain": [
       "<Figure size 432x288 with 1 Axes>"
      ]
     },
     "metadata": {
      "needs_background": "light"
     },
     "output_type": "display_data"
    }
   ],
   "source": [
    "fig, ax = plt.subplots()\n",
    "ax.plot(y_test)\n",
    "ax.plot(y_pred)"
   ]
  },
  {
   "cell_type": "code",
   "execution_count": 24,
   "metadata": {},
   "outputs": [],
   "source": [
    "y_err = np.abs(y_test.reshape(204 ,1) - y_pred)"
   ]
  },
  {
   "cell_type": "code",
   "execution_count": 25,
   "metadata": {},
   "outputs": [
    {
     "data": {
      "text/plain": [
       "[<matplotlib.lines.Line2D at 0x20c23a43b88>]"
      ]
     },
     "execution_count": 25,
     "metadata": {},
     "output_type": "execute_result"
    },
    {
     "data": {
      "image/png": "[encoded data removed]",
      "text/plain": [
       "<Figure size 432x288 with 1 Axes>"
      ]
     },
     "metadata": {
      "needs_background": "light"
     },
     "output_type": "display_data"
    }
   ],
   "source": [
    "plt.plot(y_err)"
   ]
  },
  {
   "cell_type": "code",
   "execution_count": 26,
   "metadata": {},
   "outputs": [
    {
     "data": {
      "text/plain": [
       "0.0763794062957166"
      ]
     },
     "execution_count": 26,
     "metadata": {},
     "output_type": "execute_result"
    }
   ],
   "source": [
    "np.sum(y_err[0:4])"
   ]
  },
  {
   "cell_type": "code",
   "execution_count": 27,
   "metadata": {},
   "outputs": [
    {
     "data": {
      "text/html": [
       "<div>\n",
       "<style scoped>\n",
       "    .dataframe tbody tr th:only-of-type {\n",
       "        vertical-align: middle;\n",
       "    }\n",
       "\n",
       "    .dataframe tbody tr th {\n",
       "        vertical-align: top;\n",
       "    }\n",
       "\n",
       "    .dataframe thead th {\n",
       "        text-align: right;\n",
       "    }\n",
       "</style>\n",
       "<table border=\"1\" class=\"dataframe\">\n",
       "  <thead>\n",
       "    <tr style=\"text-align: right;\">\n",
       "      <th></th>\n",
       "      <th>week</th>\n",
       "      <th>price</th>\n",
       "      <th>change</th>\n",
       "    </tr>\n",
       "  </thead>\n",
       "  <tbody>\n",
       "    <tr>\n",
       "      <th>853</th>\n",
       "      <td>2004-07-05</td>\n",
       "      <td>1.918</td>\n",
       "      <td>-0.027</td>\n",
       "    </tr>\n",
       "    <tr>\n",
       "      <th>854</th>\n",
       "      <td>2004-06-28</td>\n",
       "      <td>1.936</td>\n",
       "      <td>0.018</td>\n",
       "    </tr>\n",
       "    <tr>\n",
       "      <th>855</th>\n",
       "      <td>2004-06-21</td>\n",
       "      <td>1.951</td>\n",
       "      <td>0.015</td>\n",
       "    </tr>\n",
       "    <tr>\n",
       "      <th>856</th>\n",
       "      <td>2004-06-14</td>\n",
       "      <td>2.027</td>\n",
       "      <td>0.076</td>\n",
       "    </tr>\n",
       "    <tr>\n",
       "      <th>857</th>\n",
       "      <td>2004-06-07</td>\n",
       "      <td>2.109</td>\n",
       "      <td>0.082</td>\n",
       "    </tr>\n",
       "    <tr>\n",
       "      <th>...</th>\n",
       "      <td>...</td>\n",
       "      <td>...</td>\n",
       "      <td>...</td>\n",
       "    </tr>\n",
       "    <tr>\n",
       "      <th>1062</th>\n",
       "      <td>2000-07-03</td>\n",
       "      <td>1.786</td>\n",
       "      <td>0.098</td>\n",
       "    </tr>\n",
       "    <tr>\n",
       "      <th>1063</th>\n",
       "      <td>2000-06-26</td>\n",
       "      <td>1.989</td>\n",
       "      <td>0.203</td>\n",
       "    </tr>\n",
       "    <tr>\n",
       "      <th>1064</th>\n",
       "      <td>2000-06-19</td>\n",
       "      <td>2.108</td>\n",
       "      <td>0.119</td>\n",
       "    </tr>\n",
       "    <tr>\n",
       "      <th>1065</th>\n",
       "      <td>2000-06-12</td>\n",
       "      <td>2.091</td>\n",
       "      <td>-0.017</td>\n",
       "    </tr>\n",
       "    <tr>\n",
       "      <th>1066</th>\n",
       "      <td>2000-06-05</td>\n",
       "      <td>1.949</td>\n",
       "      <td>-0.142</td>\n",
       "    </tr>\n",
       "  </tbody>\n",
       "</table>\n",
       "<p>214 rows × 3 columns</p>\n",
       "</div>"
      ],
      "text/plain": [
       "           week  price  change\n",
       "853  2004-07-05  1.918  -0.027\n",
       "854  2004-06-28  1.936   0.018\n",
       "855  2004-06-21  1.951   0.015\n",
       "856  2004-06-14  2.027   0.076\n",
       "857  2004-06-07  2.109   0.082\n",
       "...         ...    ...     ...\n",
       "1062 2000-07-03  1.786   0.098\n",
       "1063 2000-06-26  1.989   0.203\n",
       "1064 2000-06-19  2.108   0.119\n",
       "1065 2000-06-12  2.091  -0.017\n",
       "1066 2000-06-05  1.949  -0.142\n",
       "\n",
       "[214 rows x 3 columns]"
      ]
     },
     "execution_count": 27,
     "metadata": {},
     "output_type": "execute_result"
    }
   ],
   "source": [
    "df_test"
   ]
  },
  {
   "cell_type": "code",
   "execution_count": 28,
   "metadata": {},
   "outputs": [
    {
     "data": {
      "text/plain": [
       "1.918"
      ]
     },
     "execution_count": 28,
     "metadata": {},
     "output_type": "execute_result"
    }
   ],
   "source": [
    "df_test['price'].iloc[0]"
   ]
  },
  {
   "cell_type": "code",
   "execution_count": 29,
   "metadata": {},
   "outputs": [],
   "source": [
    "price_pred = [ 1.918 + np.sum(y_pred[1:n]) for n in range(1,len(df_test)) ]"
   ]
  },
  {
   "cell_type": "code",
   "execution_count": 30,
   "metadata": {},
   "outputs": [
    {
     "data": {
      "text/plain": [
       "[1.918,\n",
       " 1.8937797513157129,\n",
       " 1.8826930880844592,\n",
       " 1.865250559926033,\n",
       " 1.8541737072467803,\n",
       " 1.8423820682168006,\n",
       " 1.8174575887918472,\n",
       " 1.7983874850273132,\n",
       " 1.8077206038236617,\n",
       " 1.797412531852722,\n",
       " 1.7885480396747588,\n",
       " 1.779626073718071,\n",
       " 1.7744513027667999,\n",
       " 1.7576666049957275,\n",
       " 1.7634871028661727,\n",
       " 1.7451683007478713,\n",
       " 1.7273297630548476,\n",
       " 1.706976103067398,\n",
       " 1.687026607275009,\n",
       " 1.6873325132131576,\n",
       " 1.678934978723526,\n",
       " 1.674239205598831,\n",
       " 1.6740206651687621,\n",
       " 1.6799282156229018,\n",
       " 1.671877818584442,\n",
       " 1.679553406715393,\n",
       " 1.6963845961093902,\n",
       " 1.68474647629261,\n",
       " 1.6945723317861556,\n",
       " 1.6945273451805114,\n",
       " 1.6855206512212753,\n",
       " 1.686480122089386,\n",
       " 1.7025651507377624,\n",
       " 1.7251275502443313,\n",
       " 1.7274358891248702,\n",
       " 1.7271039806604385,\n",
       " 1.7349656693935394,\n",
       " 1.6894874744415282,\n",
       " 1.6720740519762038,\n",
       " 1.6579040460586547,\n",
       " 1.6323492102622985,\n",
       " 1.644850539445877,\n",
       " 1.6278482847213744,\n",
       " 1.6117936544418334,\n",
       " 1.6042996220588683,\n",
       " 1.610355066537857,\n",
       " 1.6262256376743316,\n",
       " 1.6235579125881194,\n",
       " 1.601280438184738,\n",
       " 1.607663290977478,\n",
       " 1.5965646080970763,\n",
       " 1.577704178571701,\n",
       " 1.5737664275169372,\n",
       " 1.5956636242866515,\n",
       " 1.5793114774227142,\n",
       " 1.5677009694576263,\n",
       " 1.5800192229747771,\n",
       " 1.5833466522693633,\n",
       " 1.606929796218872,\n",
       " 1.625777202129364,\n",
       " 1.6361078493595123,\n",
       " 1.6267468802928924,\n",
       " 1.6190497450828552,\n",
       " 1.6137179009914397,\n",
       " 1.588191764831543,\n",
       " 1.5637499563694,\n",
       " 1.5422651343345641,\n",
       " 1.5346726052761077,\n",
       " 1.522455918073654,\n",
       " 1.5074451439380645,\n",
       " 1.5095657877922057,\n",
       " 1.4855908625125884,\n",
       " 1.465345906496048,\n",
       " 1.4536996357440948,\n",
       " 1.4516380302906036,\n",
       " 1.455879467010498,\n",
       " 1.467994260072708,\n",
       " 1.4887944929599761,\n",
       " 1.4901141099929809,\n",
       " 1.4950574510097503,\n",
       " 1.5035627059936523,\n",
       " 1.4848019652366637,\n",
       " 1.4962007873058318,\n",
       " 1.4726494424343108,\n",
       " 1.4718559854030608,\n",
       " 1.4546423428058624,\n",
       " 1.4630924038887023,\n",
       " 1.4491916172504424,\n",
       " 1.454810964345932,\n",
       " 1.4387158625125884,\n",
       " 1.434456663608551,\n",
       " 1.4396878950595855,\n",
       " 1.4490421586036681,\n",
       " 1.4295071833133697,\n",
       " 1.4291013650894164,\n",
       " 1.417531090259552,\n",
       " 1.4167723231315612,\n",
       " 1.4158205561637878,\n",
       " 1.418633418560028,\n",
       " 1.4274982087612151,\n",
       " 1.4359380476474761,\n",
       " 1.4286795132160186,\n",
       " 1.4396555297374725,\n",
       " 1.4114279918670654,\n",
       " 1.4065043501853942,\n",
       " 1.3941802554130553,\n",
       " 1.3949835472106933,\n",
       " 1.3998865060806274,\n",
       " 1.409036057472229,\n",
       " 1.37940319108963,\n",
       " 1.3807867341041564,\n",
       " 1.3459199838638305,\n",
       " 1.3120659761428832,\n",
       " 1.2802089624404906,\n",
       " 1.2507288031578063,\n",
       " 1.2401031427383422,\n",
       " 1.2192226819992065,\n",
       " 1.21731503534317,\n",
       " 1.2058692746162414,\n",
       " 1.1998683385848998,\n",
       " 1.1961777381896972,\n",
       " 1.2171922497749328,\n",
       " 1.2209854297637939,\n",
       " 1.2039981060028075,\n",
       " 1.1908447318077087,\n",
       " 1.2145441346168517,\n",
       " 1.207639949798584,\n",
       " 1.2050356440544128,\n",
       " 1.2193470768928527,\n",
       " 1.2281235032081603,\n",
       " 1.2079637818336486,\n",
       " 1.2200871877670287,\n",
       " 1.2375016384124755,\n",
       " 1.2679147295951843,\n",
       " 1.2955773048400878,\n",
       " 1.3380985431671142,\n",
       " 1.3697579674720763,\n",
       " 1.393248396396637,\n",
       " 1.411131160736084,\n",
       " 1.4303187601566314,\n",
       " 1.4064411096572875,\n",
       " 1.3694752626419067,\n",
       " 1.3263353281021117,\n",
       " 1.2930947713851928,\n",
       " 1.2604389362335204,\n",
       " 1.262600200653076,\n",
       " 1.2221257262229919,\n",
       " 1.2266320161819457,\n",
       " 1.2442303471565246,\n",
       " 1.2812197976112365,\n",
       " 1.3202775292396545,\n",
       " 1.3558120899200439,\n",
       " 1.389352219581604,\n",
       " 1.4072364740371703,\n",
       " 1.4271966986656188,\n",
       " 1.4523257784843444,\n",
       " 1.435190784215927,\n",
       " 1.3967598848342895,\n",
       " 1.396861391544342,\n",
       " 1.3284859828948974,\n",
       " 1.3250735573768615,\n",
       " 1.2795090250968932,\n",
       " 1.2242646389007568,\n",
       " 1.2245598011016845,\n",
       " 1.2033071093559264,\n",
       " 1.2061408929824828,\n",
       " 1.203970091819763,\n",
       " 1.2148955039978027,\n",
       " 1.2265849285125732,\n",
       " 1.2194171123504638,\n",
       " 1.2300739459991454,\n",
       " 1.2301845126152038,\n",
       " 1.235845344543457,\n",
       " 1.2088740043640136,\n",
       " 1.2079568676948547,\n",
       " 1.1826706104278564,\n",
       " 1.178733127593994,\n",
       " 1.1813750438690185,\n",
       " 1.1864653997421264,\n",
       " 1.1915077142715453,\n",
       " 1.19894744682312,\n",
       " 1.1887901000976562,\n",
       " 1.1970429592132568,\n",
       " 1.2025768928527831,\n",
       " 1.1851778202056884,\n",
       " 1.1941683464050292,\n",
       " 1.159795778274536,\n",
       " 1.1630577616691589,\n",
       " 1.1641856603622436,\n",
       " 1.1635763816833495,\n",
       " 1.1683005266189574,\n",
       " 1.1693085603713989,\n",
       " 1.1292473249435424,\n",
       " 1.112861888885498,\n",
       " 1.0932582788467406,\n",
       " 1.0945779256820678,\n",
       " 1.086963074684143,\n",
       " 1.1112255029678344,\n",
       " 1.1460515432357787,\n",
       " 1.1811664276123046,\n",
       " 1.214908676624298,\n",
       " 1.282917516708374,\n",
       " 1.3269905023574828,\n",
       " 1.3335806303024291,\n",
       " 1.3335806303024291,\n",
       " 1.3335806303024291,\n",
       " 1.3335806303024291,\n",
       " 1.3335806303024291,\n",
       " 1.3335806303024291,\n",
       " 1.3335806303024291,\n",
       " 1.3335806303024291,\n",
       " 1.3335806303024291,\n",
       " 1.3335806303024291]"
      ]
     },
     "execution_count": 30,
     "metadata": {},
     "output_type": "execute_result"
    }
   ],
   "source": [
    "price_pred"
   ]
  },
  {
   "cell_type": "code",
   "execution_count": 31,
   "metadata": {},
   "outputs": [
    {
     "data": {
      "text/plain": [
       "[<matplotlib.lines.Line2D at 0x20c23ab3a48>]"
      ]
     },
     "execution_count": 31,
     "metadata": {},
     "output_type": "execute_result"
    },
    {
     "data": {
      "image/png": "[encoded data removed]",
      "text/plain": [
       "<Figure size 432x288 with 1 Axes>"
      ]
     },
     "metadata": {
      "needs_background": "light"
     },
     "output_type": "display_data"
    }
   ],
   "source": [
    "fig, ax = plt.subplots()\n",
    "ax.plot(df_test['week'].iloc[1:],df_test['price'].iloc[1:])\n",
    "ax.plot(df_test['week'].iloc[1:], price_pred[:214])"
   ]
  },
  {
   "cell_type": "markdown",
   "metadata": {},
   "source": [
    "## Save Model"
   ]
  },
  {
   "cell_type": "code",
   "execution_count": 32,
   "metadata": {},
   "outputs": [],
   "source": [
    "model.save(\"test_model.h5\")"
   ]
  },
  {
   "cell_type": "code",
   "execution_count": 33,
   "metadata": {},
   "outputs": [
    {
     "name": "stderr",
     "output_type": "stream",
     "text": [
      "2020-11-12 13:48:49.064289: W tensorflow/stream_executor/platform/default/dso_loader.cc:59] Could not load dynamic library 'cudart64_101.dll'; dlerror: cudart64_101.dll not found\n",
      "2020-11-12 13:48:49.065621: I tensorflow/stream_executor/cuda/cudart_stub.cc:29] Ignore above cudart dlerror if you do not have a GPU set up on your machine.\n"
     ]
    }
   ],
   "source": [
    "#!tensorflowjs_converter --input_format keras \"test_model.h5\" ./jsmodel"
   ]
  },
  {
   "cell_type": "code",
   "execution_count": 56,
   "metadata": {},
   "outputs": [],
   "source": [
    "data = np.array([0.030000000000000027, -0.004999999999999893, 0.09799999999999986, 0.1260000000000001, 0.11199999999999988, 0.09800000000000009, 0.20300000000000007, 0.119, -0.016999999999999904, -0.14200000000000013])"
   ]
  },
  {
   "cell_type": "code",
   "execution_count": 61,
   "metadata": {},
   "outputs": [],
   "source": [
    "data = data.reshape(1,10,1)"
   ]
  },
  {
   "cell_type": "code",
   "execution_count": 42,
   "metadata": {},
   "outputs": [],
   "source": [
    "import tensorflow as tf"
   ]
  },
  {
   "cell_type": "code",
   "execution_count": 62,
   "metadata": {},
   "outputs": [
    {
     "data": {
      "text/plain": [
       "array([[-0.03183652]], dtype=float32)"
      ]
     },
     "execution_count": 62,
     "metadata": {},
     "output_type": "execute_result"
    }
   ],
   "source": [
    "model.predict(data)"
   ]
  },
  {
   "cell_type": "code",
   "execution_count": 63,
   "metadata": {},
   "outputs": [
    {
     "data": {
      "text/plain": [
       "array([[-0.041],\n",
       "       [ 0.03 ],\n",
       "       [-0.005],\n",
       "       [ 0.098],\n",
       "       [ 0.126],\n",
       "       [ 0.112],\n",
       "       [ 0.098],\n",
       "       [ 0.203],\n",
       "       [ 0.119],\n",
       "       [-0.017]])"
      ]
     },
     "execution_count": 63,
     "metadata": {},
     "output_type": "execute_result"
    }
   ],
   "source": [
    "X_test[-1]"
   ]
  },
  {
   "cell_type": "code",
   "execution_count": null,
   "metadata": {},
   "outputs": [],
   "source": []
  }
 ],
 "metadata": {
  "kernelspec": {
   "display_name": "Python 3",
   "language": "python",
   "name": "python3"
  },
  "language_info": {
   "codemirror_mode": {
    "name": "ipython",
    "version": 3
   },
   "file_extension": ".py",
   "mimetype": "text/x-python",
   "name": "python",
   "nbconvert_exporter": "python",
   "pygments_lexer": "ipython3",
   "version": "3.7.7"
  }
 },
 "nbformat": 4,
 "nbformat_minor": 4
}
