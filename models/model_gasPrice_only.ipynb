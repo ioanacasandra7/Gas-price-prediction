{
 "cells": [
  {
   "cell_type": "code",
   "execution_count": 1,
   "metadata": {},
   "outputs": [],
   "source": [
    "import requests\n",
    "from config import API_KEY\n",
    "import pandas as pd\n",
    "import numpy as np"
   ]
  },
  {
   "cell_type": "markdown",
   "metadata": {},
   "source": [
    "## Get Data from eia API"
   ]
  },
  {
   "cell_type": "code",
   "execution_count": 2,
   "metadata": {},
   "outputs": [],
   "source": [
    "eastCoast = f\"http://api.eia.gov/series/?api_key={API_KEY}&series_id=PET.EMM_EPM0_PTE_R10_DPG.W\"\n",
    "midwest = f\"http://api.eia.gov/series/?api_key={API_KEY}&series_id=PET.EMM_EPM0_PTE_R20_DPG.W\"\n",
    "gulfCoast = f\"http://api.eia.gov/series/?api_key={API_KEY}&series_id=PET.EMM_EPM0_PTE_R30_DPG.W\"\n",
    "rockyMountain = f\"http://api.eia.gov/series/?api_key={API_KEY}&series_id=PET.EMM_EPM0_PTE_R40_DPG.W\"\n",
    "westCoast = f\"http://api.eia.gov/series/?api_key={API_KEY}&series_id=PET.EMM_EPM0_PTE_R50_DPG.W\""
   ]
  },
  {
   "cell_type": "code",
   "execution_count": 3,
   "metadata": {},
   "outputs": [],
   "source": [
    "eastCoast_df = pd.DataFrame(requests.get(eastCoast).json()['series'][0]['data'])\n",
    "midwest_df = pd.DataFrame(requests.get(midwest).json()['series'][0]['data'])\n",
    "gulfCoast_df = pd.DataFrame(requests.get(gulfCoast).json()['series'][0]['data'])\n",
    "rockyMountain_df = pd.DataFrame(requests.get(rockyMountain).json()['series'][0]['data'])\n",
    "westCoast_df = pd.DataFrame(requests.get(westCoast).json()['series'][0]['data'])"
   ]
  },
  {
   "cell_type": "code",
   "execution_count": 4,
   "metadata": {},
   "outputs": [],
   "source": [
    "eastCoast_df.rename(columns = {0:\"week\", 1:\"price_eastCoast\"}, inplace = True)\n",
    "midwest_df.rename(columns = {0:\"week\", 1:\"price_midwest\"}, inplace = True)\n",
    "gulfCoast_df.rename(columns = {0:\"week\", 1:\"price_gulfCoast\"}, inplace = True)\n",
    "rockyMountain_df.rename(columns = {0:\"week\", 1:\"price_rockyMountain\"}, inplace = True)\n",
    "westCoast_df.rename(columns = {0:\"week\", 1:\"price_westCoast\"}, inplace = True)"
   ]
  },
  {
   "cell_type": "code",
   "execution_count": 5,
   "metadata": {},
   "outputs": [],
   "source": [
    "eastCoast_df['week'] = pd.to_datetime(eastCoast_df['week'])\n",
    "midwest_df['week'] = pd.to_datetime(midwest_df['week'])\n",
    "gulfCoast_df['week'] = pd.to_datetime(gulfCoast_df['week'])\n",
    "rockyMountain_df['week'] = pd.to_datetime(rockyMountain_df['week'])\n",
    "westCoast_df['week'] = pd.to_datetime(westCoast_df['week'])"
   ]
  },
  {
   "cell_type": "code",
   "execution_count": 6,
   "metadata": {},
   "outputs": [],
   "source": [
    "prices_df = eastCoast_df.merge(midwest_df , on = \"week\", suffixes=('', ''))\\\n",
    "            .merge(gulfCoast_df , on = \"week\", suffixes=('', ''))\\\n",
    "            .merge(rockyMountain_df , on = \"week\", suffixes=('', ''))\\\n",
    "            .merge(westCoast_df , on = \"week\", suffixes=('', ''))"
   ]
  },
  {
   "cell_type": "code",
   "execution_count": 7,
   "metadata": {},
   "outputs": [],
   "source": [
    "regions = [\"eastCoast\", \"midwest\", \"gulfCoast\", \"rockyMountain\", \"westCoast\"]\n",
    "for region in regions:\n",
    "    prices_df['change_' + region] = prices_df['price_' + region].diff()"
   ]
  },
  {
   "cell_type": "code",
   "execution_count": 8,
   "metadata": {},
   "outputs": [
    {
     "data": {
      "text/html": [
       "<div>\n",
       "<style scoped>\n",
       "    .dataframe tbody tr th:only-of-type {\n",
       "        vertical-align: middle;\n",
       "    }\n",
       "\n",
       "    .dataframe tbody tr th {\n",
       "        vertical-align: top;\n",
       "    }\n",
       "\n",
       "    .dataframe thead th {\n",
       "        text-align: right;\n",
       "    }\n",
       "</style>\n",
       "<table border=\"1\" class=\"dataframe\">\n",
       "  <thead>\n",
       "    <tr style=\"text-align: right;\">\n",
       "      <th></th>\n",
       "      <th>week</th>\n",
       "      <th>price_eastCoast</th>\n",
       "      <th>price_midwest</th>\n",
       "      <th>price_gulfCoast</th>\n",
       "      <th>price_rockyMountain</th>\n",
       "      <th>price_westCoast</th>\n",
       "      <th>change_eastCoast</th>\n",
       "      <th>change_midwest</th>\n",
       "      <th>change_gulfCoast</th>\n",
       "      <th>change_rockyMountain</th>\n",
       "      <th>change_westCoast</th>\n",
       "    </tr>\n",
       "  </thead>\n",
       "  <tbody>\n",
       "    <tr>\n",
       "      <th>0</th>\n",
       "      <td>2020-11-09</td>\n",
       "      <td>2.127</td>\n",
       "      <td>2.025</td>\n",
       "      <td>1.823</td>\n",
       "      <td>2.304</td>\n",
       "      <td>2.863</td>\n",
       "      <td>NaN</td>\n",
       "      <td>NaN</td>\n",
       "      <td>NaN</td>\n",
       "      <td>NaN</td>\n",
       "      <td>NaN</td>\n",
       "    </tr>\n",
       "    <tr>\n",
       "      <th>1</th>\n",
       "      <td>2020-11-02</td>\n",
       "      <td>2.149</td>\n",
       "      <td>2.026</td>\n",
       "      <td>1.862</td>\n",
       "      <td>2.320</td>\n",
       "      <td>2.869</td>\n",
       "      <td>0.022</td>\n",
       "      <td>0.001</td>\n",
       "      <td>0.039</td>\n",
       "      <td>0.016</td>\n",
       "      <td>0.006</td>\n",
       "    </tr>\n",
       "    <tr>\n",
       "      <th>2</th>\n",
       "      <td>2020-10-26</td>\n",
       "      <td>2.173</td>\n",
       "      <td>2.069</td>\n",
       "      <td>1.908</td>\n",
       "      <td>2.340</td>\n",
       "      <td>2.882</td>\n",
       "      <td>0.024</td>\n",
       "      <td>0.043</td>\n",
       "      <td>0.046</td>\n",
       "      <td>0.020</td>\n",
       "      <td>0.013</td>\n",
       "    </tr>\n",
       "    <tr>\n",
       "      <th>3</th>\n",
       "      <td>2020-10-19</td>\n",
       "      <td>2.196</td>\n",
       "      <td>2.057</td>\n",
       "      <td>1.905</td>\n",
       "      <td>2.359</td>\n",
       "      <td>2.887</td>\n",
       "      <td>0.023</td>\n",
       "      <td>-0.012</td>\n",
       "      <td>-0.003</td>\n",
       "      <td>0.019</td>\n",
       "      <td>0.005</td>\n",
       "    </tr>\n",
       "    <tr>\n",
       "      <th>4</th>\n",
       "      <td>2020-10-12</td>\n",
       "      <td>2.209</td>\n",
       "      <td>2.089</td>\n",
       "      <td>1.914</td>\n",
       "      <td>2.367</td>\n",
       "      <td>2.895</td>\n",
       "      <td>0.013</td>\n",
       "      <td>0.032</td>\n",
       "      <td>0.009</td>\n",
       "      <td>0.008</td>\n",
       "      <td>0.008</td>\n",
       "    </tr>\n",
       "    <tr>\n",
       "      <th>...</th>\n",
       "      <td>...</td>\n",
       "      <td>...</td>\n",
       "      <td>...</td>\n",
       "      <td>...</td>\n",
       "      <td>...</td>\n",
       "      <td>...</td>\n",
       "      <td>...</td>\n",
       "      <td>...</td>\n",
       "      <td>...</td>\n",
       "      <td>...</td>\n",
       "      <td>...</td>\n",
       "    </tr>\n",
       "    <tr>\n",
       "      <th>1436</th>\n",
       "      <td>1993-05-03</td>\n",
       "      <td>1.062</td>\n",
       "      <td>1.073</td>\n",
       "      <td>1.084</td>\n",
       "      <td>1.161</td>\n",
       "      <td>1.161</td>\n",
       "      <td>-0.007</td>\n",
       "      <td>-0.018</td>\n",
       "      <td>-0.004</td>\n",
       "      <td>0.018</td>\n",
       "      <td>-0.010</td>\n",
       "    </tr>\n",
       "    <tr>\n",
       "      <th>1437</th>\n",
       "      <td>1993-04-26</td>\n",
       "      <td>1.059</td>\n",
       "      <td>1.078</td>\n",
       "      <td>1.081</td>\n",
       "      <td>1.169</td>\n",
       "      <td>1.157</td>\n",
       "      <td>-0.003</td>\n",
       "      <td>0.005</td>\n",
       "      <td>-0.003</td>\n",
       "      <td>0.008</td>\n",
       "      <td>-0.004</td>\n",
       "    </tr>\n",
       "    <tr>\n",
       "      <th>1438</th>\n",
       "      <td>1993-04-19</td>\n",
       "      <td>1.054</td>\n",
       "      <td>1.067</td>\n",
       "      <td>1.081</td>\n",
       "      <td>1.120</td>\n",
       "      <td>1.155</td>\n",
       "      <td>-0.005</td>\n",
       "      <td>-0.011</td>\n",
       "      <td>0.000</td>\n",
       "      <td>-0.049</td>\n",
       "      <td>-0.002</td>\n",
       "    </tr>\n",
       "    <tr>\n",
       "      <th>1439</th>\n",
       "      <td>1993-04-12</td>\n",
       "      <td>1.047</td>\n",
       "      <td>1.077</td>\n",
       "      <td>1.071</td>\n",
       "      <td>1.118</td>\n",
       "      <td>1.154</td>\n",
       "      <td>-0.007</td>\n",
       "      <td>0.010</td>\n",
       "      <td>-0.010</td>\n",
       "      <td>-0.002</td>\n",
       "      <td>-0.001</td>\n",
       "    </tr>\n",
       "    <tr>\n",
       "      <th>1440</th>\n",
       "      <td>1993-04-05</td>\n",
       "      <td>1.040</td>\n",
       "      <td>1.061</td>\n",
       "      <td>1.064</td>\n",
       "      <td>1.093</td>\n",
       "      <td>1.152</td>\n",
       "      <td>-0.007</td>\n",
       "      <td>-0.016</td>\n",
       "      <td>-0.007</td>\n",
       "      <td>-0.025</td>\n",
       "      <td>-0.002</td>\n",
       "    </tr>\n",
       "  </tbody>\n",
       "</table>\n",
       "<p>1441 rows × 11 columns</p>\n",
       "</div>"
      ],
      "text/plain": [
       "           week  price_eastCoast  price_midwest  price_gulfCoast  \\\n",
       "0    2020-11-09            2.127          2.025            1.823   \n",
       "1    2020-11-02            2.149          2.026            1.862   \n",
       "2    2020-10-26            2.173          2.069            1.908   \n",
       "3    2020-10-19            2.196          2.057            1.905   \n",
       "4    2020-10-12            2.209          2.089            1.914   \n",
       "...         ...              ...            ...              ...   \n",
       "1436 1993-05-03            1.062          1.073            1.084   \n",
       "1437 1993-04-26            1.059          1.078            1.081   \n",
       "1438 1993-04-19            1.054          1.067            1.081   \n",
       "1439 1993-04-12            1.047          1.077            1.071   \n",
       "1440 1993-04-05            1.040          1.061            1.064   \n",
       "\n",
       "      price_rockyMountain  price_westCoast  change_eastCoast  change_midwest  \\\n",
       "0                   2.304            2.863               NaN             NaN   \n",
       "1                   2.320            2.869             0.022           0.001   \n",
       "2                   2.340            2.882             0.024           0.043   \n",
       "3                   2.359            2.887             0.023          -0.012   \n",
       "4                   2.367            2.895             0.013           0.032   \n",
       "...                   ...              ...               ...             ...   \n",
       "1436                1.161            1.161            -0.007          -0.018   \n",
       "1437                1.169            1.157            -0.003           0.005   \n",
       "1438                1.120            1.155            -0.005          -0.011   \n",
       "1439                1.118            1.154            -0.007           0.010   \n",
       "1440                1.093            1.152            -0.007          -0.016   \n",
       "\n",
       "      change_gulfCoast  change_rockyMountain  change_westCoast  \n",
       "0                  NaN                   NaN               NaN  \n",
       "1                0.039                 0.016             0.006  \n",
       "2                0.046                 0.020             0.013  \n",
       "3               -0.003                 0.019             0.005  \n",
       "4                0.009                 0.008             0.008  \n",
       "...                ...                   ...               ...  \n",
       "1436            -0.004                 0.018            -0.010  \n",
       "1437            -0.003                 0.008            -0.004  \n",
       "1438             0.000                -0.049            -0.002  \n",
       "1439            -0.010                -0.002            -0.001  \n",
       "1440            -0.007                -0.025            -0.002  \n",
       "\n",
       "[1441 rows x 11 columns]"
      ]
     },
     "execution_count": 8,
     "metadata": {},
     "output_type": "execute_result"
    }
   ],
   "source": [
    "prices_df"
   ]
  },
  {
   "cell_type": "code",
   "execution_count": 9,
   "metadata": {},
   "outputs": [],
   "source": [
    "prices_df.dropna(inplace =True)"
   ]
  },
  {
   "cell_type": "code",
   "execution_count": 10,
   "metadata": {},
   "outputs": [
    {
     "data": {
      "text/plain": [
       "<AxesSubplot:xlabel='week'>"
      ]
     },
     "execution_count": 10,
     "metadata": {},
     "output_type": "execute_result"
    },
    {
     "data": {
      "image/png": "[encoded data removed]",
      "text/plain": [
       "<Figure size 432x288 with 1 Axes>"
      ]
     },
     "metadata": {
      "needs_background": "light"
     },
     "output_type": "display_data"
    }
   ],
   "source": [
    "prices_df.plot(x = 'week', y=[\"change_eastCoast\", \"change_midwest\", \"change_gulfCoast\", \"change_rockyMountain\", \"change_westCoast\"])"
   ]
  },
  {
   "cell_type": "markdown",
   "metadata": {},
   "source": [
    "## Processs the data"
   ]
  },
  {
   "cell_type": "code",
   "execution_count": 11,
   "metadata": {},
   "outputs": [],
   "source": [
    "#train test split\n",
    "train_size = int(0.8 * len(prices_df))\n",
    "prices_df_train = prices_df.iloc[0:train_size]\n",
    "prices_df_test = prices_df.iloc[train_size:]"
   ]
  },
  {
   "cell_type": "code",
   "execution_count": 12,
   "metadata": {},
   "outputs": [
    {
     "data": {
      "text/html": [
       "<div>\n",
       "<style scoped>\n",
       "    .dataframe tbody tr th:only-of-type {\n",
       "        vertical-align: middle;\n",
       "    }\n",
       "\n",
       "    .dataframe tbody tr th {\n",
       "        vertical-align: top;\n",
       "    }\n",
       "\n",
       "    .dataframe thead th {\n",
       "        text-align: right;\n",
       "    }\n",
       "</style>\n",
       "<table border=\"1\" class=\"dataframe\">\n",
       "  <thead>\n",
       "    <tr style=\"text-align: right;\">\n",
       "      <th></th>\n",
       "      <th>week</th>\n",
       "      <th>price_eastCoast</th>\n",
       "      <th>price_midwest</th>\n",
       "      <th>price_gulfCoast</th>\n",
       "      <th>price_rockyMountain</th>\n",
       "      <th>price_westCoast</th>\n",
       "      <th>change_eastCoast</th>\n",
       "      <th>change_midwest</th>\n",
       "      <th>change_gulfCoast</th>\n",
       "      <th>change_rockyMountain</th>\n",
       "      <th>change_westCoast</th>\n",
       "    </tr>\n",
       "  </thead>\n",
       "  <tbody>\n",
       "    <tr>\n",
       "      <th>1</th>\n",
       "      <td>2020-11-02</td>\n",
       "      <td>2.149</td>\n",
       "      <td>2.026</td>\n",
       "      <td>1.862</td>\n",
       "      <td>2.320</td>\n",
       "      <td>2.869</td>\n",
       "      <td>0.022</td>\n",
       "      <td>0.001</td>\n",
       "      <td>0.039</td>\n",
       "      <td>0.016</td>\n",
       "      <td>0.006</td>\n",
       "    </tr>\n",
       "    <tr>\n",
       "      <th>2</th>\n",
       "      <td>2020-10-26</td>\n",
       "      <td>2.173</td>\n",
       "      <td>2.069</td>\n",
       "      <td>1.908</td>\n",
       "      <td>2.340</td>\n",
       "      <td>2.882</td>\n",
       "      <td>0.024</td>\n",
       "      <td>0.043</td>\n",
       "      <td>0.046</td>\n",
       "      <td>0.020</td>\n",
       "      <td>0.013</td>\n",
       "    </tr>\n",
       "    <tr>\n",
       "      <th>3</th>\n",
       "      <td>2020-10-19</td>\n",
       "      <td>2.196</td>\n",
       "      <td>2.057</td>\n",
       "      <td>1.905</td>\n",
       "      <td>2.359</td>\n",
       "      <td>2.887</td>\n",
       "      <td>0.023</td>\n",
       "      <td>-0.012</td>\n",
       "      <td>-0.003</td>\n",
       "      <td>0.019</td>\n",
       "      <td>0.005</td>\n",
       "    </tr>\n",
       "    <tr>\n",
       "      <th>4</th>\n",
       "      <td>2020-10-12</td>\n",
       "      <td>2.209</td>\n",
       "      <td>2.089</td>\n",
       "      <td>1.914</td>\n",
       "      <td>2.367</td>\n",
       "      <td>2.895</td>\n",
       "      <td>0.013</td>\n",
       "      <td>0.032</td>\n",
       "      <td>0.009</td>\n",
       "      <td>0.008</td>\n",
       "      <td>0.008</td>\n",
       "    </tr>\n",
       "    <tr>\n",
       "      <th>5</th>\n",
       "      <td>2020-10-05</td>\n",
       "      <td>2.208</td>\n",
       "      <td>2.106</td>\n",
       "      <td>1.901</td>\n",
       "      <td>2.376</td>\n",
       "      <td>2.903</td>\n",
       "      <td>-0.001</td>\n",
       "      <td>0.017</td>\n",
       "      <td>-0.013</td>\n",
       "      <td>0.009</td>\n",
       "      <td>0.008</td>\n",
       "    </tr>\n",
       "    <tr>\n",
       "      <th>...</th>\n",
       "      <td>...</td>\n",
       "      <td>...</td>\n",
       "      <td>...</td>\n",
       "      <td>...</td>\n",
       "      <td>...</td>\n",
       "      <td>...</td>\n",
       "      <td>...</td>\n",
       "      <td>...</td>\n",
       "      <td>...</td>\n",
       "      <td>...</td>\n",
       "      <td>...</td>\n",
       "    </tr>\n",
       "    <tr>\n",
       "      <th>1148</th>\n",
       "      <td>1998-11-09</td>\n",
       "      <td>1.038</td>\n",
       "      <td>1.026</td>\n",
       "      <td>0.998</td>\n",
       "      <td>1.120</td>\n",
       "      <td>1.169</td>\n",
       "      <td>0.007</td>\n",
       "      <td>0.026</td>\n",
       "      <td>0.007</td>\n",
       "      <td>-0.021</td>\n",
       "      <td>0.000</td>\n",
       "    </tr>\n",
       "    <tr>\n",
       "      <th>1149</th>\n",
       "      <td>1998-11-02</td>\n",
       "      <td>1.040</td>\n",
       "      <td>1.025</td>\n",
       "      <td>1.002</td>\n",
       "      <td>1.128</td>\n",
       "      <td>1.172</td>\n",
       "      <td>0.002</td>\n",
       "      <td>-0.001</td>\n",
       "      <td>0.004</td>\n",
       "      <td>0.008</td>\n",
       "      <td>0.003</td>\n",
       "    </tr>\n",
       "    <tr>\n",
       "      <th>1150</th>\n",
       "      <td>1998-10-26</td>\n",
       "      <td>1.041</td>\n",
       "      <td>1.032</td>\n",
       "      <td>1.007</td>\n",
       "      <td>1.136</td>\n",
       "      <td>1.175</td>\n",
       "      <td>0.001</td>\n",
       "      <td>0.007</td>\n",
       "      <td>0.005</td>\n",
       "      <td>0.008</td>\n",
       "      <td>0.003</td>\n",
       "    </tr>\n",
       "    <tr>\n",
       "      <th>1151</th>\n",
       "      <td>1998-10-19</td>\n",
       "      <td>1.044</td>\n",
       "      <td>1.038</td>\n",
       "      <td>1.014</td>\n",
       "      <td>1.138</td>\n",
       "      <td>1.174</td>\n",
       "      <td>0.003</td>\n",
       "      <td>0.006</td>\n",
       "      <td>0.007</td>\n",
       "      <td>0.002</td>\n",
       "      <td>-0.001</td>\n",
       "    </tr>\n",
       "    <tr>\n",
       "      <th>1152</th>\n",
       "      <td>1998-10-12</td>\n",
       "      <td>1.046</td>\n",
       "      <td>1.045</td>\n",
       "      <td>1.015</td>\n",
       "      <td>1.148</td>\n",
       "      <td>1.178</td>\n",
       "      <td>0.002</td>\n",
       "      <td>0.007</td>\n",
       "      <td>0.001</td>\n",
       "      <td>0.010</td>\n",
       "      <td>0.004</td>\n",
       "    </tr>\n",
       "  </tbody>\n",
       "</table>\n",
       "<p>1152 rows × 11 columns</p>\n",
       "</div>"
      ],
      "text/plain": [
       "           week  price_eastCoast  price_midwest  price_gulfCoast  \\\n",
       "1    2020-11-02            2.149          2.026            1.862   \n",
       "2    2020-10-26            2.173          2.069            1.908   \n",
       "3    2020-10-19            2.196          2.057            1.905   \n",
       "4    2020-10-12            2.209          2.089            1.914   \n",
       "5    2020-10-05            2.208          2.106            1.901   \n",
       "...         ...              ...            ...              ...   \n",
       "1148 1998-11-09            1.038          1.026            0.998   \n",
       "1149 1998-11-02            1.040          1.025            1.002   \n",
       "1150 1998-10-26            1.041          1.032            1.007   \n",
       "1151 1998-10-19            1.044          1.038            1.014   \n",
       "1152 1998-10-12            1.046          1.045            1.015   \n",
       "\n",
       "      price_rockyMountain  price_westCoast  change_eastCoast  change_midwest  \\\n",
       "1                   2.320            2.869             0.022           0.001   \n",
       "2                   2.340            2.882             0.024           0.043   \n",
       "3                   2.359            2.887             0.023          -0.012   \n",
       "4                   2.367            2.895             0.013           0.032   \n",
       "5                   2.376            2.903            -0.001           0.017   \n",
       "...                   ...              ...               ...             ...   \n",
       "1148                1.120            1.169             0.007           0.026   \n",
       "1149                1.128            1.172             0.002          -0.001   \n",
       "1150                1.136            1.175             0.001           0.007   \n",
       "1151                1.138            1.174             0.003           0.006   \n",
       "1152                1.148            1.178             0.002           0.007   \n",
       "\n",
       "      change_gulfCoast  change_rockyMountain  change_westCoast  \n",
       "1                0.039                 0.016             0.006  \n",
       "2                0.046                 0.020             0.013  \n",
       "3               -0.003                 0.019             0.005  \n",
       "4                0.009                 0.008             0.008  \n",
       "5               -0.013                 0.009             0.008  \n",
       "...                ...                   ...               ...  \n",
       "1148             0.007                -0.021             0.000  \n",
       "1149             0.004                 0.008             0.003  \n",
       "1150             0.005                 0.008             0.003  \n",
       "1151             0.007                 0.002            -0.001  \n",
       "1152             0.001                 0.010             0.004  \n",
       "\n",
       "[1152 rows x 11 columns]"
      ]
     },
     "execution_count": 12,
     "metadata": {},
     "output_type": "execute_result"
    }
   ],
   "source": [
    "prices_df_train"
   ]
  },
  {
   "cell_type": "code",
   "execution_count": 13,
   "metadata": {},
   "outputs": [
    {
     "data": {
      "text/html": [
       "<div>\n",
       "<style scoped>\n",
       "    .dataframe tbody tr th:only-of-type {\n",
       "        vertical-align: middle;\n",
       "    }\n",
       "\n",
       "    .dataframe tbody tr th {\n",
       "        vertical-align: top;\n",
       "    }\n",
       "\n",
       "    .dataframe thead th {\n",
       "        text-align: right;\n",
       "    }\n",
       "</style>\n",
       "<table border=\"1\" class=\"dataframe\">\n",
       "  <thead>\n",
       "    <tr style=\"text-align: right;\">\n",
       "      <th></th>\n",
       "      <th>week</th>\n",
       "      <th>price_eastCoast</th>\n",
       "      <th>price_midwest</th>\n",
       "      <th>price_gulfCoast</th>\n",
       "      <th>price_rockyMountain</th>\n",
       "      <th>price_westCoast</th>\n",
       "      <th>change_eastCoast</th>\n",
       "      <th>change_midwest</th>\n",
       "      <th>change_gulfCoast</th>\n",
       "      <th>change_rockyMountain</th>\n",
       "      <th>change_westCoast</th>\n",
       "    </tr>\n",
       "  </thead>\n",
       "  <tbody>\n",
       "    <tr>\n",
       "      <th>1153</th>\n",
       "      <td>1998-10-05</td>\n",
       "      <td>1.034</td>\n",
       "      <td>1.050</td>\n",
       "      <td>1.003</td>\n",
       "      <td>1.130</td>\n",
       "      <td>1.182</td>\n",
       "      <td>-0.012</td>\n",
       "      <td>0.005</td>\n",
       "      <td>-0.012</td>\n",
       "      <td>-0.018</td>\n",
       "      <td>0.004</td>\n",
       "    </tr>\n",
       "    <tr>\n",
       "      <th>1154</th>\n",
       "      <td>1998-09-28</td>\n",
       "      <td>1.029</td>\n",
       "      <td>1.041</td>\n",
       "      <td>0.995</td>\n",
       "      <td>1.135</td>\n",
       "      <td>1.187</td>\n",
       "      <td>-0.005</td>\n",
       "      <td>-0.009</td>\n",
       "      <td>-0.008</td>\n",
       "      <td>0.005</td>\n",
       "      <td>0.005</td>\n",
       "    </tr>\n",
       "    <tr>\n",
       "      <th>1155</th>\n",
       "      <td>1998-09-21</td>\n",
       "      <td>1.023</td>\n",
       "      <td>1.047</td>\n",
       "      <td>0.989</td>\n",
       "      <td>1.149</td>\n",
       "      <td>1.189</td>\n",
       "      <td>-0.006</td>\n",
       "      <td>0.006</td>\n",
       "      <td>-0.006</td>\n",
       "      <td>0.014</td>\n",
       "      <td>0.002</td>\n",
       "    </tr>\n",
       "    <tr>\n",
       "      <th>1156</th>\n",
       "      <td>1998-09-14</td>\n",
       "      <td>1.024</td>\n",
       "      <td>1.020</td>\n",
       "      <td>0.989</td>\n",
       "      <td>1.152</td>\n",
       "      <td>1.171</td>\n",
       "      <td>0.001</td>\n",
       "      <td>-0.027</td>\n",
       "      <td>0.000</td>\n",
       "      <td>0.003</td>\n",
       "      <td>-0.018</td>\n",
       "    </tr>\n",
       "    <tr>\n",
       "      <th>1157</th>\n",
       "      <td>1998-09-07</td>\n",
       "      <td>1.028</td>\n",
       "      <td>1.027</td>\n",
       "      <td>0.989</td>\n",
       "      <td>1.136</td>\n",
       "      <td>1.179</td>\n",
       "      <td>0.004</td>\n",
       "      <td>0.007</td>\n",
       "      <td>0.000</td>\n",
       "      <td>-0.016</td>\n",
       "      <td>0.008</td>\n",
       "    </tr>\n",
       "    <tr>\n",
       "      <th>...</th>\n",
       "      <td>...</td>\n",
       "      <td>...</td>\n",
       "      <td>...</td>\n",
       "      <td>...</td>\n",
       "      <td>...</td>\n",
       "      <td>...</td>\n",
       "      <td>...</td>\n",
       "      <td>...</td>\n",
       "      <td>...</td>\n",
       "      <td>...</td>\n",
       "      <td>...</td>\n",
       "    </tr>\n",
       "    <tr>\n",
       "      <th>1436</th>\n",
       "      <td>1993-05-03</td>\n",
       "      <td>1.062</td>\n",
       "      <td>1.073</td>\n",
       "      <td>1.084</td>\n",
       "      <td>1.161</td>\n",
       "      <td>1.161</td>\n",
       "      <td>-0.007</td>\n",
       "      <td>-0.018</td>\n",
       "      <td>-0.004</td>\n",
       "      <td>0.018</td>\n",
       "      <td>-0.010</td>\n",
       "    </tr>\n",
       "    <tr>\n",
       "      <th>1437</th>\n",
       "      <td>1993-04-26</td>\n",
       "      <td>1.059</td>\n",
       "      <td>1.078</td>\n",
       "      <td>1.081</td>\n",
       "      <td>1.169</td>\n",
       "      <td>1.157</td>\n",
       "      <td>-0.003</td>\n",
       "      <td>0.005</td>\n",
       "      <td>-0.003</td>\n",
       "      <td>0.008</td>\n",
       "      <td>-0.004</td>\n",
       "    </tr>\n",
       "    <tr>\n",
       "      <th>1438</th>\n",
       "      <td>1993-04-19</td>\n",
       "      <td>1.054</td>\n",
       "      <td>1.067</td>\n",
       "      <td>1.081</td>\n",
       "      <td>1.120</td>\n",
       "      <td>1.155</td>\n",
       "      <td>-0.005</td>\n",
       "      <td>-0.011</td>\n",
       "      <td>0.000</td>\n",
       "      <td>-0.049</td>\n",
       "      <td>-0.002</td>\n",
       "    </tr>\n",
       "    <tr>\n",
       "      <th>1439</th>\n",
       "      <td>1993-04-12</td>\n",
       "      <td>1.047</td>\n",
       "      <td>1.077</td>\n",
       "      <td>1.071</td>\n",
       "      <td>1.118</td>\n",
       "      <td>1.154</td>\n",
       "      <td>-0.007</td>\n",
       "      <td>0.010</td>\n",
       "      <td>-0.010</td>\n",
       "      <td>-0.002</td>\n",
       "      <td>-0.001</td>\n",
       "    </tr>\n",
       "    <tr>\n",
       "      <th>1440</th>\n",
       "      <td>1993-04-05</td>\n",
       "      <td>1.040</td>\n",
       "      <td>1.061</td>\n",
       "      <td>1.064</td>\n",
       "      <td>1.093</td>\n",
       "      <td>1.152</td>\n",
       "      <td>-0.007</td>\n",
       "      <td>-0.016</td>\n",
       "      <td>-0.007</td>\n",
       "      <td>-0.025</td>\n",
       "      <td>-0.002</td>\n",
       "    </tr>\n",
       "  </tbody>\n",
       "</table>\n",
       "<p>288 rows × 11 columns</p>\n",
       "</div>"
      ],
      "text/plain": [
       "           week  price_eastCoast  price_midwest  price_gulfCoast  \\\n",
       "1153 1998-10-05            1.034          1.050            1.003   \n",
       "1154 1998-09-28            1.029          1.041            0.995   \n",
       "1155 1998-09-21            1.023          1.047            0.989   \n",
       "1156 1998-09-14            1.024          1.020            0.989   \n",
       "1157 1998-09-07            1.028          1.027            0.989   \n",
       "...         ...              ...            ...              ...   \n",
       "1436 1993-05-03            1.062          1.073            1.084   \n",
       "1437 1993-04-26            1.059          1.078            1.081   \n",
       "1438 1993-04-19            1.054          1.067            1.081   \n",
       "1439 1993-04-12            1.047          1.077            1.071   \n",
       "1440 1993-04-05            1.040          1.061            1.064   \n",
       "\n",
       "      price_rockyMountain  price_westCoast  change_eastCoast  change_midwest  \\\n",
       "1153                1.130            1.182            -0.012           0.005   \n",
       "1154                1.135            1.187            -0.005          -0.009   \n",
       "1155                1.149            1.189            -0.006           0.006   \n",
       "1156                1.152            1.171             0.001          -0.027   \n",
       "1157                1.136            1.179             0.004           0.007   \n",
       "...                   ...              ...               ...             ...   \n",
       "1436                1.161            1.161            -0.007          -0.018   \n",
       "1437                1.169            1.157            -0.003           0.005   \n",
       "1438                1.120            1.155            -0.005          -0.011   \n",
       "1439                1.118            1.154            -0.007           0.010   \n",
       "1440                1.093            1.152            -0.007          -0.016   \n",
       "\n",
       "      change_gulfCoast  change_rockyMountain  change_westCoast  \n",
       "1153            -0.012                -0.018             0.004  \n",
       "1154            -0.008                 0.005             0.005  \n",
       "1155            -0.006                 0.014             0.002  \n",
       "1156             0.000                 0.003            -0.018  \n",
       "1157             0.000                -0.016             0.008  \n",
       "...                ...                   ...               ...  \n",
       "1436            -0.004                 0.018            -0.010  \n",
       "1437            -0.003                 0.008            -0.004  \n",
       "1438             0.000                -0.049            -0.002  \n",
       "1439            -0.010                -0.002            -0.001  \n",
       "1440            -0.007                -0.025            -0.002  \n",
       "\n",
       "[288 rows x 11 columns]"
      ]
     },
     "execution_count": 13,
     "metadata": {},
     "output_type": "execute_result"
    }
   ],
   "source": [
    "prices_df_test"
   ]
  },
  {
   "cell_type": "code",
   "execution_count": 14,
   "metadata": {},
   "outputs": [],
   "source": [
    "#function for making windows\n",
    "def make_windows(X, y, time_steps=1):\n",
    "    Xs, ys = [], []\n",
    "    for i in range(len(X) - time_steps):\n",
    "        v = X.iloc[i:(i + time_steps)].values\n",
    "        Xs.append(v)\n",
    "        ys.append(y.iloc[i + time_steps])\n",
    "    return np.array(Xs), np.array(ys)"
   ]
  },
  {
   "cell_type": "code",
   "execution_count": 15,
   "metadata": {},
   "outputs": [
    {
     "name": "stdout",
     "output_type": "stream",
     "text": [
      "(1147, 5, 5) (1147, 5) (283, 5, 5) (283, 5)\n"
     ]
    }
   ],
   "source": [
    "time_steps = 5\n",
    "X_train, y_train = make_windows(prices_df_train[[\"price_eastCoast\", \"price_midwest\", \"price_gulfCoast\", \"price_rockyMountain\", \"price_westCoast\"]], prices_df_train[[\"price_eastCoast\", \"price_midwest\", \"price_gulfCoast\", \"price_rockyMountain\", \"price_westCoast\"]], time_steps)\n",
    "X_test, y_test = make_windows(prices_df_test[[\"price_eastCoast\", \"price_midwest\", \"price_gulfCoast\", \"price_rockyMountain\", \"price_westCoast\"]], prices_df_test[[\"price_eastCoast\", \"price_midwest\", \"price_gulfCoast\", \"price_rockyMountain\", \"price_westCoast\"]], time_steps)\n",
    "print(X_train.shape, y_train.shape, X_test.shape, y_test.shape)"
   ]
  },
  {
   "cell_type": "markdown",
   "metadata": {},
   "source": [
    "## Build Model"
   ]
  },
  {
   "cell_type": "code",
   "execution_count": 16,
   "metadata": {},
   "outputs": [],
   "source": [
    "from tensorflow import keras"
   ]
  },
  {
   "cell_type": "code",
   "execution_count": 17,
   "metadata": {},
   "outputs": [],
   "source": [
    "model = keras.models.Sequential([\n",
    "    # Shape [batch, time, features] => [batch, time, lstm_units]\n",
    "    keras.layers.LSTM(units = 8, input_shape=(X_train.shape[1],X_train.shape[2]), return_sequences=False),\n",
    "    keras.layers.Dense(units=5)\n",
    "])"
   ]
  },
  {
   "cell_type": "code",
   "execution_count": 18,
   "metadata": {},
   "outputs": [
    {
     "name": "stdout",
     "output_type": "stream",
     "text": [
      "Model: \"sequential\"\n",
      "_________________________________________________________________\n",
      "Layer (type)                 Output Shape              Param #   \n",
      "=================================================================\n",
      "lstm (LSTM)                  (None, 8)                 448       \n",
      "_________________________________________________________________\n",
      "dense (Dense)                (None, 5)                 45        \n",
      "=================================================================\n",
      "Total params: 493\n",
      "Trainable params: 493\n",
      "Non-trainable params: 0\n",
      "_________________________________________________________________\n"
     ]
    }
   ],
   "source": [
    "model.summary()"
   ]
  },
  {
   "cell_type": "code",
   "execution_count": 19,
   "metadata": {},
   "outputs": [],
   "source": [
    "model.compile(\n",
    "    loss='mean_squared_error',\n",
    "    optimizer=keras.optimizers.Adam(0.001),\n",
    "    metrics=[\"mean_absolute_error\"]\n",
    ")"
   ]
  },
  {
   "cell_type": "code",
   "execution_count": 20,
   "metadata": {
    "collapsed": true,
    "jupyter": {
     "outputs_hidden": true
    }
   },
   "outputs": [
    {
     "name": "stdout",
     "output_type": "stream",
     "text": [
      "Epoch 1/75\n",
      "36/36 [==============================] - 0s 3ms/step - loss: 7.2787 - mean_absolute_error: 2.5318\n",
      "Epoch 2/75\n",
      "36/36 [==============================] - 0s 2ms/step - loss: 5.3595 - mean_absolute_error: 2.1389\n",
      "Epoch 3/75\n",
      "36/36 [==============================] - 0s 2ms/step - loss: 3.9489 - mean_absolute_error: 1.7813\n",
      "Epoch 4/75\n",
      "36/36 [==============================] - 0s 2ms/step - loss: 2.6515 - mean_absolute_error: 1.4069\n",
      "Epoch 5/75\n",
      "36/36 [==============================] - 0s 2ms/step - loss: 1.6829 - mean_absolute_error: 1.0711\n",
      "Epoch 6/75\n",
      "36/36 [==============================] - 0s 2ms/step - loss: 1.1368 - mean_absolute_error: 0.8581\n",
      "Epoch 7/75\n",
      "36/36 [==============================] - 0s 2ms/step - loss: 0.8468 - mean_absolute_error: 0.7379\n",
      "Epoch 8/75\n",
      "36/36 [==============================] - 0s 2ms/step - loss: 0.6756 - mean_absolute_error: 0.6591\n",
      "Epoch 9/75\n",
      "36/36 [==============================] - 0s 3ms/step - loss: 0.5579 - mean_absolute_error: 0.5996\n",
      "Epoch 10/75\n",
      "36/36 [==============================] - 0s 2ms/step - loss: 0.4586 - mean_absolute_error: 0.5379\n",
      "Epoch 11/75\n",
      "36/36 [==============================] - 0s 2ms/step - loss: 0.3864 - mean_absolute_error: 0.4855\n",
      "Epoch 12/75\n",
      "36/36 [==============================] - 0s 2ms/step - loss: 0.3337 - mean_absolute_error: 0.4554\n",
      "Epoch 13/75\n",
      "36/36 [==============================] - 0s 2ms/step - loss: 0.2786 - mean_absolute_error: 0.4044\n",
      "Epoch 14/75\n",
      "36/36 [==============================] - 0s 2ms/step - loss: 0.2350 - mean_absolute_error: 0.3655\n",
      "Epoch 15/75\n",
      "36/36 [==============================] - 0s 2ms/step - loss: 0.2035 - mean_absolute_error: 0.3364\n",
      "Epoch 16/75\n",
      "36/36 [==============================] - 0s 2ms/step - loss: 0.1751 - mean_absolute_error: 0.3082\n",
      "Epoch 17/75\n",
      "36/36 [==============================] - 0s 2ms/step - loss: 0.1528 - mean_absolute_error: 0.2846\n",
      "Epoch 18/75\n",
      "36/36 [==============================] - 0s 2ms/step - loss: 0.1341 - mean_absolute_error: 0.2642\n",
      "Epoch 19/75\n",
      "36/36 [==============================] - 0s 2ms/step - loss: 0.1192 - mean_absolute_error: 0.2477\n",
      "Epoch 20/75\n",
      "36/36 [==============================] - 0s 2ms/step - loss: 0.1073 - mean_absolute_error: 0.2359\n",
      "Epoch 21/75\n",
      "36/36 [==============================] - 0s 2ms/step - loss: 0.0979 - mean_absolute_error: 0.2269\n",
      "Epoch 22/75\n",
      "36/36 [==============================] - 0s 2ms/step - loss: 0.0904 - mean_absolute_error: 0.2199\n",
      "Epoch 23/75\n",
      "36/36 [==============================] - 0s 2ms/step - loss: 0.0843 - mean_absolute_error: 0.2143\n",
      "Epoch 24/75\n",
      "36/36 [==============================] - 0s 3ms/step - loss: 0.0792 - mean_absolute_error: 0.2096\n",
      "Epoch 25/75\n",
      "36/36 [==============================] - 0s 2ms/step - loss: 0.0748 - mean_absolute_error: 0.2053\n",
      "Epoch 26/75\n",
      "36/36 [==============================] - 0s 2ms/step - loss: 0.0710 - mean_absolute_error: 0.2015\n",
      "Epoch 27/75\n",
      "36/36 [==============================] - 0s 2ms/step - loss: 0.0677 - mean_absolute_error: 0.1980\n",
      "Epoch 28/75\n",
      "36/36 [==============================] - 0s 2ms/step - loss: 0.0648 - mean_absolute_error: 0.1947\n",
      "Epoch 29/75\n",
      "36/36 [==============================] - 0s 2ms/step - loss: 0.0622 - mean_absolute_error: 0.1918\n",
      "Epoch 30/75\n",
      "36/36 [==============================] - 0s 2ms/step - loss: 0.0599 - mean_absolute_error: 0.1891\n",
      "Epoch 31/75\n",
      "36/36 [==============================] - 0s 2ms/step - loss: 0.0579 - mean_absolute_error: 0.1866\n",
      "Epoch 32/75\n",
      "36/36 [==============================] - 0s 2ms/step - loss: 0.0561 - mean_absolute_error: 0.1842\n",
      "Epoch 33/75\n",
      "36/36 [==============================] - 0s 3ms/step - loss: 0.0544 - mean_absolute_error: 0.1821\n",
      "Epoch 34/75\n",
      "36/36 [==============================] - 0s 2ms/step - loss: 0.0529 - mean_absolute_error: 0.1800\n",
      "Epoch 35/75\n",
      "36/36 [==============================] - 0s 2ms/step - loss: 0.0516 - mean_absolute_error: 0.1779\n",
      "Epoch 36/75\n",
      "36/36 [==============================] - 0s 2ms/step - loss: 0.0502 - mean_absolute_error: 0.1759\n",
      "Epoch 37/75\n",
      "36/36 [==============================] - 0s 2ms/step - loss: 0.0489 - mean_absolute_error: 0.1739\n",
      "Epoch 38/75\n",
      "36/36 [==============================] - 0s 2ms/step - loss: 0.0477 - mean_absolute_error: 0.1718\n",
      "Epoch 39/75\n",
      "36/36 [==============================] - 0s 2ms/step - loss: 0.0464 - mean_absolute_error: 0.1697\n",
      "Epoch 40/75\n",
      "36/36 [==============================] - 0s 3ms/step - loss: 0.0452 - mean_absolute_error: 0.1675\n",
      "Epoch 41/75\n",
      "36/36 [==============================] - 0s 3ms/step - loss: 0.0440 - mean_absolute_error: 0.1653\n",
      "Epoch 42/75\n",
      "36/36 [==============================] - 0s 3ms/step - loss: 0.0428 - mean_absolute_error: 0.1630\n",
      "Epoch 43/75\n",
      "36/36 [==============================] - 0s 2ms/step - loss: 0.0416 - mean_absolute_error: 0.1608\n",
      "Epoch 44/75\n",
      "36/36 [==============================] - 0s 2ms/step - loss: 0.0405 - mean_absolute_error: 0.1586\n",
      "Epoch 45/75\n",
      "36/36 [==============================] - 0s 3ms/step - loss: 0.0394 - mean_absolute_error: 0.1565\n",
      "Epoch 46/75\n",
      "36/36 [==============================] - 0s 2ms/step - loss: 0.0384 - mean_absolute_error: 0.1544\n",
      "Epoch 47/75\n",
      "36/36 [==============================] - 0s 3ms/step - loss: 0.0374 - mean_absolute_error: 0.1524\n",
      "Epoch 48/75\n",
      "36/36 [==============================] - 0s 2ms/step - loss: 0.0364 - mean_absolute_error: 0.1504\n",
      "Epoch 49/75\n",
      "36/36 [==============================] - 0s 2ms/step - loss: 0.0355 - mean_absolute_error: 0.1486\n",
      "Epoch 50/75\n",
      "36/36 [==============================] - 0s 2ms/step - loss: 0.0347 - mean_absolute_error: 0.1468\n",
      "Epoch 51/75\n",
      "36/36 [==============================] - 0s 2ms/step - loss: 0.0339 - mean_absolute_error: 0.1450\n",
      "Epoch 52/75\n",
      "36/36 [==============================] - 0s 2ms/step - loss: 0.0331 - mean_absolute_error: 0.1434\n",
      "Epoch 53/75\n",
      "36/36 [==============================] - 0s 2ms/step - loss: 0.0324 - mean_absolute_error: 0.1418\n",
      "Epoch 54/75\n",
      "36/36 [==============================] - 0s 2ms/step - loss: 0.0317 - mean_absolute_error: 0.1402\n",
      "Epoch 55/75\n",
      "36/36 [==============================] - 0s 3ms/step - loss: 0.0310 - mean_absolute_error: 0.1387\n",
      "Epoch 56/75\n",
      "36/36 [==============================] - 0s 2ms/step - loss: 0.0304 - mean_absolute_error: 0.1373\n",
      "Epoch 57/75\n",
      "36/36 [==============================] - 0s 2ms/step - loss: 0.0298 - mean_absolute_error: 0.1358\n",
      "Epoch 58/75\n",
      "36/36 [==============================] - 0s 2ms/step - loss: 0.0292 - mean_absolute_error: 0.1345\n",
      "Epoch 59/75\n",
      "36/36 [==============================] - 0s 3ms/step - loss: 0.0286 - mean_absolute_error: 0.1331\n",
      "Epoch 60/75\n",
      "36/36 [==============================] - 0s 2ms/step - loss: 0.0281 - mean_absolute_error: 0.1318\n",
      "Epoch 61/75\n",
      "36/36 [==============================] - 0s 2ms/step - loss: 0.0275 - mean_absolute_error: 0.1305\n",
      "Epoch 62/75\n",
      "36/36 [==============================] - 0s 2ms/step - loss: 0.0270 - mean_absolute_error: 0.1292\n",
      "Epoch 63/75\n",
      "36/36 [==============================] - 0s 2ms/step - loss: 0.0265 - mean_absolute_error: 0.1279\n",
      "Epoch 64/75\n",
      "36/36 [==============================] - 0s 2ms/step - loss: 0.0260 - mean_absolute_error: 0.1267\n",
      "Epoch 65/75\n",
      "36/36 [==============================] - 0s 2ms/step - loss: 0.0255 - mean_absolute_error: 0.1255\n",
      "Epoch 66/75\n",
      "36/36 [==============================] - 0s 3ms/step - loss: 0.0251 - mean_absolute_error: 0.1242\n",
      "Epoch 67/75\n",
      "36/36 [==============================] - 0s 2ms/step - loss: 0.0246 - mean_absolute_error: 0.1231\n",
      "Epoch 68/75\n",
      "36/36 [==============================] - 0s 2ms/step - loss: 0.0242 - mean_absolute_error: 0.1219\n",
      "Epoch 69/75\n",
      "36/36 [==============================] - 0s 2ms/step - loss: 0.0238 - mean_absolute_error: 0.1207\n",
      "Epoch 70/75\n",
      "36/36 [==============================] - 0s 2ms/step - loss: 0.0233 - mean_absolute_error: 0.1196\n",
      "Epoch 71/75\n",
      "36/36 [==============================] - 0s 2ms/step - loss: 0.0229 - mean_absolute_error: 0.1184\n",
      "Epoch 72/75\n",
      "36/36 [==============================] - 0s 2ms/step - loss: 0.0225 - mean_absolute_error: 0.1173\n",
      "Epoch 73/75\n",
      "36/36 [==============================] - 0s 2ms/step - loss: 0.0221 - mean_absolute_error: 0.1163\n",
      "Epoch 74/75\n",
      "36/36 [==============================] - 0s 2ms/step - loss: 0.0218 - mean_absolute_error: 0.1152\n",
      "Epoch 75/75\n",
      "36/36 [==============================] - 0s 2ms/step - loss: 0.0214 - mean_absolute_error: 0.1141\n"
     ]
    }
   ],
   "source": [
    "history = model.fit(\n",
    "    X_train, y_train,\n",
    "    epochs=75,\n",
    "    verbose=1,\n",
    "    shuffle=False\n",
    ")"
   ]
  },
  {
   "cell_type": "code",
   "execution_count": 21,
   "metadata": {},
   "outputs": [],
   "source": [
    "y_pred = model.predict(X_test)"
   ]
  },
  {
   "cell_type": "code",
   "execution_count": 22,
   "metadata": {},
   "outputs": [
    {
     "data": {
      "text/plain": [
       "array([[0.99147534, 1.0404066 , 0.99711025, 1.1325665 , 1.1763488 ],\n",
       "       [0.9980605 , 1.0473287 , 1.00087   , 1.1394095 , 1.184303  ],\n",
       "       [1.0064001 , 1.0562049 , 1.0069886 , 1.1467913 , 1.1936619 ],\n",
       "       ...,\n",
       "       [1.0234807 , 1.066607  , 1.0356315 , 1.1350114 , 1.1912872 ],\n",
       "       [1.0121417 , 1.0547619 , 1.0233364 , 1.1229078 , 1.1788191 ],\n",
       "       [1.0073977 , 1.0491333 , 1.0196155 , 1.1189232 , 1.1739442 ]],\n",
       "      dtype=float32)"
      ]
     },
     "execution_count": 22,
     "metadata": {},
     "output_type": "execute_result"
    }
   ],
   "source": [
    "y_pred"
   ]
  },
  {
   "cell_type": "code",
   "execution_count": 23,
   "metadata": {},
   "outputs": [
    {
     "data": {
      "text/plain": [
       "array([[1.034, 1.032, 0.999, 1.151, 1.184],\n",
       "       [1.038, 1.035, 1.01 , 1.161, 1.192],\n",
       "       [1.042, 1.048, 1.012, 1.166, 1.196],\n",
       "       ...,\n",
       "       [1.054, 1.067, 1.081, 1.12 , 1.155],\n",
       "       [1.047, 1.077, 1.071, 1.118, 1.154],\n",
       "       [1.04 , 1.061, 1.064, 1.093, 1.152]])"
      ]
     },
     "execution_count": 23,
     "metadata": {},
     "output_type": "execute_result"
    }
   ],
   "source": [
    "y_test"
   ]
  },
  {
   "cell_type": "code",
   "execution_count": 24,
   "metadata": {},
   "outputs": [
    {
     "name": "stdout",
     "output_type": "stream",
     "text": [
      "9/9 [==============================] - 0s 1ms/step - loss: 0.0028 - mean_absolute_error: 0.0418\n"
     ]
    },
    {
     "data": {
      "text/plain": [
       "[0.002781445160508156, 0.041791416704654694]"
      ]
     },
     "execution_count": 24,
     "metadata": {},
     "output_type": "execute_result"
    }
   ],
   "source": [
    "model.evaluate(X_test, y_test)"
   ]
  },
  {
   "cell_type": "code",
   "execution_count": 25,
   "metadata": {},
   "outputs": [
    {
     "data": {
      "text/plain": [
       "['loss', 'mean_absolute_error']"
      ]
     },
     "execution_count": 25,
     "metadata": {},
     "output_type": "execute_result"
    }
   ],
   "source": [
    "model.metrics_names"
   ]
  },
  {
   "cell_type": "code",
   "execution_count": 26,
   "metadata": {},
   "outputs": [],
   "source": [
    "import matplotlib.pyplot as plt"
   ]
  },
  {
   "cell_type": "code",
   "execution_count": 27,
   "metadata": {},
   "outputs": [
    {
     "data": {
      "text/plain": [
       "<matplotlib.collections.PathCollection at 0x2121c23ee08>"
      ]
     },
     "execution_count": 27,
     "metadata": {},
     "output_type": "execute_result"
    },
    {
     "data": {
      "image/png": "[encoded data removed]",
      "text/plain": [
       "<Figure size 432x288 with 1 Axes>"
      ]
     },
     "metadata": {
      "needs_background": "light"
     },
     "output_type": "display_data"
    }
   ],
   "source": [
    "plt.scatter(y_test, y_pred)"
   ]
  },
  {
   "cell_type": "code",
   "execution_count": 28,
   "metadata": {},
   "outputs": [],
   "source": [
    "y_err = np.abs(y_pred - y_test)"
   ]
  },
  {
   "cell_type": "code",
   "execution_count": 29,
   "metadata": {},
   "outputs": [
    {
     "data": {
      "text/plain": [
       "[<matplotlib.lines.Line2D at 0x2121c2bb748>,\n",
       " <matplotlib.lines.Line2D at 0x2121c2a06c8>,\n",
       " <matplotlib.lines.Line2D at 0x2121c2bb808>,\n",
       " <matplotlib.lines.Line2D at 0x2121c2bb908>,\n",
       " <matplotlib.lines.Line2D at 0x2121c2bba08>]"
      ]
     },
     "execution_count": 29,
     "metadata": {},
     "output_type": "execute_result"
    },
    {
     "data": {
      "image/png": "[encoded data removed]",
      "text/plain": [
       "<Figure size 432x288 with 1 Axes>"
      ]
     },
     "metadata": {
      "needs_background": "light"
     },
     "output_type": "display_data"
    }
   ],
   "source": [
    "plt.plot(y_err)"
   ]
  },
  {
   "cell_type": "markdown",
   "metadata": {},
   "source": [
    "## Save Model"
   ]
  },
  {
   "cell_type": "code",
   "execution_count": 30,
   "metadata": {},
   "outputs": [],
   "source": [
    "#model.save(\"test_model.h5\")"
   ]
  },
  {
   "cell_type": "code",
   "execution_count": 31,
   "metadata": {},
   "outputs": [],
   "source": [
    "#!tensorflowjs_converter --input_format keras \"test_model.h5\" ./jsmodel"
   ]
  },
  {
   "cell_type": "code",
   "execution_count": null,
   "metadata": {},
   "outputs": [],
   "source": []
  }
 ],
 "metadata": {
  "kernelspec": {
   "display_name": "Python 3",
   "language": "python",
   "name": "python3"
  },
  "language_info": {
   "codemirror_mode": {
    "name": "ipython",
    "version": 3
   },
   "file_extension": ".py",
   "mimetype": "text/x-python",
   "name": "python",
   "nbconvert_exporter": "python",
   "pygments_lexer": "ipython3",
   "version": "3.7.7"
  }
 },
 "nbformat": 4,
 "nbformat_minor": 4
}
