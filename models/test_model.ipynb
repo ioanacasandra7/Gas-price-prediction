{
 "cells": [
  {
   "cell_type": "code",
   "execution_count": 1,
   "metadata": {},
   "outputs": [],
   "source": [
    "import requests\n",
    "from config import API_KEY\n",
    "import pandas as pd\n",
    "import numpy as np\n",
    "import yfinance as yf"
   ]
  },
  {
   "cell_type": "markdown",
   "metadata": {},
   "source": [
    "## Get Data from eia API"
   ]
  },
  {
   "cell_type": "code",
   "execution_count": 2,
   "metadata": {},
   "outputs": [],
   "source": [
    "url_gas_prices = f\"http://api.eia.gov/series/?api_key={API_KEY}&series_id=PET.EMM_EPMRR_PTE_YORD_DPG.W\"\n",
    "url_WTI = f\"http://api.eia.gov/series/?api_key={API_KEY}&series_id=PET.RWTC.W\""
   ]
  },
  {
   "cell_type": "code",
   "execution_count": 3,
   "metadata": {},
   "outputs": [],
   "source": [
    "df_gas_prices = pd.DataFrame(requests.get(url_gas_prices).json()['series'][0]['data'])"
   ]
  },
  {
   "cell_type": "code",
   "execution_count": 4,
   "metadata": {},
   "outputs": [],
   "source": [
    "df_WTI = pd.DataFrame(requests.get(url_WTI).json()['series'][0]['data'])"
   ]
  },
  {
   "cell_type": "code",
   "execution_count": 5,
   "metadata": {},
   "outputs": [
    {
     "data": {
      "text/html": [
       "<div>\n",
       "<style scoped>\n",
       "    .dataframe tbody tr th:only-of-type {\n",
       "        vertical-align: middle;\n",
       "    }\n",
       "\n",
       "    .dataframe tbody tr th {\n",
       "        vertical-align: top;\n",
       "    }\n",
       "\n",
       "    .dataframe thead th {\n",
       "        text-align: right;\n",
       "    }\n",
       "</style>\n",
       "<table border=\"1\" class=\"dataframe\">\n",
       "  <thead>\n",
       "    <tr style=\"text-align: right;\">\n",
       "      <th></th>\n",
       "      <th>week</th>\n",
       "      <th>WTI_price</th>\n",
       "    </tr>\n",
       "  </thead>\n",
       "  <tbody>\n",
       "    <tr>\n",
       "      <th>0</th>\n",
       "      <td>20201106</td>\n",
       "      <td>37.71</td>\n",
       "    </tr>\n",
       "    <tr>\n",
       "      <th>1</th>\n",
       "      <td>20201030</td>\n",
       "      <td>37.32</td>\n",
       "    </tr>\n",
       "    <tr>\n",
       "      <th>2</th>\n",
       "      <td>20201023</td>\n",
       "      <td>40.43</td>\n",
       "    </tr>\n",
       "    <tr>\n",
       "      <th>3</th>\n",
       "      <td>20201016</td>\n",
       "      <td>40.33</td>\n",
       "    </tr>\n",
       "    <tr>\n",
       "      <th>4</th>\n",
       "      <td>20201009</td>\n",
       "      <td>40.19</td>\n",
       "    </tr>\n",
       "    <tr>\n",
       "      <th>...</th>\n",
       "      <td>...</td>\n",
       "      <td>...</td>\n",
       "    </tr>\n",
       "    <tr>\n",
       "      <th>1814</th>\n",
       "      <td>19860131</td>\n",
       "      <td>19.69</td>\n",
       "    </tr>\n",
       "    <tr>\n",
       "      <th>1815</th>\n",
       "      <td>19860124</td>\n",
       "      <td>20.31</td>\n",
       "    </tr>\n",
       "    <tr>\n",
       "      <th>1816</th>\n",
       "      <td>19860117</td>\n",
       "      <td>24.57</td>\n",
       "    </tr>\n",
       "    <tr>\n",
       "      <th>1817</th>\n",
       "      <td>19860110</td>\n",
       "      <td>25.99</td>\n",
       "    </tr>\n",
       "    <tr>\n",
       "      <th>1818</th>\n",
       "      <td>19860103</td>\n",
       "      <td>25.78</td>\n",
       "    </tr>\n",
       "  </tbody>\n",
       "</table>\n",
       "<p>1819 rows × 2 columns</p>\n",
       "</div>"
      ],
      "text/plain": [
       "          week  WTI_price\n",
       "0     20201106      37.71\n",
       "1     20201030      37.32\n",
       "2     20201023      40.43\n",
       "3     20201016      40.33\n",
       "4     20201009      40.19\n",
       "...        ...        ...\n",
       "1814  19860131      19.69\n",
       "1815  19860124      20.31\n",
       "1816  19860117      24.57\n",
       "1817  19860110      25.99\n",
       "1818  19860103      25.78\n",
       "\n",
       "[1819 rows x 2 columns]"
      ]
     },
     "execution_count": 5,
     "metadata": {},
     "output_type": "execute_result"
    }
   ],
   "source": [
    "df_WTI.rename(columns = {0:\"week\", 1:\"WTI_price\"}, inplace = True)\n",
    "df_WTI"
   ]
  },
  {
   "cell_type": "code",
   "execution_count": 6,
   "metadata": {},
   "outputs": [
    {
     "data": {
      "text/html": [
       "<div>\n",
       "<style scoped>\n",
       "    .dataframe tbody tr th:only-of-type {\n",
       "        vertical-align: middle;\n",
       "    }\n",
       "\n",
       "    .dataframe tbody tr th {\n",
       "        vertical-align: top;\n",
       "    }\n",
       "\n",
       "    .dataframe thead th {\n",
       "        text-align: right;\n",
       "    }\n",
       "</style>\n",
       "<table border=\"1\" class=\"dataframe\">\n",
       "  <thead>\n",
       "    <tr style=\"text-align: right;\">\n",
       "      <th></th>\n",
       "      <th>week</th>\n",
       "      <th>gas_price</th>\n",
       "    </tr>\n",
       "  </thead>\n",
       "  <tbody>\n",
       "    <tr>\n",
       "      <th>0</th>\n",
       "      <td>20201109</td>\n",
       "      <td>2.237</td>\n",
       "    </tr>\n",
       "    <tr>\n",
       "      <th>1</th>\n",
       "      <td>20201102</td>\n",
       "      <td>2.223</td>\n",
       "    </tr>\n",
       "    <tr>\n",
       "      <th>2</th>\n",
       "      <td>20201026</td>\n",
       "      <td>2.249</td>\n",
       "    </tr>\n",
       "    <tr>\n",
       "      <th>3</th>\n",
       "      <td>20201019</td>\n",
       "      <td>2.233</td>\n",
       "    </tr>\n",
       "    <tr>\n",
       "      <th>4</th>\n",
       "      <td>20201012</td>\n",
       "      <td>2.267</td>\n",
       "    </tr>\n",
       "    <tr>\n",
       "      <th>...</th>\n",
       "      <td>...</td>\n",
       "      <td>...</td>\n",
       "    </tr>\n",
       "    <tr>\n",
       "      <th>1062</th>\n",
       "      <td>20000703</td>\n",
       "      <td>1.786</td>\n",
       "    </tr>\n",
       "    <tr>\n",
       "      <th>1063</th>\n",
       "      <td>20000626</td>\n",
       "      <td>1.989</td>\n",
       "    </tr>\n",
       "    <tr>\n",
       "      <th>1064</th>\n",
       "      <td>20000619</td>\n",
       "      <td>2.108</td>\n",
       "    </tr>\n",
       "    <tr>\n",
       "      <th>1065</th>\n",
       "      <td>20000612</td>\n",
       "      <td>2.091</td>\n",
       "    </tr>\n",
       "    <tr>\n",
       "      <th>1066</th>\n",
       "      <td>20000605</td>\n",
       "      <td>1.949</td>\n",
       "    </tr>\n",
       "  </tbody>\n",
       "</table>\n",
       "<p>1067 rows × 2 columns</p>\n",
       "</div>"
      ],
      "text/plain": [
       "          week  gas_price\n",
       "0     20201109      2.237\n",
       "1     20201102      2.223\n",
       "2     20201026      2.249\n",
       "3     20201019      2.233\n",
       "4     20201012      2.267\n",
       "...        ...        ...\n",
       "1062  20000703      1.786\n",
       "1063  20000626      1.989\n",
       "1064  20000619      2.108\n",
       "1065  20000612      2.091\n",
       "1066  20000605      1.949\n",
       "\n",
       "[1067 rows x 2 columns]"
      ]
     },
     "execution_count": 6,
     "metadata": {},
     "output_type": "execute_result"
    }
   ],
   "source": [
    "df_gas_prices.rename(columns = {0:\"week\", 1:\"gas_price\"}, inplace = True)\n",
    "df_gas_prices"
   ]
  },
  {
   "cell_type": "code",
   "execution_count": null,
   "metadata": {},
   "outputs": [],
   "source": []
  },
  {
   "cell_type": "code",
   "execution_count": 7,
   "metadata": {},
   "outputs": [],
   "source": [
    "df_gas_prices['week'] = pd.to_datetime(df_gas_prices['week'])\n",
    "df_WTI['week'] = pd.to_datetime(df_WTI['week'])"
   ]
  },
  {
   "cell_type": "code",
   "execution_count": 8,
   "metadata": {},
   "outputs": [],
   "source": [
    "df_gas_prices = df_gas_prices.groupby(pd.Grouper(key=\"week\", freq = 'W')).sum()"
   ]
  },
  {
   "cell_type": "code",
   "execution_count": 9,
   "metadata": {},
   "outputs": [],
   "source": [
    "df_WTI = df_WTI.groupby(pd.Grouper(key=\"week\", freq = 'W')).sum()"
   ]
  },
  {
   "cell_type": "code",
   "execution_count": 10,
   "metadata": {},
   "outputs": [],
   "source": [
    "df = df_gas_prices.merge(df_WTI, on = 'week')"
   ]
  },
  {
   "cell_type": "code",
   "execution_count": 11,
   "metadata": {},
   "outputs": [
    {
     "data": {
      "text/html": [
       "<div>\n",
       "<style scoped>\n",
       "    .dataframe tbody tr th:only-of-type {\n",
       "        vertical-align: middle;\n",
       "    }\n",
       "\n",
       "    .dataframe tbody tr th {\n",
       "        vertical-align: top;\n",
       "    }\n",
       "\n",
       "    .dataframe thead th {\n",
       "        text-align: right;\n",
       "    }\n",
       "</style>\n",
       "<table border=\"1\" class=\"dataframe\">\n",
       "  <thead>\n",
       "    <tr style=\"text-align: right;\">\n",
       "      <th></th>\n",
       "      <th>gas_price</th>\n",
       "      <th>WTI_price</th>\n",
       "    </tr>\n",
       "    <tr>\n",
       "      <th>week</th>\n",
       "      <th></th>\n",
       "      <th></th>\n",
       "    </tr>\n",
       "  </thead>\n",
       "  <tbody>\n",
       "    <tr>\n",
       "      <th>2000-06-11</th>\n",
       "      <td>1.949</td>\n",
       "      <td>29.79</td>\n",
       "    </tr>\n",
       "    <tr>\n",
       "      <th>2000-06-18</th>\n",
       "      <td>2.091</td>\n",
       "      <td>32.45</td>\n",
       "    </tr>\n",
       "    <tr>\n",
       "      <th>2000-06-25</th>\n",
       "      <td>2.108</td>\n",
       "      <td>33.55</td>\n",
       "    </tr>\n",
       "    <tr>\n",
       "      <th>2000-07-02</th>\n",
       "      <td>1.989</td>\n",
       "      <td>32.12</td>\n",
       "    </tr>\n",
       "    <tr>\n",
       "      <th>2000-07-09</th>\n",
       "      <td>1.786</td>\n",
       "      <td>30.40</td>\n",
       "    </tr>\n",
       "    <tr>\n",
       "      <th>...</th>\n",
       "      <td>...</td>\n",
       "      <td>...</td>\n",
       "    </tr>\n",
       "    <tr>\n",
       "      <th>2020-10-11</th>\n",
       "      <td>2.301</td>\n",
       "      <td>40.19</td>\n",
       "    </tr>\n",
       "    <tr>\n",
       "      <th>2020-10-18</th>\n",
       "      <td>2.267</td>\n",
       "      <td>40.33</td>\n",
       "    </tr>\n",
       "    <tr>\n",
       "      <th>2020-10-25</th>\n",
       "      <td>2.233</td>\n",
       "      <td>40.43</td>\n",
       "    </tr>\n",
       "    <tr>\n",
       "      <th>2020-11-01</th>\n",
       "      <td>2.249</td>\n",
       "      <td>37.32</td>\n",
       "    </tr>\n",
       "    <tr>\n",
       "      <th>2020-11-08</th>\n",
       "      <td>2.223</td>\n",
       "      <td>37.71</td>\n",
       "    </tr>\n",
       "  </tbody>\n",
       "</table>\n",
       "<p>1066 rows × 2 columns</p>\n",
       "</div>"
      ],
      "text/plain": [
       "            gas_price  WTI_price\n",
       "week                            \n",
       "2000-06-11      1.949      29.79\n",
       "2000-06-18      2.091      32.45\n",
       "2000-06-25      2.108      33.55\n",
       "2000-07-02      1.989      32.12\n",
       "2000-07-09      1.786      30.40\n",
       "...               ...        ...\n",
       "2020-10-11      2.301      40.19\n",
       "2020-10-18      2.267      40.33\n",
       "2020-10-25      2.233      40.43\n",
       "2020-11-01      2.249      37.32\n",
       "2020-11-08      2.223      37.71\n",
       "\n",
       "[1066 rows x 2 columns]"
      ]
     },
     "execution_count": 11,
     "metadata": {},
     "output_type": "execute_result"
    }
   ],
   "source": [
    "df"
   ]
  },
  {
   "cell_type": "code",
   "execution_count": 12,
   "metadata": {},
   "outputs": [
    {
     "data": {
      "text/plain": [
       "<AxesSubplot:xlabel='week'>"
      ]
     },
     "execution_count": 12,
     "metadata": {},
     "output_type": "execute_result"
    },
    {
     "data": {
      "image/png": "[encoded data removed]",
      "text/plain": [
       "<Figure size 432x288 with 1 Axes>"
      ]
     },
     "metadata": {
      "needs_background": "light"
     },
     "output_type": "display_data"
    }
   ],
   "source": [
    "df.plot()"
   ]
  },
  {
   "cell_type": "code",
   "execution_count": 13,
   "metadata": {},
   "outputs": [],
   "source": [
    "df['gas_change'] = df['gas_price'].diff()\n",
    "df['WTI_change'] = df['WTI_price'].diff()"
   ]
  },
  {
   "cell_type": "code",
   "execution_count": 14,
   "metadata": {},
   "outputs": [],
   "source": [
    "df.dropna(inplace =True)"
   ]
  },
  {
   "cell_type": "code",
   "execution_count": 15,
   "metadata": {},
   "outputs": [
    {
     "data": {
      "text/plain": [
       "<AxesSubplot:xlabel='week'>"
      ]
     },
     "execution_count": 15,
     "metadata": {},
     "output_type": "execute_result"
    },
    {
     "data": {
      "image/png": "[encoded data removed]",
      "text/plain": [
       "<Figure size 432x288 with 1 Axes>"
      ]
     },
     "metadata": {
      "needs_background": "light"
     },
     "output_type": "display_data"
    }
   ],
   "source": [
    "df[['gas_change']].plot()"
   ]
  },
  {
   "cell_type": "code",
   "execution_count": 16,
   "metadata": {},
   "outputs": [
    {
     "data": {
      "text/plain": [
       "<AxesSubplot:xlabel='week'>"
      ]
     },
     "execution_count": 16,
     "metadata": {},
     "output_type": "execute_result"
    },
    {
     "data": {
      "image/png": "[encoded data removed]",
      "text/plain": [
       "<Figure size 432x288 with 1 Axes>"
      ]
     },
     "metadata": {
      "needs_background": "light"
     },
     "output_type": "display_data"
    }
   ],
   "source": [
    "df[['WTI_change']].plot()"
   ]
  },
  {
   "cell_type": "markdown",
   "metadata": {},
   "source": [
    "## Processs the data"
   ]
  },
  {
   "cell_type": "code",
   "execution_count": 17,
   "metadata": {},
   "outputs": [],
   "source": [
    "#train test split\n",
    "train_size = int(0.8 * len(df))\n",
    "df_train = df.iloc[0:train_size]\n",
    "df_test = df.iloc[train_size:]"
   ]
  },
  {
   "cell_type": "code",
   "execution_count": 18,
   "metadata": {},
   "outputs": [
    {
     "data": {
      "text/html": [
       "<div>\n",
       "<style scoped>\n",
       "    .dataframe tbody tr th:only-of-type {\n",
       "        vertical-align: middle;\n",
       "    }\n",
       "\n",
       "    .dataframe tbody tr th {\n",
       "        vertical-align: top;\n",
       "    }\n",
       "\n",
       "    .dataframe thead th {\n",
       "        text-align: right;\n",
       "    }\n",
       "</style>\n",
       "<table border=\"1\" class=\"dataframe\">\n",
       "  <thead>\n",
       "    <tr style=\"text-align: right;\">\n",
       "      <th></th>\n",
       "      <th>gas_price</th>\n",
       "      <th>WTI_price</th>\n",
       "      <th>gas_change</th>\n",
       "      <th>WTI_change</th>\n",
       "    </tr>\n",
       "    <tr>\n",
       "      <th>week</th>\n",
       "      <th></th>\n",
       "      <th></th>\n",
       "      <th></th>\n",
       "      <th></th>\n",
       "    </tr>\n",
       "  </thead>\n",
       "  <tbody>\n",
       "    <tr>\n",
       "      <th>2000-06-18</th>\n",
       "      <td>2.091</td>\n",
       "      <td>32.45</td>\n",
       "      <td>0.142</td>\n",
       "      <td>2.66</td>\n",
       "    </tr>\n",
       "    <tr>\n",
       "      <th>2000-06-25</th>\n",
       "      <td>2.108</td>\n",
       "      <td>33.55</td>\n",
       "      <td>0.017</td>\n",
       "      <td>1.10</td>\n",
       "    </tr>\n",
       "    <tr>\n",
       "      <th>2000-07-02</th>\n",
       "      <td>1.989</td>\n",
       "      <td>32.12</td>\n",
       "      <td>-0.119</td>\n",
       "      <td>-1.43</td>\n",
       "    </tr>\n",
       "    <tr>\n",
       "      <th>2000-07-09</th>\n",
       "      <td>1.786</td>\n",
       "      <td>30.40</td>\n",
       "      <td>-0.203</td>\n",
       "      <td>-1.72</td>\n",
       "    </tr>\n",
       "    <tr>\n",
       "      <th>2000-07-16</th>\n",
       "      <td>1.688</td>\n",
       "      <td>30.44</td>\n",
       "      <td>-0.098</td>\n",
       "      <td>0.04</td>\n",
       "    </tr>\n",
       "    <tr>\n",
       "      <th>...</th>\n",
       "      <td>...</td>\n",
       "      <td>...</td>\n",
       "      <td>...</td>\n",
       "      <td>...</td>\n",
       "    </tr>\n",
       "    <tr>\n",
       "      <th>2016-09-11</th>\n",
       "      <td>2.313</td>\n",
       "      <td>45.96</td>\n",
       "      <td>-0.120</td>\n",
       "      <td>0.85</td>\n",
       "    </tr>\n",
       "    <tr>\n",
       "      <th>2016-09-18</th>\n",
       "      <td>2.367</td>\n",
       "      <td>44.34</td>\n",
       "      <td>0.054</td>\n",
       "      <td>-1.62</td>\n",
       "    </tr>\n",
       "    <tr>\n",
       "      <th>2016-09-25</th>\n",
       "      <td>2.304</td>\n",
       "      <td>44.59</td>\n",
       "      <td>-0.063</td>\n",
       "      <td>0.25</td>\n",
       "    </tr>\n",
       "    <tr>\n",
       "      <th>2016-10-02</th>\n",
       "      <td>2.320</td>\n",
       "      <td>46.55</td>\n",
       "      <td>0.016</td>\n",
       "      <td>1.96</td>\n",
       "    </tr>\n",
       "    <tr>\n",
       "      <th>2016-10-09</th>\n",
       "      <td>2.363</td>\n",
       "      <td>49.48</td>\n",
       "      <td>0.043</td>\n",
       "      <td>2.93</td>\n",
       "    </tr>\n",
       "  </tbody>\n",
       "</table>\n",
       "<p>852 rows × 4 columns</p>\n",
       "</div>"
      ],
      "text/plain": [
       "            gas_price  WTI_price  gas_change  WTI_change\n",
       "week                                                    \n",
       "2000-06-18      2.091      32.45       0.142        2.66\n",
       "2000-06-25      2.108      33.55       0.017        1.10\n",
       "2000-07-02      1.989      32.12      -0.119       -1.43\n",
       "2000-07-09      1.786      30.40      -0.203       -1.72\n",
       "2000-07-16      1.688      30.44      -0.098        0.04\n",
       "...               ...        ...         ...         ...\n",
       "2016-09-11      2.313      45.96      -0.120        0.85\n",
       "2016-09-18      2.367      44.34       0.054       -1.62\n",
       "2016-09-25      2.304      44.59      -0.063        0.25\n",
       "2016-10-02      2.320      46.55       0.016        1.96\n",
       "2016-10-09      2.363      49.48       0.043        2.93\n",
       "\n",
       "[852 rows x 4 columns]"
      ]
     },
     "execution_count": 18,
     "metadata": {},
     "output_type": "execute_result"
    }
   ],
   "source": [
    "df_train"
   ]
  },
  {
   "cell_type": "code",
   "execution_count": 19,
   "metadata": {},
   "outputs": [
    {
     "data": {
      "text/html": [
       "<div>\n",
       "<style scoped>\n",
       "    .dataframe tbody tr th:only-of-type {\n",
       "        vertical-align: middle;\n",
       "    }\n",
       "\n",
       "    .dataframe tbody tr th {\n",
       "        vertical-align: top;\n",
       "    }\n",
       "\n",
       "    .dataframe thead th {\n",
       "        text-align: right;\n",
       "    }\n",
       "</style>\n",
       "<table border=\"1\" class=\"dataframe\">\n",
       "  <thead>\n",
       "    <tr style=\"text-align: right;\">\n",
       "      <th></th>\n",
       "      <th>gas_price</th>\n",
       "      <th>WTI_price</th>\n",
       "      <th>gas_change</th>\n",
       "      <th>WTI_change</th>\n",
       "    </tr>\n",
       "    <tr>\n",
       "      <th>week</th>\n",
       "      <th></th>\n",
       "      <th></th>\n",
       "      <th></th>\n",
       "      <th></th>\n",
       "    </tr>\n",
       "  </thead>\n",
       "  <tbody>\n",
       "    <tr>\n",
       "      <th>2016-10-16</th>\n",
       "      <td>2.420</td>\n",
       "      <td>50.29</td>\n",
       "      <td>0.057</td>\n",
       "      <td>0.81</td>\n",
       "    </tr>\n",
       "    <tr>\n",
       "      <th>2016-10-23</th>\n",
       "      <td>2.291</td>\n",
       "      <td>50.56</td>\n",
       "      <td>-0.129</td>\n",
       "      <td>0.27</td>\n",
       "    </tr>\n",
       "    <tr>\n",
       "      <th>2016-10-30</th>\n",
       "      <td>2.274</td>\n",
       "      <td>49.36</td>\n",
       "      <td>-0.017</td>\n",
       "      <td>-1.20</td>\n",
       "    </tr>\n",
       "    <tr>\n",
       "      <th>2016-11-06</th>\n",
       "      <td>2.172</td>\n",
       "      <td>45.51</td>\n",
       "      <td>-0.102</td>\n",
       "      <td>-3.85</td>\n",
       "    </tr>\n",
       "    <tr>\n",
       "      <th>2016-11-13</th>\n",
       "      <td>2.246</td>\n",
       "      <td>44.61</td>\n",
       "      <td>0.074</td>\n",
       "      <td>-0.90</td>\n",
       "    </tr>\n",
       "    <tr>\n",
       "      <th>...</th>\n",
       "      <td>...</td>\n",
       "      <td>...</td>\n",
       "      <td>...</td>\n",
       "      <td>...</td>\n",
       "    </tr>\n",
       "    <tr>\n",
       "      <th>2020-10-11</th>\n",
       "      <td>2.301</td>\n",
       "      <td>40.19</td>\n",
       "      <td>-0.008</td>\n",
       "      <td>1.20</td>\n",
       "    </tr>\n",
       "    <tr>\n",
       "      <th>2020-10-18</th>\n",
       "      <td>2.267</td>\n",
       "      <td>40.33</td>\n",
       "      <td>-0.034</td>\n",
       "      <td>0.14</td>\n",
       "    </tr>\n",
       "    <tr>\n",
       "      <th>2020-10-25</th>\n",
       "      <td>2.233</td>\n",
       "      <td>40.43</td>\n",
       "      <td>-0.034</td>\n",
       "      <td>0.10</td>\n",
       "    </tr>\n",
       "    <tr>\n",
       "      <th>2020-11-01</th>\n",
       "      <td>2.249</td>\n",
       "      <td>37.32</td>\n",
       "      <td>0.016</td>\n",
       "      <td>-3.11</td>\n",
       "    </tr>\n",
       "    <tr>\n",
       "      <th>2020-11-08</th>\n",
       "      <td>2.223</td>\n",
       "      <td>37.71</td>\n",
       "      <td>-0.026</td>\n",
       "      <td>0.39</td>\n",
       "    </tr>\n",
       "  </tbody>\n",
       "</table>\n",
       "<p>213 rows × 4 columns</p>\n",
       "</div>"
      ],
      "text/plain": [
       "            gas_price  WTI_price  gas_change  WTI_change\n",
       "week                                                    \n",
       "2016-10-16      2.420      50.29       0.057        0.81\n",
       "2016-10-23      2.291      50.56      -0.129        0.27\n",
       "2016-10-30      2.274      49.36      -0.017       -1.20\n",
       "2016-11-06      2.172      45.51      -0.102       -3.85\n",
       "2016-11-13      2.246      44.61       0.074       -0.90\n",
       "...               ...        ...         ...         ...\n",
       "2020-10-11      2.301      40.19      -0.008        1.20\n",
       "2020-10-18      2.267      40.33      -0.034        0.14\n",
       "2020-10-25      2.233      40.43      -0.034        0.10\n",
       "2020-11-01      2.249      37.32       0.016       -3.11\n",
       "2020-11-08      2.223      37.71      -0.026        0.39\n",
       "\n",
       "[213 rows x 4 columns]"
      ]
     },
     "execution_count": 19,
     "metadata": {},
     "output_type": "execute_result"
    }
   ],
   "source": [
    "df_test"
   ]
  },
  {
   "cell_type": "code",
   "execution_count": 20,
   "metadata": {},
   "outputs": [],
   "source": [
    "#function for making windows\n",
    "def make_windows(X, y, time_steps=1):\n",
    "    Xs, ys = [], []\n",
    "    for i in range(len(X) - time_steps):\n",
    "        v = X.iloc[i:(i + time_steps)].values\n",
    "        Xs.append(v)\n",
    "        ys.append(y.iloc[i + time_steps])\n",
    "    return np.array(Xs), np.array(ys)"
   ]
  },
  {
   "cell_type": "code",
   "execution_count": 21,
   "metadata": {},
   "outputs": [
    {
     "name": "stdout",
     "output_type": "stream",
     "text": [
      "(832, 20, 2) (832,) (193, 20, 2) (193,)\n"
     ]
    }
   ],
   "source": [
    "time_steps = 20\n",
    "X_train, y_train = make_windows(df_train[['gas_change', 'WTI_change']], df_train['gas_change'], time_steps)\n",
    "X_test, y_test = make_windows(df_test[['gas_change', 'WTI_change']], df_test['gas_change'], time_steps)\n",
    "print(X_train.shape, y_train.shape, X_test.shape, y_test.shape)"
   ]
  },
  {
   "cell_type": "markdown",
   "metadata": {},
   "source": [
    "## Build Model"
   ]
  },
  {
   "cell_type": "code",
   "execution_count": 22,
   "metadata": {},
   "outputs": [],
   "source": [
    "from tensorflow import keras"
   ]
  },
  {
   "cell_type": "code",
   "execution_count": 23,
   "metadata": {},
   "outputs": [],
   "source": [
    "model = keras.models.Sequential([\n",
    "    # Shape [batch, time, features] => [batch, time, lstm_units]\n",
    "    keras.layers.LSTM(units = 64, input_shape=(X_train.shape[1], X_train.shape[2]), return_sequences=True),\n",
    "    keras.layers.LSTM(units = 32, input_shape=(X_train.shape[1], 64), return_sequences=False),\n",
    "    # Shape => [batch, time, features]\n",
    "    keras.layers.Dense(units=1)\n",
    "])"
   ]
  },
  {
   "cell_type": "code",
   "execution_count": 24,
   "metadata": {},
   "outputs": [],
   "source": [
    "model.compile(\n",
    "  loss='mean_squared_error',\n",
    "  optimizer=keras.optimizers.Adam(0.001)\n",
    ")"
   ]
  },
  {
   "cell_type": "code",
   "execution_count": 25,
   "metadata": {},
   "outputs": [
    {
     "name": "stdout",
     "output_type": "stream",
     "text": [
      "Epoch 1/35\n",
      "26/26 [==============================] - 1s 20ms/step - loss: 0.0081\n",
      "Epoch 2/35\n",
      "26/26 [==============================] - 1s 28ms/step - loss: 0.0076\n",
      "Epoch 3/35\n",
      "26/26 [==============================] - 1s 39ms/step - loss: 0.0085\n",
      "Epoch 4/35\n",
      "26/26 [==============================] - 1s 41ms/step - loss: 0.0078\n",
      "Epoch 5/35\n",
      "26/26 [==============================] - 1s 36ms/step - loss: 0.0075: 0s - loss:\n",
      "Epoch 6/35\n",
      "26/26 [==============================] - 0s 16ms/step - loss: 0.0070\n",
      "Epoch 7/35\n",
      "26/26 [==============================] - 1s 22ms/step - loss: 0.0068\n",
      "Epoch 8/35\n",
      "26/26 [==============================] - 1s 24ms/step - loss: 0.0067\n",
      "Epoch 9/35\n",
      "26/26 [==============================] - 1s 24ms/step - loss: 0.0066\n",
      "Epoch 10/35\n",
      "26/26 [==============================] - 1s 25ms/step - loss: 0.0066: 0s - \n",
      "Epoch 11/35\n",
      "26/26 [==============================] - 1s 25ms/step - loss: 0.0066\n",
      "Epoch 12/35\n",
      "26/26 [==============================] - 1s 25ms/step - loss: 0.0065\n",
      "Epoch 13/35\n",
      "26/26 [==============================] - 1s 25ms/step - loss: 0.0065\n",
      "Epoch 14/35\n",
      "26/26 [==============================] - 1s 25ms/step - loss: 0.0064\n",
      "Epoch 15/35\n",
      "26/26 [==============================] - 1s 22ms/step - loss: 0.0066\n",
      "Epoch 16/35\n",
      "26/26 [==============================] - 1s 25ms/step - loss: 0.0070\n",
      "Epoch 17/35\n",
      "26/26 [==============================] - 1s 27ms/step - loss: 0.0067\n",
      "Epoch 18/35\n",
      "26/26 [==============================] - 1s 32ms/step - loss: 0.0067\n",
      "Epoch 19/35\n",
      "26/26 [==============================] - 1s 32ms/step - loss: 0.0064\n",
      "Epoch 20/35\n",
      "26/26 [==============================] - 1s 32ms/step - loss: 0.0065\n",
      "Epoch 21/35\n",
      "26/26 [==============================] - 1s 32ms/step - loss: 0.0063\n",
      "Epoch 22/35\n",
      "26/26 [==============================] - 1s 23ms/step - loss: 0.0064\n",
      "Epoch 23/35\n",
      "26/26 [==============================] - 1s 23ms/step - loss: 0.0062\n",
      "Epoch 24/35\n",
      "26/26 [==============================] - 1s 26ms/step - loss: 0.0064\n",
      "Epoch 25/35\n",
      "26/26 [==============================] - 1s 25ms/step - loss: 0.0062\n",
      "Epoch 26/35\n",
      "26/26 [==============================] - 1s 24ms/step - loss: 0.0065: 0s - los\n",
      "Epoch 27/35\n",
      "26/26 [==============================] - 1s 25ms/step - loss: 0.0063\n",
      "Epoch 28/35\n",
      "26/26 [==============================] - 1s 25ms/step - loss: 0.0064\n",
      "Epoch 29/35\n",
      "26/26 [==============================] - 1s 24ms/step - loss: 0.0062\n",
      "Epoch 30/35\n",
      "26/26 [==============================] - 1s 25ms/step - loss: 0.0063\n",
      "Epoch 31/35\n",
      "26/26 [==============================] - 1s 25ms/step - loss: 0.0061\n",
      "Epoch 32/35\n",
      "26/26 [==============================] - 1s 25ms/step - loss: 0.0061\n",
      "Epoch 33/35\n",
      "26/26 [==============================] - 1s 25ms/step - loss: 0.0060\n",
      "Epoch 34/35\n",
      "26/26 [==============================] - 1s 25ms/step - loss: 0.0061\n",
      "Epoch 35/35\n",
      "26/26 [==============================] - 1s 25ms/step - loss: 0.0060\n"
     ]
    }
   ],
   "source": [
    "history = model.fit(\n",
    "    X_train, y_train,\n",
    "    epochs=35,\n",
    "    verbose=1,\n",
    "    shuffle=False\n",
    ")"
   ]
  },
  {
   "cell_type": "code",
   "execution_count": 26,
   "metadata": {},
   "outputs": [],
   "source": [
    "y_pred = model.predict(X_test)"
   ]
  },
  {
   "cell_type": "code",
   "execution_count": 27,
   "metadata": {},
   "outputs": [],
   "source": [
    "import matplotlib.pyplot as plt"
   ]
  },
  {
   "cell_type": "code",
   "execution_count": 28,
   "metadata": {},
   "outputs": [
    {
     "data": {
      "text/plain": [
       "[<matplotlib.lines.Line2D at 0x22a7755d048>]"
      ]
     },
     "execution_count": 28,
     "metadata": {},
     "output_type": "execute_result"
    },
    {
     "data": {
      "image/png": "[encoded data removed]",
      "text/plain": [
       "<Figure size 432x288 with 1 Axes>"
      ]
     },
     "metadata": {
      "needs_background": "light"
     },
     "output_type": "display_data"
    }
   ],
   "source": [
    "fig, ax = plt.subplots()\n",
    "ax.plot(y_test)\n",
    "ax.plot(y_pred)"
   ]
  },
  {
   "cell_type": "code",
   "execution_count": 29,
   "metadata": {},
   "outputs": [],
   "source": [
    "y_err = np.abs(y_test.reshape(len(df_test) - time_steps,1) - y_pred)"
   ]
  },
  {
   "cell_type": "code",
   "execution_count": 30,
   "metadata": {},
   "outputs": [
    {
     "data": {
      "text/plain": [
       "[<matplotlib.lines.Line2D at 0x22a5ecd6a08>]"
      ]
     },
     "execution_count": 30,
     "metadata": {},
     "output_type": "execute_result"
    },
    {
     "data": {
      "image/png": "[encoded data removed]",
      "text/plain": [
       "<Figure size 432x288 with 1 Axes>"
      ]
     },
     "metadata": {
      "needs_background": "light"
     },
     "output_type": "display_data"
    }
   ],
   "source": [
    "plt.plot(y_err)"
   ]
  },
  {
   "cell_type": "code",
   "execution_count": 31,
   "metadata": {},
   "outputs": [
    {
     "data": {
      "text/plain": [
       "0.060642605358001256"
      ]
     },
     "execution_count": 31,
     "metadata": {},
     "output_type": "execute_result"
    }
   ],
   "source": [
    "np.sum(y_err)/len(y_test)"
   ]
  },
  {
   "cell_type": "code",
   "execution_count": 32,
   "metadata": {},
   "outputs": [],
   "source": [
    "df_test.reset_index( inplace = True)"
   ]
  },
  {
   "cell_type": "code",
   "execution_count": 33,
   "metadata": {},
   "outputs": [],
   "source": [
    "intial_price = df_test['gas_price'].iloc[10]"
   ]
  },
  {
   "cell_type": "code",
   "execution_count": 34,
   "metadata": {},
   "outputs": [],
   "source": [
    "price_pred = [ np.sum(y_pred[1:n]) for n in range(1,len(df_test)) ]\n",
    "price_true = [ np.sum(y_test[1:n]) for n in range(1,len(df_test)) ]"
   ]
  },
  {
   "cell_type": "code",
   "execution_count": 35,
   "metadata": {},
   "outputs": [
    {
     "data": {
      "text/plain": [
       "[<matplotlib.lines.Line2D at 0x22a776655c8>]"
      ]
     },
     "execution_count": 35,
     "metadata": {},
     "output_type": "execute_result"
    },
    {
     "data": {
      "image/png": "[encoded data removed]",
      "text/plain": [
       "<Figure size 432x288 with 1 Axes>"
      ]
     },
     "metadata": {
      "needs_background": "light"
     },
     "output_type": "display_data"
    }
   ],
   "source": [
    "fig, ax = plt.subplots()\n",
    "ax.plot(price_true)\n",
    "ax.plot(price_pred)"
   ]
  },
  {
   "cell_type": "code",
   "execution_count": null,
   "metadata": {},
   "outputs": [],
   "source": []
  }
 ],
 "metadata": {
  "kernelspec": {
   "display_name": "Python 3",
   "language": "python",
   "name": "python3"
  },
  "language_info": {
   "codemirror_mode": {
    "name": "ipython",
    "version": 3
   },
   "file_extension": ".py",
   "mimetype": "text/x-python",
   "name": "python",
   "nbconvert_exporter": "python",
   "pygments_lexer": "ipython3",
   "version": "3.7.7"
  }
 },
 "nbformat": 4,
 "nbformat_minor": 4
}
